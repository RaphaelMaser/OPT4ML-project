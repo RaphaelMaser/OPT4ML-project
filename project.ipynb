{
 "cells": [
  {
   "cell_type": "code",
   "execution_count": 1,
   "metadata": {},
   "outputs": [
    {
     "name": "stderr",
     "output_type": "stream",
     "text": [
      "/home/raffi/mambaforge/envs/opt4ml/lib/python3.10/site-packages/tqdm/auto.py:21: TqdmWarning: IProgress not found. Please update jupyter and ipywidgets. See https://ipywidgets.readthedocs.io/en/stable/user_install.html\n",
      "  from .autonotebook import tqdm as notebook_tqdm\n"
     ]
    }
   ],
   "source": [
    "import torch\n",
    "import pytorch_lightning as pl\n",
    "import torchvision\n",
    "from torch import nn\n",
    "from torch.utils.data import DataLoader\n",
    "from torchvision import datasets, models, transforms\n",
    "from pytorch_lightning.loggers import TensorBoardLogger, CSVLogger\n",
    "from ray import air, tune\n",
    "import ray\n",
    "from ray.air.config import RunConfig, ScalingConfig, CheckpointConfig\n",
    "from ray.train.lightning import LightningTrainer, LightningConfigBuilder\n",
    "import numpy as np\n",
    "import os\n",
    "import torch.nn.functional as F\n",
    "from pytorch_lightning.callbacks import RichProgressBar\n",
    "import tensorboard\n",
    "import pandas as pd\n",
    "from ray.tune.integration.pytorch_lightning import TuneReportCallback"
   ]
  },
  {
   "attachments": {},
   "cell_type": "markdown",
   "metadata": {},
   "source": [
    "## Pytorch Lightning Modules"
   ]
  },
  {
   "attachments": {},
   "cell_type": "markdown",
   "metadata": {},
   "source": [
    "### Data Module"
   ]
  },
  {
   "cell_type": "code",
   "execution_count": 2,
   "metadata": {},
   "outputs": [],
   "source": [
    "class CIFAR10DataModule(pl.LightningDataModule):\n",
    "    def __init__(self, batch_size=64, cwd=None):\n",
    "        super().__init__()\n",
    "        self.batch_size = batch_size\n",
    "        self.data_path = os.path.join(cwd, \"data\")\n",
    "        self.transform = transforms.Compose([\n",
    "            transforms.ToTensor(),\n",
    "            transforms.Normalize((0.5, 0.5, 0.5), (0.5, 0.5, 0.5))\n",
    "        ])\n",
    "\n",
    "    def prepare_data(self):\n",
    "        datasets.CIFAR10(root=self.data_path, train=True, download=True)\n",
    "        datasets.CIFAR10(root=self.data_path, train=False, download=True)\n",
    "\n",
    "    def setup(self, stage=None):\n",
    "        if stage == 'fit' or stage is None:\n",
    "            self.cifar10_train = datasets.CIFAR10(root=self.data_path, train=True, transform=self.transform)\n",
    "            self.cifar10_val = datasets.CIFAR10(root=self.data_path, train=False, transform=self.transform)\n",
    "\n",
    "    def train_dataloader(self):\n",
    "        return DataLoader(self.cifar10_train, batch_size=self.batch_size, num_workers=1, shuffle=True)\n",
    "\n",
    "    def val_dataloader(self):\n",
    "        return DataLoader(self.cifar10_val, batch_size=self.batch_size, num_workers=1, shuffle=True)"
   ]
  },
  {
   "attachments": {},
   "cell_type": "markdown",
   "metadata": {},
   "source": [
    "### Networks"
   ]
  },
  {
   "cell_type": "code",
   "execution_count": 3,
   "metadata": {},
   "outputs": [],
   "source": [
    "class SmallNet(nn.Module):\n",
    "    def __init__(self):\n",
    "        super(SmallNet, self).__init__()\n",
    "        # Reduced the number of output channels\n",
    "        self.conv1 = nn.Conv2d(3, 16, 3, padding=1)\n",
    "        self.conv2 = nn.Conv2d(16, 32, 3, padding=1)\n",
    "        self.pool = nn.MaxPool2d(2, 2)\n",
    "        # Reduced the input features of the fully connected layer\n",
    "        self.fc1 = nn.Linear(32 * 16 * 16, 64) # reduced from 128 to 64\n",
    "        self.fc2 = nn.Linear(64, 10) # output layer remains the same\n",
    "\n",
    "    def forward(self, x):\n",
    "        x = F.relu(self.conv1(x))\n",
    "        x = self.pool(F.relu(self.conv2(x)))\n",
    "        x = x.view(-1, 32 * 16 * 16) # match the number of output channels from conv2\n",
    "        x = F.relu(self.fc1(x))\n",
    "        x = self.fc2(x)\n",
    "        return x\n"
   ]
  },
  {
   "cell_type": "code",
   "execution_count": 4,
   "metadata": {},
   "outputs": [],
   "source": [
    "class SmallNetLightning(pl.LightningModule):\n",
    "    def __init__(self, config):\n",
    "        super().__init__()\n",
    "        self.config = config\n",
    "        #self.model = torchvision.models.resnet18()\n",
    "        self.model = SmallNet()\n",
    "        #num_ftrs = self.model.fc.in_features\n",
    "        #self.model.fc = nn.Linear(num_ftrs, 10)  # CIFAR10 has 10 classes\n",
    "        self.loss = torch.nn.CrossEntropyLoss()\n",
    "        self.training_step_outputs = []\n",
    "        self.validation_step_outputs = []\n",
    "        \n",
    "    def forward(self, x):\n",
    "        return self.model(x)\n",
    "    \n",
    "    def training_step(self, batch, batch_idx):\n",
    "        x, y = batch\n",
    "        y_hat = self.model(x)\n",
    "        loss = self.loss(y_hat, y)\n",
    "        self.log('train_loss', loss, prog_bar=True, logger=True, on_step=False, on_epoch=True, sync_dist=True)\n",
    "        return loss\n",
    "        \n",
    "    def validation_step(self, batch, batch_idx):\n",
    "        x, y = batch\n",
    "        y_hat = self.model(x)\n",
    "        loss = self.loss(y_hat, y)\n",
    "        self.log('val_loss', loss, prog_bar=True, logger=True, on_step=False, on_epoch=True, sync_dist=True)\n",
    "        return loss\n",
    "    \n",
    "    def configure_optimizers(self):\n",
    "        # takes the constructor of the optimizer as input (for example torch.optim.Adam)\n",
    "        return self.config[\"optimizer\"](self.model.parameters(), **self.config[\"parameters\"])\n"
   ]
  },
  {
   "attachments": {},
   "cell_type": "markdown",
   "metadata": {},
   "source": [
    "## Hyperparameter Search with Ray"
   ]
  },
  {
   "cell_type": "code",
   "execution_count": 5,
   "metadata": {},
   "outputs": [],
   "source": [
    "def train(batch_size=64, epochs=10, config=None, accelerator=\"cuda\" if torch.cuda.is_available() else \"cpu\", num_workers=1, cwd=None, logger_name=\"my_model\", train_batches_per_epoch=0.1, val_batches_per_epoch=0.2):\n",
    "    '''\n",
    "    batch_size: batch size for training\n",
    "    config: dictionary containing the optimizer and its parameters\n",
    "    accelerator: \"cuda\" or \"cpu\"\n",
    "    num_workers: number of parallel trials to run (each trial uses 1 cpu core and 1 gpu core, if available)\n",
    "    cwd: current working directory\n",
    "    logger_name: name of the directory (used for tensorboard and csv logs)\n",
    "    train_batches_per_epoch: fraction of training data to use per epoch\n",
    "    val_batches_per_epoch: fraction of validation data to use per epoch\n",
    "    '''\n",
    "    \n",
    "    torch.manual_seed(42)\n",
    "    \n",
    "    data_module = CIFAR10DataModule(batch_size=batch_size, cwd=cwd)\n",
    "    #logger = TensorBoardLogger(os.path.join(cwd,\"tensorboard_logs\"), name=logger_name)\n",
    "    logger = CSVLogger(os.path.join(cwd,\"csv_logs\"), name=logger_name)\n",
    "    #tune_logger = TuneReportCallback([\"train_loss, val_loss\"], on=\"on_test_epoch_end\")\n",
    "    \n",
    "    lightning_config = (\n",
    "        LightningConfigBuilder()\n",
    "        .module(cls=SmallNetLightning, config=config)\n",
    "        .trainer(max_epochs=epochs, accelerator=accelerator, logger=None, callbacks=[RichProgressBar(leave=True)], limit_train_batches=train_batches_per_epoch, limit_val_batches=val_batches_per_epoch)\n",
    "        .fit_params(datamodule=data_module)\n",
    "        #.checkpointing(monitor=\"val_loss\", save_top_k=0, mode=\"min\")\n",
    "        .build()\n",
    "    )\n",
    "\n",
    "    run_config = RunConfig(\n",
    "        # checkpoint_config=CheckpointConfig(\n",
    "        #     num_to_keep=1,\n",
    "        #     checkpoint_score_attribute=\"val_loss\",\n",
    "        #     checkpoint_score_order=\"min\",\n",
    "        #  ),\n",
    "    )\n",
    "\n",
    "    scaling_config = ScalingConfig(\n",
    "        num_workers=num_workers, resources_per_worker={\"CPU\": 1, \"GPU\": 1 if accelerator==\"cuda\" else 0}\n",
    "    )\n",
    "\n",
    "    # Define a base LightningTrainer without hyper-parameters for Tuner\n",
    "    lightning_trainer = LightningTrainer(\n",
    "        scaling_config=scaling_config,\n",
    "        run_config=run_config,\n",
    "    )   \n",
    "\n",
    "    tuner = tune.Tuner(\n",
    "        lightning_trainer,\n",
    "        param_space={\"lightning_config\": lightning_config},\n",
    "        tune_config=tune.TuneConfig(\n",
    "            max_concurrent_trials=1,\n",
    "            metric=\"val_loss\",\n",
    "            mode=\"min\",\n",
    "            #num_samples=num_samples,\n",
    "        ),\n",
    "        run_config=air.RunConfig(\n",
    "            storage_path=cwd,\n",
    "            name=\"tune_cifar10\",\n",
    "        ),\n",
    "    )\n",
    "    results = tuner.fit()\n",
    "    #best_result = results.get_best_result(metric=\"val_loss\", mode=\"max\")\n",
    "    return results"
   ]
  },
  {
   "attachments": {},
   "cell_type": "markdown",
   "metadata": {},
   "source": [
    "## Example Experiment"
   ]
  },
  {
   "cell_type": "code",
   "execution_count": 6,
   "metadata": {},
   "outputs": [
    {
     "name": "stderr",
     "output_type": "stream",
     "text": [
      "2023-06-22 17:18:37,353\tINFO worker.py:1627 -- Started a local Ray instance. View the dashboard at \u001b[1m\u001b[32m127.0.0.1:8265 \u001b[39m\u001b[22m\n"
     ]
    },
    {
     "data": {
      "text/html": [
       "<div class=\"tuneStatus\">\n",
       "  <div style=\"display: flex;flex-direction: row\">\n",
       "    <div style=\"display: flex;flex-direction: column;\">\n",
       "      <h3>Tune Status</h3>\n",
       "      <table>\n",
       "<tbody>\n",
       "<tr><td>Current time:</td><td>2023-06-22 17:27:27</td></tr>\n",
       "<tr><td>Running for: </td><td>00:08:23.41        </td></tr>\n",
       "<tr><td>Memory:      </td><td>10.6/30.6 GiB      </td></tr>\n",
       "</tbody>\n",
       "</table>\n",
       "    </div>\n",
       "    <div class=\"vDivider\"></div>\n",
       "    <div class=\"systemInfo\">\n",
       "      <h3>System Info</h3>\n",
       "      Using FIFO scheduling algorithm.<br>Logical resource usage: 2.0/16 CPUs, 0/0 GPUs\n",
       "    </div>\n",
       "    \n",
       "  </div>\n",
       "  <div class=\"hDivider\"></div>\n",
       "  <div class=\"trialStatus\">\n",
       "    <h3>Trial Status</h3>\n",
       "    <table>\n",
       "<thead>\n",
       "<tr><th>Trial name                  </th><th>status    </th><th>loc                 </th><th style=\"text-align: right;\">            ...dule_init_config/\n",
       "config/parameters/lr</th><th style=\"text-align: right;\">            ...config/config/par\n",
       "ameters/weight_decay</th><th style=\"text-align: right;\">  iter</th><th style=\"text-align: right;\">  total time (s)</th><th style=\"text-align: right;\">  val_loss</th><th style=\"text-align: right;\">  train_loss</th><th style=\"text-align: right;\">  epoch</th></tr>\n",
       "</thead>\n",
       "<tbody>\n",
       "<tr><td>LightningTrainer_1f9d2_00000</td><td>TERMINATED</td><td>192.168.2.113:142686</td><td style=\"text-align: right;\">0.1        </td><td style=\"text-align: right;\">0.1        </td><td style=\"text-align: right;\">     5</td><td style=\"text-align: right;\">        436.934 </td><td style=\"text-align: right;\">   2.25788</td><td style=\"text-align: right;\">     2.27008</td><td style=\"text-align: right;\">      4</td></tr>\n",
       "<tr><td>LightningTrainer_1f9d2_00001</td><td>TERMINATED</td><td>192.168.2.113:142687</td><td style=\"text-align: right;\">0.000316228</td><td style=\"text-align: right;\">0.1        </td><td style=\"text-align: right;\">     5</td><td style=\"text-align: right;\">        433.943 </td><td style=\"text-align: right;\">   2.3021 </td><td style=\"text-align: right;\">     2.29978</td><td style=\"text-align: right;\">      4</td></tr>\n",
       "<tr><td>LightningTrainer_1f9d2_00002</td><td>TERMINATED</td><td>192.168.2.113:142688</td><td style=\"text-align: right;\">1e-06      </td><td style=\"text-align: right;\">0.1        </td><td style=\"text-align: right;\">     5</td><td style=\"text-align: right;\">        435.699 </td><td style=\"text-align: right;\">   2.30443</td><td style=\"text-align: right;\">     2.30811</td><td style=\"text-align: right;\">      4</td></tr>\n",
       "<tr><td>LightningTrainer_1f9d2_00003</td><td>TERMINATED</td><td>192.168.2.113:142689</td><td style=\"text-align: right;\">0.1        </td><td style=\"text-align: right;\">0.000316228</td><td style=\"text-align: right;\">     5</td><td style=\"text-align: right;\">        440.777 </td><td style=\"text-align: right;\">   2.08175</td><td style=\"text-align: right;\">     2.13699</td><td style=\"text-align: right;\">      4</td></tr>\n",
       "<tr><td>LightningTrainer_1f9d2_00004</td><td>TERMINATED</td><td>192.168.2.113:142713</td><td style=\"text-align: right;\">0.000316228</td><td style=\"text-align: right;\">0.000316228</td><td style=\"text-align: right;\">     5</td><td style=\"text-align: right;\">        419.866 </td><td style=\"text-align: right;\">   2.30782</td><td style=\"text-align: right;\">     2.30244</td><td style=\"text-align: right;\">      4</td></tr>\n",
       "<tr><td>LightningTrainer_1f9d2_00005</td><td>TERMINATED</td><td>192.168.2.113:142719</td><td style=\"text-align: right;\">1e-06      </td><td style=\"text-align: right;\">0.000316228</td><td style=\"text-align: right;\">     5</td><td style=\"text-align: right;\">        438.332 </td><td style=\"text-align: right;\">   2.30264</td><td style=\"text-align: right;\">     2.30628</td><td style=\"text-align: right;\">      4</td></tr>\n",
       "<tr><td>LightningTrainer_1f9d2_00006</td><td>TERMINATED</td><td>192.168.2.113:142730</td><td style=\"text-align: right;\">0.1        </td><td style=\"text-align: right;\">1e-06      </td><td style=\"text-align: right;\">     5</td><td style=\"text-align: right;\">        436.253 </td><td style=\"text-align: right;\">   2.13372</td><td style=\"text-align: right;\">     2.17796</td><td style=\"text-align: right;\">      4</td></tr>\n",
       "<tr><td>LightningTrainer_1f9d2_00007</td><td>TERMINATED</td><td>192.168.2.113:142819</td><td style=\"text-align: right;\">0.000316228</td><td style=\"text-align: right;\">1e-06      </td><td style=\"text-align: right;\">     5</td><td style=\"text-align: right;\">        430.849 </td><td style=\"text-align: right;\">   2.30657</td><td style=\"text-align: right;\">     2.31026</td><td style=\"text-align: right;\">      4</td></tr>\n",
       "<tr><td>LightningTrainer_1f9d2_00008</td><td>TERMINATED</td><td>192.168.2.113:148327</td><td style=\"text-align: right;\">1e-06      </td><td style=\"text-align: right;\">1e-06      </td><td style=\"text-align: right;\">     5</td><td style=\"text-align: right;\">         15.1133</td><td style=\"text-align: right;\">   2.30435</td><td style=\"text-align: right;\">     2.30706</td><td style=\"text-align: right;\">      4</td></tr>\n",
       "</tbody>\n",
       "</table>\n",
       "  </div>\n",
       "</div>\n",
       "<style>\n",
       ".tuneStatus {\n",
       "  color: var(--jp-ui-font-color1);\n",
       "}\n",
       ".tuneStatus .systemInfo {\n",
       "  display: flex;\n",
       "  flex-direction: column;\n",
       "}\n",
       ".tuneStatus td {\n",
       "  white-space: nowrap;\n",
       "}\n",
       ".tuneStatus .trialStatus {\n",
       "  display: flex;\n",
       "  flex-direction: column;\n",
       "}\n",
       ".tuneStatus h3 {\n",
       "  font-weight: bold;\n",
       "}\n",
       ".tuneStatus .hDivider {\n",
       "  border-bottom-width: var(--jp-border-width);\n",
       "  border-bottom-color: var(--jp-border-color0);\n",
       "  border-bottom-style: solid;\n",
       "}\n",
       ".tuneStatus .vDivider {\n",
       "  border-left-width: var(--jp-border-width);\n",
       "  border-left-color: var(--jp-border-color0);\n",
       "  border-left-style: solid;\n",
       "  margin: 0.5em 1em 0.5em 1em;\n",
       "}\n",
       "</style>\n"
      ],
      "text/plain": [
       "<IPython.core.display.HTML object>"
      ]
     },
     "metadata": {},
     "output_type": "display_data"
    },
    {
     "name": "stderr",
     "output_type": "stream",
     "text": [
      "\u001b[2m\u001b[36m(LightningTrainer pid=142730)\u001b[0m 2023-06-22 17:19:55,254\tINFO backend_executor.py:137 -- Starting distributed worker processes: ['143131 (192.168.2.113)']\n",
      "\u001b[2m\u001b[36m(RayTrainWorker pid=143146)\u001b[0m 2023-06-22 17:20:16,727\tINFO config.py:86 -- Setting up process group for: env:// [rank=0, world_size=1]\n",
      "\u001b[2m\u001b[36m(LightningTrainer pid=142689)\u001b[0m 2023-06-22 17:19:57,568\tINFO backend_executor.py:137 -- Starting distributed worker processes: ['143229 (192.168.2.113)']\u001b[32m [repeated 7x across cluster] (Ray deduplicates logs by default. Set RAY_DEDUP_LOGS=0 to disable log deduplication, or see https://docs.ray.io/en/master/ray-observability/ray-logging.html#log-deduplication for more options.)\u001b[0m\n",
      "\u001b[2m\u001b[36m(RayTrainWorker pid=143170)\u001b[0m 2023-06-22 17:20:24,511\tINFO config.py:86 -- Setting up process group for: env:// [rank=0, world_size=1]\u001b[32m [repeated 2x across cluster]\u001b[0m\n",
      "\u001b[2m\u001b[36m(RayTrainWorker pid=143375)\u001b[0m 2023-06-22 17:20:29,790\tINFO config.py:86 -- Setting up process group for: env:// [rank=0, world_size=1]\u001b[32m [repeated 4x across cluster]\u001b[0m\n",
      "\u001b[2m\u001b[36m(RayTrainWorker pid=143146)\u001b[0m GPU available: False, used: False\n",
      "\u001b[2m\u001b[36m(RayTrainWorker pid=143146)\u001b[0m TPU available: False, using: 0 TPU cores\n",
      "\u001b[2m\u001b[36m(RayTrainWorker pid=143146)\u001b[0m IPU available: False, using: 0 IPUs\n",
      "\u001b[2m\u001b[36m(RayTrainWorker pid=143146)\u001b[0m HPU available: False, using: 0 HPUs\n",
      "\u001b[2m\u001b[36m(RayTrainWorker pid=143245)\u001b[0m HPU available: False, using: 0 HPUs\n",
      "\u001b[2m\u001b[36m(RayTrainWorker pid=143229)\u001b[0m GPU available: False, used: False\u001b[32m [repeated 2x across cluster]\u001b[0m\n",
      "\u001b[2m\u001b[36m(RayTrainWorker pid=143229)\u001b[0m TPU available: False, using: 0 TPU cores\u001b[32m [repeated 2x across cluster]\u001b[0m\n",
      "\u001b[2m\u001b[36m(RayTrainWorker pid=143229)\u001b[0m IPU available: False, using: 0 IPUs\u001b[32m [repeated 2x across cluster]\u001b[0m\n",
      "\u001b[2m\u001b[36m(RayTrainWorker pid=143131)\u001b[0m IPU available: False, using: 0 IPUs\n",
      "\u001b[2m\u001b[36m(RayTrainWorker pid=143229)\u001b[0m HPU available: False, using: 0 HPUs\n",
      "\u001b[2m\u001b[36m(RayTrainWorker pid=143270)\u001b[0m GPU available: False, used: False\u001b[32m [repeated 3x across cluster]\u001b[0m\n",
      "\u001b[2m\u001b[36m(RayTrainWorker pid=143270)\u001b[0m TPU available: False, using: 0 TPU cores\u001b[32m [repeated 3x across cluster]\u001b[0m\n",
      "\u001b[2m\u001b[36m(RayTrainWorker pid=143270)\u001b[0m IPU available: False, using: 0 IPUs\u001b[32m [repeated 3x across cluster]\u001b[0m\n",
      "\u001b[2m\u001b[36m(RayTrainWorker pid=143270)\u001b[0m HPU available: False, using: 0 HPUs\u001b[32m [repeated 3x across cluster]\u001b[0m\n"
     ]
    },
    {
     "name": "stdout",
     "output_type": "stream",
     "text": [
      "\u001b[2m\u001b[36m(RayTrainWorker pid=143146)\u001b[0m Files already downloaded and verified\n"
     ]
    },
    {
     "name": "stderr",
     "output_type": "stream",
     "text": [
      "\u001b[2m\u001b[36m(RayTrainWorker pid=143245)\u001b[0m GPU available: False, used: False\u001b[32m [repeated 2x across cluster]\u001b[0m\n",
      "\u001b[2m\u001b[36m(RayTrainWorker pid=143245)\u001b[0m TPU available: False, using: 0 TPU cores\u001b[32m [repeated 2x across cluster]\u001b[0m\n",
      "\u001b[2m\u001b[36m(RayTrainWorker pid=143245)\u001b[0m IPU available: False, using: 0 IPUs\u001b[32m [repeated 2x across cluster]\u001b[0m\n",
      "\u001b[2m\u001b[36m(RayTrainWorker pid=143245)\u001b[0m HPU available: False, using: 0 HPUs\u001b[32m [repeated 2x across cluster]\u001b[0m\n"
     ]
    },
    {
     "name": "stdout",
     "output_type": "stream",
     "text": [
      "\u001b[2m\u001b[36m(RayTrainWorker pid=143131)\u001b[0m Files already downloaded and verified\n",
      "\u001b[2m\u001b[36m(RayTrainWorker pid=143229)\u001b[0m Files already downloaded and verified\n",
      "\u001b[2m\u001b[36m(RayTrainWorker pid=143270)\u001b[0m Files already downloaded and verified\u001b[32m [repeated 3x across cluster]\u001b[0m\n",
      "\u001b[2m\u001b[36m(RayTrainWorker pid=143146)\u001b[0m Files already downloaded and verified\u001b[32m [repeated 3x across cluster]\u001b[0m\n",
      "\u001b[2m\u001b[36m(RayTrainWorker pid=143131)\u001b[0m Files already downloaded and verified\n",
      "\u001b[2m\u001b[36m(RayTrainWorker pid=143229)\u001b[0m Files already downloaded and verified\n"
     ]
    },
    {
     "name": "stderr",
     "output_type": "stream",
     "text": [
      "\u001b[2m\u001b[36m(RayTrainWorker pid=143146)\u001b[0m Missing logger folder: /home/raffi/Projects/OPT4ML-project/tune_cifar10/LightningTrainer_1f9d2_00004_4_lr=0.0003,weight_decay=0.0003_2023-06-22_17-19-05/rank_0/lightning_logs\n"
     ]
    },
    {
     "name": "stdout",
     "output_type": "stream",
     "text": [
      "\u001b[2m\u001b[36m(RayTrainWorker pid=143375)\u001b[0m Files already downloaded and verified\u001b[32m [repeated 3x across cluster]\u001b[0m\n"
     ]
    },
    {
     "name": "stderr",
     "output_type": "stream",
     "text": [
      "\u001b[2m\u001b[36m(RayTrainWorker pid=143131)\u001b[0m Missing logger folder: /home/raffi/Projects/OPT4ML-project/tune_cifar10/LightningTrainer_1f9d2_00006_6_lr=0.1000,weight_decay=0.0000_2023-06-22_17-19-05/rank_0/lightning_logs\n",
      "\u001b[2m\u001b[36m(RayTrainWorker pid=143170)\u001b[0m Missing logger folder: /home/raffi/Projects/OPT4ML-project/tune_cifar10/LightningTrainer_1f9d2_00007_7_lr=0.0003,weight_decay=0.0000_2023-06-22_17-19-05/rank_0/lightning_logs\n"
     ]
    },
    {
     "name": "stdout",
     "output_type": "stream",
     "text": [
      "\u001b[2m\u001b[36m(RayTrainWorker pid=143146)\u001b[0m ┏━━━┳━━━━━━━┳━━━━━━━━━━━━━━━━━━┳━━━━━━━━┓\n",
      "\u001b[2m\u001b[36m(RayTrainWorker pid=143146)\u001b[0m ┃\u001b[1;35m \u001b[0m\u001b[1;35m \u001b[0m\u001b[1;35m \u001b[0m┃\u001b[1;35m \u001b[0m\u001b[1;35mName \u001b[0m\u001b[1;35m \u001b[0m┃\u001b[1;35m \u001b[0m\u001b[1;35mType            \u001b[0m\u001b[1;35m \u001b[0m┃\u001b[1;35m \u001b[0m\u001b[1;35mParams\u001b[0m\u001b[1;35m \u001b[0m┃\n",
      "\u001b[2m\u001b[36m(RayTrainWorker pid=143146)\u001b[0m ┡━━━╇━━━━━━━╇━━━━━━━━━━━━━━━━━━╇━━━━━━━━┩\n",
      "\u001b[2m\u001b[36m(RayTrainWorker pid=143146)\u001b[0m │\u001b[2m \u001b[0m\u001b[2m0\u001b[0m\u001b[2m \u001b[0m│ model │ SmallNet         │  530 K │\n",
      "\u001b[2m\u001b[36m(RayTrainWorker pid=143146)\u001b[0m │\u001b[2m \u001b[0m\u001b[2m1\u001b[0m\u001b[2m \u001b[0m│ loss  │ CrossEntropyLoss │      0 │\n",
      "\u001b[2m\u001b[36m(RayTrainWorker pid=143146)\u001b[0m └───┴───────┴──────────────────┴────────┘\n",
      "\u001b[2m\u001b[36m(RayTrainWorker pid=143146)\u001b[0m \u001b[1mTrainable params\u001b[0m: 530 K                                                         \n",
      "\u001b[2m\u001b[36m(RayTrainWorker pid=143146)\u001b[0m \u001b[1mNon-trainable params\u001b[0m: 0                                                         \n",
      "\u001b[2m\u001b[36m(RayTrainWorker pid=143146)\u001b[0m \u001b[1mTotal params\u001b[0m: 530 K                                                             \n",
      "\u001b[2m\u001b[36m(RayTrainWorker pid=143146)\u001b[0m \u001b[1mTotal estimated model params size (MB)\u001b[0m: 2                                       \n",
      "\u001b[2m\u001b[36m(RayTrainWorker pid=143245)\u001b[0m Files already downloaded and verified\u001b[32m [repeated 2x across cluster]\u001b[0m\n",
      "\u001b[2m\u001b[36m(RayTrainWorker pid=143146)\u001b[0m \u001b[?25l\n",
      "\u001b[2K/home/raffi/mambaforge/envs/opt4ml/lib/python3.10/site-packages/pytorch_lightnin\n",
      "\u001b[2m\u001b[36m(RayTrainWorker pid=143146)\u001b[0m g/trainer/connectors/data_connector.py:480: PossibleUserWarning: Your \n",
      "\u001b[2m\u001b[36m(RayTrainWorker pid=143146)\u001b[0m `val_dataloader`'s sampler has shuffling enabled, it is strongly recommended \n",
      "\u001b[2m\u001b[36m(RayTrainWorker pid=143146)\u001b[0m that you turn shuffling off for val/test dataloaders.\n",
      "\u001b[2m\u001b[36m(RayTrainWorker pid=143146)\u001b[0m   rank_zero_warn(\n",
      "\u001b[2K/home/raffi/mambaforge/envs/opt4ml/lib/python3.10/site-packages/pytorch_lightnin\n",
      "\u001b[2m\u001b[36m(RayTrainWorker pid=143146)\u001b[0m g/trainer/connectors/data_connector.py:432: PossibleUserWarning: The dataloader,\n",
      "\u001b[2m\u001b[36m(RayTrainWorker pid=143146)\u001b[0m val_dataloader, does not have many workers which may be a bottleneck. Consider \n",
      "\u001b[2m\u001b[36m(RayTrainWorker pid=143146)\u001b[0m increasing the value of the `num_workers` argument` (try 16 which is the number \n",
      "\u001b[2m\u001b[36m(RayTrainWorker pid=143146)\u001b[0m of cpus on this machine) in the `DataLoader` init to improve performance.\n",
      "\u001b[2m\u001b[36m(RayTrainWorker pid=143146)\u001b[0m   rank_zero_warn(\n",
      "\u001b[2K\u001b[36m(RayTrainWorker pid=143146)\u001b[0m \n",
      "\u001b[2K\u001b[37mSanity Checking\u001b[0m \u001b[35m━━━━━━━━━━━━━━━\u001b[0m\u001b[35m╸\u001b[0m\u001b[90m━━━━━━━━━━━━━━━\u001b[0m \u001b[37m1/2\u001b[0m \u001b[37m0:00:01 • -:--:--\u001b[0m \u001b[37m0.00it/s\u001b[0m \n",
      "\u001b[2m\u001b[36m(RayTrainWorker pid=143131)\u001b[0m ┏━━━┳━━━━━━━┳━━━━━━━━━━━━━━━━━━┳━━━━━━━━┓\n",
      "\u001b[2m\u001b[36m(RayTrainWorker pid=143131)\u001b[0m ┃\u001b[1;35m \u001b[0m\u001b[1;35m \u001b[0m\u001b[1;35m \u001b[0m┃\u001b[1;35m \u001b[0m\u001b[1;35mName \u001b[0m\u001b[1;35m \u001b[0m┃\u001b[1;35m \u001b[0m\u001b[1;35mType            \u001b[0m\u001b[1;35m \u001b[0m┃\u001b[1;35m \u001b[0m\u001b[1;35mParams\u001b[0m\u001b[1;35m \u001b[0m┃\n",
      "\u001b[2m\u001b[36m(RayTrainWorker pid=143131)\u001b[0m ┡━━━╇━━━━━━━╇━━━━━━━━━━━━━━━━━━╇━━━━━━━━┩\n",
      "\u001b[2m\u001b[36m(RayTrainWorker pid=143131)\u001b[0m │\u001b[2m \u001b[0m\u001b[2m0\u001b[0m\u001b[2m \u001b[0m│ model │ SmallNet         │  530 K │\n",
      "\u001b[2m\u001b[36m(RayTrainWorker pid=143131)\u001b[0m │\u001b[2m \u001b[0m\u001b[2m1\u001b[0m\u001b[2m \u001b[0m│ loss  │ CrossEntropyLoss │      0 │\n",
      "\u001b[2m\u001b[36m(RayTrainWorker pid=143131)\u001b[0m └───┴───────┴──────────────────┴────────┘\n",
      "\u001b[2m\u001b[36m(RayTrainWorker pid=143131)\u001b[0m \u001b[1mTrainable params\u001b[0m: 530 K                                                         \n",
      "\u001b[2m\u001b[36m(RayTrainWorker pid=143131)\u001b[0m \u001b[1mNon-trainable params\u001b[0m: 0                                                         \n",
      "\u001b[2m\u001b[36m(RayTrainWorker pid=143131)\u001b[0m \u001b[1mTotal params\u001b[0m: 530 K                                                             \n",
      "\u001b[2m\u001b[36m(RayTrainWorker pid=143131)\u001b[0m \u001b[1mTotal estimated model params size (MB)\u001b[0m: 2                                       \n",
      "\u001b[2K\u001b[37mSanity Checking\u001b[0m \u001b[35m━━━━━━━━━━━━━━━━━━━━━━━━━━━━━━━\u001b[0m \u001b[37m2/2\u001b[0m \u001b[37m0:00:02 • 0:00:00\u001b[0m \u001b[37m1.00it/s\u001b[0m \n",
      "\u001b[2K\u001b[37mSanity Checking\u001b[0m \u001b[35m━━━━━━━━━━━━━━━━━━━━━━━━━━━━━━━\u001b[0m \u001b[37m2/2\u001b[0m \u001b[37m0:00:02 • 0:00:00\u001b[0m \u001b[37m1.00it/s\u001b[0m \n"
     ]
    },
    {
     "name": "stderr",
     "output_type": "stream",
     "text": [
      "\u001b[2m\u001b[36m(RayTrainWorker pid=143146)\u001b[0m E0622 17:22:01.689357891  143558 fork_posix.cc:76]           Other threads are currently calling into gRPC, skipping fork() handlers\n",
      "\u001b[2m\u001b[36m(RayTrainWorker pid=143245)\u001b[0m Missing logger folder: /home/raffi/Projects/OPT4ML-project/tune_cifar10/LightningTrainer_1f9d2_00000_0_lr=0.1000,weight_decay=0.1000_2023-06-22_17-19-04/rank_0/lightning_logs\u001b[32m [repeated 5x across cluster]\u001b[0m\n"
     ]
    },
    {
     "name": "stdout",
     "output_type": "stream",
     "text": [
      "\u001b[2m\u001b[36m(RayTrainWorker pid=143146)\u001b[0m g/trainer/connectors/data_connector.py:432: PossibleUserWarning: The dataloader,\n",
      "\u001b[2m\u001b[36m(RayTrainWorker pid=143146)\u001b[0m train_dataloader, does not have many workers which may be a bottleneck. Consider\n",
      "\u001b[2m\u001b[36m(RayTrainWorker pid=143146)\u001b[0m increasing the value of the `num_workers` argument` (try 16 which is the number \n",
      "\u001b[2m\u001b[36m(RayTrainWorker pid=143146)\u001b[0m of cpus on this machine) in the `DataLoader` init to improve performance.\n",
      "\u001b[2m\u001b[36m(RayTrainWorker pid=143146)\u001b[0m   rank_zero_warn(\n",
      "\u001b[2m\u001b[36m(RayTrainWorker pid=143146)\u001b[0m g/loops/fit_loop.py:280: PossibleUserWarning: The number of training batches (7)\n",
      "\u001b[2m\u001b[36m(RayTrainWorker pid=143146)\u001b[0m is smaller than the logging interval Trainer(log_every_n_steps=50). Set a lower \n",
      "\u001b[2m\u001b[36m(RayTrainWorker pid=143146)\u001b[0m value for log_every_n_steps if you want to see logs for the training epoch.\n",
      "\u001b[2m\u001b[36m(RayTrainWorker pid=143146)\u001b[0m   rank_zero_warn(\n",
      "\u001b[2K\u001b[37mEpoch 0/4 \u001b[0m \u001b[90m━━━━━━━━━━━━━━━━━━\u001b[0m \u001b[37m0/7\u001b[0m \u001b[37m0:00:00 • -:--:--\u001b[0m \u001b[37m0.00it/s\u001b[0m \u001b[37mv_num: 0 val_loss: \u001b[0m\n",
      "\u001b[2m\u001b[36m(RayTrainWorker pid=143131)\u001b[0m g/trainer/connectors/data_connector.py:480: PossibleUserWarning: Your \n",
      "\u001b[2m\u001b[36m(RayTrainWorker pid=143131)\u001b[0m `val_dataloader`'s sampler has shuffling enabled, it is strongly recommended \n",
      "\u001b[2m\u001b[36m(RayTrainWorker pid=143131)\u001b[0m that you turn shuffling off for val/test dataloaders.\n",
      "\u001b[2m\u001b[36m(RayTrainWorker pid=143229)\u001b[0m ┏━━━┳━━━━━━━┳━━━━━━━━━━━━━━━━━━┳━━━━━━━━┓\u001b[32m [repeated 2x across cluster]\u001b[0m\n",
      "\u001b[2K/home/raffi/mambaforge/envs/opt4ml/lib/python3.10/site-packages/pytorch_lightnin\u001b[32m [repeated 11x across cluster]\u001b[0m\n",
      "\u001b[2m\u001b[36m(RayTrainWorker pid=143229)\u001b[0m ┡━━━╇━━━━━━━╇━━━━━━━━━━━━━━━━━━╇━━━━━━━━┩\u001b[32m [repeated 2x across cluster]\u001b[0m\n",
      "\u001b[2m\u001b[36m(RayTrainWorker pid=143229)\u001b[0m │\u001b[2m \u001b[0m\u001b[2m0\u001b[0m\u001b[2m \u001b[0m│ model │ SmallNet         │  530 K │\u001b[32m [repeated 2x across cluster]\u001b[0m\n",
      "\u001b[2m\u001b[36m(RayTrainWorker pid=143229)\u001b[0m │\u001b[2m \u001b[0m\u001b[2m1\u001b[0m\u001b[2m \u001b[0m│ loss  │ CrossEntropyLoss │      0 │\u001b[32m [repeated 2x across cluster]\u001b[0m\n",
      "\u001b[2m\u001b[36m(RayTrainWorker pid=143229)\u001b[0m └───┴───────┴──────────────────┴────────┘\u001b[32m [repeated 2x across cluster]\u001b[0m\n",
      "\u001b[2m\u001b[36m(RayTrainWorker pid=143131)\u001b[0m val_dataloader, does not have many workers which may be a bottleneck. Consider \n",
      "\u001b[2m\u001b[36m(RayTrainWorker pid=143229)\u001b[0m \u001b[1mTotal params\u001b[0m: 530 K                                                             \u001b[32m [repeated 4x across cluster]\u001b[0m\n",
      "\u001b[2m\u001b[36m(RayTrainWorker pid=143229)\u001b[0m \u001b[1mTotal estimated model params size (MB)\u001b[0m: 2                                       \u001b[32m [repeated 2x across cluster]\u001b[0m\n"
     ]
    },
    {
     "name": "stderr",
     "output_type": "stream",
     "text": [
      "\u001b[2m\u001b[36m(RayTrainWorker pid=143170)\u001b[0m E0622 17:22:07.195655802  143596 fork_posix.cc:76]           Other threads are currently calling into gRPC, skipping fork() handlers\u001b[32m [repeated 2x across cluster]\u001b[0m\n"
     ]
    },
    {
     "name": "stdout",
     "output_type": "stream",
     "text": [
      "\u001b[2m\u001b[36m(RayTrainWorker pid=143170)\u001b[0m g/trainer/connectors/data_connector.py:432: PossibleUserWarning: The dataloader,\u001b[32m [repeated 2x across cluster]\u001b[0m\n",
      "\u001b[2m\u001b[36m(RayTrainWorker pid=143170)\u001b[0m increasing the value of the `num_workers` argument` (try 16 which is the number \u001b[32m [repeated 2x across cluster]\u001b[0m\n",
      "\u001b[2m\u001b[36m(RayTrainWorker pid=143170)\u001b[0m of cpus on this machine) in the `DataLoader` init to improve performance.\u001b[32m [repeated 2x across cluster]\u001b[0m\n",
      "\u001b[2m\u001b[36m(RayTrainWorker pid=143170)\u001b[0m   rank_zero_warn(\u001b[32m [repeated 4x across cluster]\u001b[0m\n",
      "\u001b[2K\u001b[1A\u001b[2K\u001b[37mEpoch 0/4 \u001b[0m \u001b[35m━━\u001b[0m\u001b[35m╸\u001b[0m\u001b[90m━━━━━━━━━━━━━━━\u001b[0m \u001b[37m1/7\u001b[0m \u001b[37m0:00:05 • -:--:--\u001b[0m \u001b[37m0.00it/s\u001b[0m \u001b[37mv_num: 0 val_loss: \u001b[0m\n",
      "\u001b[2K\u001b[1A\u001b[2K\u001b[37mEpoch 0/4 \u001b[0m \u001b[35m━━━━\u001b[0m\u001b[90m╺\u001b[0m\u001b[90m━━━━━━━━━━━━━━━━━━━━━━━\u001b[0m \u001b[37m1/7\u001b[0m \u001b[37m0:00:05 • -:--:--\u001b[0m \u001b[37m0.00it/s\u001b[0m \u001b[37mv_num: 0 \u001b[0m\n",
      "\u001b[2m\u001b[36m(RayTrainWorker pid=143170)\u001b[0m └───┴───────┴──────────────────┴────────┘\n",
      "\u001b[2m\u001b[36m(RayTrainWorker pid=143170)\u001b[0m └───┴───────┴──────────────────┴────────┘\n",
      "\u001b[2m\u001b[36m(RayTrainWorker pid=143170)\u001b[0m └───┴───────┴──────────────────┴────────┘\n",
      "\u001b[2m\u001b[36m(RayTrainWorker pid=143270)\u001b[0m ┏━━━┳━━━━━━━┳━━━━━━━━━━━━━━━━━━┳━━━━━━━━┓\u001b[32m [repeated 2x across cluster]\u001b[0m\n",
      "\u001b[2m\u001b[36m(RayTrainWorker pid=143270)\u001b[0m ┃\u001b[1;35m \u001b[0m\u001b[1;35m \u001b[0m\u001b[1;35m \u001b[0m┃\u001b[1;35m \u001b[0m\u001b[1;35mName \u001b[0m\u001b[1;35m \u001b[0m┃\u001b[1;35m \u001b[0m\u001b[1;35mType            \u001b[0m\u001b[1;35m \u001b[0m┃\u001b[1;35m \u001b[0m\u001b[1;35mParams\u001b[0m\u001b[1;35m \u001b[0m┃\u001b[32m [repeated 11x across cluster]\u001b[0m\n",
      "\u001b[2m\u001b[36m(RayTrainWorker pid=143270)\u001b[0m ┡━━━╇━━━━━━━╇━━━━━━━━━━━━━━━━━━╇━━━━━━━━┩\u001b[32m [repeated 2x across cluster]\u001b[0m\n",
      "\u001b[2m\u001b[36m(RayTrainWorker pid=143270)\u001b[0m │\u001b[2m \u001b[0m\u001b[2m0\u001b[0m\u001b[2m \u001b[0m│ model │ SmallNet         │  530 K │\u001b[32m [repeated 2x across cluster]\u001b[0m\n",
      "\u001b[2m\u001b[36m(RayTrainWorker pid=143270)\u001b[0m │\u001b[2m \u001b[0m\u001b[2m1\u001b[0m\u001b[2m \u001b[0m│ loss  │ CrossEntropyLoss │      0 │\u001b[32m [repeated 2x across cluster]\u001b[0m\n",
      "\u001b[2m\u001b[36m(RayTrainWorker pid=143270)\u001b[0m └───┴───────┴──────────────────┴────────┘\u001b[32m [repeated 2x across cluster]\u001b[0m\n",
      "\u001b[2m\u001b[36m(RayTrainWorker pid=143170)\u001b[0m └───┴───────┴──────────────────┴────────┘\n",
      "\u001b[2m\u001b[36m(RayTrainWorker pid=143264)\u001b[0m \u001b[1mTotal params\u001b[0m: 530 K                                                             \u001b[32m [repeated 2x across cluster]\u001b[0m\n",
      "\u001b[2m\u001b[36m(RayTrainWorker pid=143264)\u001b[0m └───┴───────┴──────────────────┴────────┘\n",
      "\u001b[2m\u001b[36m(RayTrainWorker pid=143270)\u001b[0m \u001b[1mTotal estimated model params size (MB)\u001b[0m: 2                                       \n",
      "\u001b[2m\u001b[36m(RayTrainWorker pid=143229)\u001b[0m g/trainer/connectors/data_connector.py:480: PossibleUserWarning: Your \n",
      "\u001b[2m\u001b[36m(RayTrainWorker pid=143229)\u001b[0m `val_dataloader`'s sampler has shuffling enabled, it is strongly recommended \n",
      "\u001b[2m\u001b[36m(RayTrainWorker pid=143229)\u001b[0m that you turn shuffling off for val/test dataloaders.\n",
      "\u001b[2m\u001b[36m(RayTrainWorker pid=143229)\u001b[0m val_dataloader, does not have many workers which may be a bottleneck. Consider \n",
      "\u001b[2K\u001b[36m(RayTrainWorker pid=143229)\u001b[0m \n",
      "\u001b[2K\u001b[36m(RayTrainWorker pid=143229)\u001b[0m \n",
      "\u001b[2K\u001b[36m(RayTrainWorker pid=143229)\u001b[0m \n",
      "\u001b[2m\u001b[36m(RayTrainWorker pid=143229)\u001b[0m   rank_zero_warn(\u001b[32m [repeated 2x across cluster]\u001b[0m\n",
      "\u001b[2K\u001b[37mEpoch 0/4 \u001b[0m \u001b[35m━━━━━━━━\u001b[0m\u001b[90m╺\u001b[0m\u001b[90m━━━━━━━━━━━━━━━━━━━\u001b[0m \u001b[37m2/7\u001b[0m \u001b[37m0:00:10 • 0:00:23\u001b[0m \u001b[37m0.22it/s\u001b[0m \u001b[37mv_num: 0 \u001b[0m\u001b[32m [repeated 6x across cluster]\u001b[0m\n"
     ]
    },
    {
     "name": "stderr",
     "output_type": "stream",
     "text": [
      "\u001b[2m\u001b[36m(RayTrainWorker pid=143264)\u001b[0m E0622 17:22:15.118411235  143597 fork_posix.cc:76]           Other threads are currently calling into gRPC, skipping fork() handlers\u001b[32m [repeated 2x across cluster]\u001b[0m\n"
     ]
    },
    {
     "name": "stdout",
     "output_type": "stream",
     "text": [
      "\u001b[2m\u001b[36m(RayTrainWorker pid=143264)\u001b[0m g/trainer/connectors/data_connector.py:432: PossibleUserWarning: The dataloader,\n",
      "\u001b[2m\u001b[36m(RayTrainWorker pid=143264)\u001b[0m increasing the value of the `num_workers` argument` (try 16 which is the number \n",
      "\u001b[2m\u001b[36m(RayTrainWorker pid=143264)\u001b[0m of cpus on this machine) in the `DataLoader` init to improve performance.\n",
      "\u001b[2m\u001b[36m(RayTrainWorker pid=143270)\u001b[0m \u001b[?25l\u001b[32m [repeated 10x across cluster]\u001b[0m\n",
      "\u001b[2m\u001b[36m(RayTrainWorker pid=143270)\u001b[0m \u001b[1mTotal params\u001b[0m: 530 K                                                             \u001b[32m [repeated 2x across cluster]\u001b[0m\n",
      "\u001b[2m\u001b[36m(RayTrainWorker pid=143264)\u001b[0m \u001b[?25l\n",
      "\u001b[2m\u001b[36m(RayTrainWorker pid=143264)\u001b[0m \u001b[?25l\n",
      "\u001b[2m\u001b[36m(RayTrainWorker pid=143264)\u001b[0m \u001b[?25l\n",
      "\u001b[2m\u001b[36m(RayTrainWorker pid=143264)\u001b[0m \u001b[?25l\n",
      "\u001b[2m\u001b[36m(RayTrainWorker pid=143131)\u001b[0m train_dataloader, does not have many workers which may be a bottleneck. Consider\n",
      "\u001b[2m\u001b[36m(RayTrainWorker pid=143170)\u001b[0m g/loops/fit_loop.py:280: PossibleUserWarning: The number of training batches (7)\n",
      "\u001b[2m\u001b[36m(RayTrainWorker pid=143170)\u001b[0m is smaller than the logging interval Trainer(log_every_n_steps=50). Set a lower \n",
      "\u001b[2m\u001b[36m(RayTrainWorker pid=143170)\u001b[0m value for log_every_n_steps if you want to see logs for the training epoch.\n",
      "\u001b[2K\u001b[37mEpoch 0/4 \u001b[0m \u001b[90m━━━━━━━━━━━━━━━━━━\u001b[0m \u001b[37m0/7\u001b[0m \u001b[37m0:00:00 • -:--:--\u001b[0m \u001b[37m0.00it/s\u001b[0m \u001b[37mv_num: 0 val_loss: \u001b[0m\n",
      "\u001b[2m\u001b[36m(RayTrainWorker pid=143375)\u001b[0m ┏━━━┳━━━━━━━┳━━━━━━━━━━━━━━━━━━┳━━━━━━━━┓\n",
      "\u001b[2m\u001b[36m(RayTrainWorker pid=143375)\u001b[0m ┡━━━╇━━━━━━━╇━━━━━━━━━━━━━━━━━━╇━━━━━━━━┩\n",
      "\u001b[2m\u001b[36m(RayTrainWorker pid=143375)\u001b[0m │\u001b[2m \u001b[0m\u001b[2m0\u001b[0m\u001b[2m \u001b[0m│ model │ SmallNet         │  530 K │\n",
      "\u001b[2m\u001b[36m(RayTrainWorker pid=143375)\u001b[0m │\u001b[2m \u001b[0m\u001b[2m1\u001b[0m\u001b[2m \u001b[0m│ loss  │ CrossEntropyLoss │      0 │\n",
      "\u001b[2m\u001b[36m(RayTrainWorker pid=143375)\u001b[0m └───┴───────┴──────────────────┴────────┘\n",
      "\u001b[2m\u001b[36m(RayTrainWorker pid=143375)\u001b[0m \u001b[1mTotal estimated model params size (MB)\u001b[0m: 2                                       \n",
      "\u001b[2m\u001b[36m(RayTrainWorker pid=143270)\u001b[0m g/trainer/connectors/data_connector.py:480: PossibleUserWarning: Your \n",
      "\u001b[2m\u001b[36m(RayTrainWorker pid=143270)\u001b[0m `val_dataloader`'s sampler has shuffling enabled, it is strongly recommended \n",
      "\u001b[2m\u001b[36m(RayTrainWorker pid=143270)\u001b[0m that you turn shuffling off for val/test dataloaders.\n",
      "\u001b[2m\u001b[36m(RayTrainWorker pid=143270)\u001b[0m val_dataloader, does not have many workers which may be a bottleneck. Consider \n",
      "\u001b[2m\u001b[36m(RayTrainWorker pid=143270)\u001b[0m   rank_zero_warn(\u001b[32m [repeated 8x across cluster]\u001b[0m\n",
      "\u001b[2K\u001b[37mSanity Checking\u001b[0m \u001b[35m━━━━━━━━━━━━━━━━━━━━━━━━━━━━━━━\u001b[0m \u001b[37m2/2\u001b[0m \u001b[37m0:00:05 • 0:00:00\u001b[0m \u001b[37m0.50it/s\u001b[0m \u001b[32m [repeated 11x across cluster]\u001b[0m\n",
      "\u001b[2m\u001b[36m(RayTrainWorker pid=143270)\u001b[0m g/trainer/connectors/data_connector.py:432: PossibleUserWarning: The dataloader,\u001b[32m [repeated 3x across cluster]\u001b[0m\n",
      "\u001b[2m\u001b[36m(RayTrainWorker pid=143270)\u001b[0m increasing the value of the `num_workers` argument` (try 16 which is the number \u001b[32m [repeated 3x across cluster]\u001b[0m\n",
      "\u001b[2m\u001b[36m(RayTrainWorker pid=143270)\u001b[0m of cpus on this machine) in the `DataLoader` init to improve performance.\u001b[32m [repeated 3x across cluster]\u001b[0m\n",
      "\u001b[2K\u001b[32m [repeated 15x across cluster]\u001b[0m\n",
      "\u001b[2m\u001b[36m(RayTrainWorker pid=143245)\u001b[0m \u001b[1mTotal params\u001b[0m: 530 K                                                             \u001b[32m [repeated 4x across cluster]\u001b[0m\n",
      "\u001b[2m\u001b[36m(RayTrainWorker pid=143229)\u001b[0m train_dataloader, does not have many workers which may be a bottleneck. Consider\u001b[32m [repeated 2x across cluster]\u001b[0m\n",
      "\u001b[2m\u001b[36m(RayTrainWorker pid=143229)\u001b[0m g/loops/fit_loop.py:280: PossibleUserWarning: The number of training batches (7)\u001b[32m [repeated 2x across cluster]\u001b[0m\n",
      "\u001b[2m\u001b[36m(RayTrainWorker pid=143229)\u001b[0m is smaller than the logging interval Trainer(log_every_n_steps=50). Set a lower \u001b[32m [repeated 2x across cluster]\u001b[0m\n",
      "\u001b[2m\u001b[36m(RayTrainWorker pid=143229)\u001b[0m value for log_every_n_steps if you want to see logs for the training epoch.\u001b[32m [repeated 2x across cluster]\u001b[0m\n",
      "\u001b[2K\u001b[37mSanity Checking\u001b[0m \u001b[35m━━━━━━━━━━━━━━━\u001b[0m\u001b[35m╸\u001b[0m\u001b[90m━━━━━━━━━━━━━━━\u001b[0m \u001b[37m1/2\u001b[0m \u001b[37m0:00:04 • -:--:--\u001b[0m \u001b[37m0.00it/s\u001b[0m \n"
     ]
    },
    {
     "name": "stderr",
     "output_type": "stream",
     "text": [
      "\u001b[2m\u001b[36m(RayTrainWorker pid=143229)\u001b[0m E0622 17:22:23.890140878  143595 fork_posix.cc:76]           Other threads are currently calling into gRPC, skipping fork() handlers\u001b[32m [repeated 7x across cluster]\u001b[0m\n"
     ]
    },
    {
     "name": "stdout",
     "output_type": "stream",
     "text": [
      "\u001b[2K\u001b[37mEpoch 0/4 \u001b[0m \u001b[90m━━━━━━━━━━━━━━━━━━\u001b[0m \u001b[37m0/7\u001b[0m \u001b[37m0:00:00 • -:--:--\u001b[0m \u001b[37m0.00it/s\u001b[0m \u001b[37mv_num: 0 val_loss: \u001b[0m\n",
      "\u001b[2m\u001b[36m(RayTrainWorker pid=143245)\u001b[0m \u001b[?25l\n",
      "\u001b[2m\u001b[36m(RayTrainWorker pid=143245)\u001b[0m \u001b[?25l\n",
      "\u001b[2m\u001b[36m(RayTrainWorker pid=143245)\u001b[0m \u001b[?25l\n",
      "\u001b[2m\u001b[36m(RayTrainWorker pid=143245)\u001b[0m \u001b[?25l\n",
      "\u001b[2m\u001b[36m(RayTrainWorker pid=143245)\u001b[0m \u001b[?25l\n",
      "\u001b[2m\u001b[36m(RayTrainWorker pid=143245)\u001b[0m \u001b[?25l\n",
      "\u001b[2K\u001b[37mSanity Checking\u001b[0m \u001b[35m━━━━━━━━━━━━━━━━━━━━━━━━━━━━━━━\u001b[0m \u001b[37m2/2\u001b[0m \u001b[37m0:00:05 • 0:00:00\u001b[0m \u001b[37m0.54it/s\u001b[0m \n",
      "\u001b[2m\u001b[36m(RayTrainWorker pid=143229)\u001b[0m   rank_zero_warn(\u001b[32m [repeated 2x across cluster]\u001b[0m\n",
      "\u001b[2K\u001b[37mSanity Checking\u001b[0m \u001b[35m━━━━━━━━━━━━━━━\u001b[0m\u001b[35m╸\u001b[0m\u001b[90m━━━━━━━━━━━━━━━\u001b[0m \u001b[37m1/2\u001b[0m \u001b[37m0:00:04 • -:--:--\u001b[0m \u001b[37m0.00it/s\u001b[0m \u001b[32m [repeated 5x across cluster]\u001b[0m\n",
      "\u001b[2m\u001b[36m(RayTrainWorker pid=143245)\u001b[0m g/trainer/connectors/data_connector.py:480: PossibleUserWarning: Your \n",
      "\u001b[2m\u001b[36m(RayTrainWorker pid=143245)\u001b[0m `val_dataloader`'s sampler has shuffling enabled, it is strongly recommended \n",
      "\u001b[2m\u001b[36m(RayTrainWorker pid=143245)\u001b[0m that you turn shuffling off for val/test dataloaders.\n",
      "\u001b[2m\u001b[36m(RayTrainWorker pid=143245)\u001b[0m val_dataloader, does not have many workers which may be a bottleneck. Consider \n",
      "\u001b[2m\u001b[36m(RayTrainWorker pid=143245)\u001b[0m g/trainer/connectors/data_connector.py:432: PossibleUserWarning: The dataloader,\u001b[32m [repeated 2x across cluster]\u001b[0m\n",
      "\u001b[2m\u001b[36m(RayTrainWorker pid=143245)\u001b[0m increasing the value of the `num_workers` argument` (try 16 which is the number \u001b[32m [repeated 2x across cluster]\u001b[0m\n",
      "\u001b[2m\u001b[36m(RayTrainWorker pid=143245)\u001b[0m of cpus on this machine) in the `DataLoader` init to improve performance.\u001b[32m [repeated 2x across cluster]\u001b[0m\n",
      "\u001b[2K\u001b[1A\u001b[2K\u001b[37mEpoch 0/4 \u001b[0m \u001b[35m━━\u001b[0m\u001b[35m╸\u001b[0m\u001b[90m━━━━━━━━━━━━━━━\u001b[0m \u001b[37m1/7\u001b[0m \u001b[37m0:00:08 • -:--:--\u001b[0m \u001b[37m0.00it/s\u001b[0m \u001b[37mv_num: 0 val_loss: \u001b[0m\n",
      "\u001b[2m\u001b[36m(RayTrainWorker pid=143264)\u001b[0m                                                              \u001b[37m2.313              \u001b[0m\u001b[32m [repeated 13x across cluster]\u001b[0m\n",
      "\u001b[2K\u001b[37mSanity Checking\u001b[0m \u001b[35m━━━━━━━━━━━━━━━━━━━━━━━━━━━━━━━\u001b[0m \u001b[37m2/2\u001b[0m \u001b[37m0:00:05 • 0:00:00\u001b[0m \u001b[37m0.45it/s\u001b[0m \n",
      "\u001b[2K\u001b[37mSanity Checking\u001b[0m \u001b[35m━━━━━━━━━━━━━━━━━━━━━━━━━━━━━━━\u001b[0m \u001b[37m2/2\u001b[0m \u001b[37m0:00:05 • 0:00:00\u001b[0m \u001b[37m0.45it/s\u001b[0m \n",
      "\u001b[2K\u001b[37mSanity Checking\u001b[0m \u001b[35m━━━━━━━━━━━━━━━━━━━━━━━━━━━━━━━\u001b[0m \u001b[37m2/2\u001b[0m \u001b[37m0:00:05 • 0:00:00\u001b[0m \u001b[37m0.45it/s\u001b[0m \n",
      "\u001b[2K\u001b[37mSanity Checking\u001b[0m \u001b[35m━━━━━━━━━━━━━━━━━━━━━━━━━━━━━━━\u001b[0m \u001b[37m2/2\u001b[0m \u001b[37m0:00:05 • 0:00:00\u001b[0m \u001b[37m0.45it/s\u001b[0m \n",
      "\u001b[2K\u001b[37mSanity Checking\u001b[0m \u001b[35m━━━━━━━━━━━━━━━━━━━━━━━━━━━━━━━\u001b[0m \u001b[37m2/2\u001b[0m \u001b[37m0:00:05 • 0:00:00\u001b[0m \u001b[37m0.45it/s\u001b[0m \n"
     ]
    },
    {
     "name": "stderr",
     "output_type": "stream",
     "text": [
      "\u001b[2m\u001b[36m(RayTrainWorker pid=143270)\u001b[0m E0622 17:22:30.153534986  143609 fork_posix.cc:76]           Other threads are currently calling into gRPC, skipping fork() handlers\u001b[32m [repeated 6x across cluster]\u001b[0m\n"
     ]
    },
    {
     "name": "stdout",
     "output_type": "stream",
     "text": [
      "\u001b[2m\u001b[36m(RayTrainWorker pid=143264)\u001b[0m   rank_zero_warn(\u001b[32m [repeated 6x across cluster]\u001b[0m\n",
      "\u001b[2K\u001b[37mEpoch 0/4 \u001b[0m \u001b[35m━━━━━━━━━━━━━━━━━━━━━━━━\u001b[0m\u001b[90m╺\u001b[0m\u001b[90m━━━\u001b[0m \u001b[37m6/7\u001b[0m \u001b[37m0:00:28 • 0:00:05\u001b[0m \u001b[37m0.22it/s\u001b[0m \u001b[37mv_num: 0 \u001b[0m\u001b[32m [repeated 9x across cluster]\u001b[0m\n",
      "\u001b[2K\u001b[37mEpoch 0/4 \u001b[0m \u001b[35m━━━━━━━━\u001b[0m\u001b[90m╺\u001b[0m\u001b[90m━━━━━━━━━━━━━━━━━━━\u001b[0m \u001b[37m2/7\u001b[0m \u001b[37m0:00:13 • 0:00:22\u001b[0m \u001b[37m0.24it/s\u001b[0m \u001b[37mv_num: 0 \u001b[0m\n",
      "\u001b[2K\u001b[37mEpoch 0/4 \u001b[0m \u001b[35m━━━━━━━━\u001b[0m\u001b[90m╺\u001b[0m\u001b[90m━━━━━━━━━━━━━━━━━━━\u001b[0m \u001b[37m2/7\u001b[0m \u001b[37m0:00:13 • 0:00:22\u001b[0m \u001b[37m0.24it/s\u001b[0m \u001b[37mv_num: 0 \u001b[0m\n",
      "\u001b[2K\u001b[37mEpoch 0/4 \u001b[0m \u001b[35m━━━━━━━━\u001b[0m\u001b[90m╺\u001b[0m\u001b[90m━━━━━━━━━━━━━━━━━━━\u001b[0m \u001b[37m2/7\u001b[0m \u001b[37m0:00:13 • 0:00:22\u001b[0m \u001b[37m0.24it/s\u001b[0m \u001b[37mv_num: 0 \u001b[0m\n",
      "\u001b[2K\u001b[37mEpoch 0/4 \u001b[0m \u001b[35m━━━━━━━━\u001b[0m\u001b[90m╺\u001b[0m\u001b[90m━━━━━━━━━━━━━━━━━━━\u001b[0m \u001b[37m2/7\u001b[0m \u001b[37m0:00:13 • 0:00:22\u001b[0m \u001b[37m0.24it/s\u001b[0m \u001b[37mv_num: 0 \u001b[0m\n",
      "\u001b[2m\u001b[36m(RayTrainWorker pid=143264)\u001b[0m g/trainer/connectors/data_connector.py:432: PossibleUserWarning: The dataloader,\u001b[32m [repeated 2x across cluster]\u001b[0m\n",
      "\u001b[2m\u001b[36m(RayTrainWorker pid=143264)\u001b[0m increasing the value of the `num_workers` argument` (try 16 which is the number \u001b[32m [repeated 2x across cluster]\u001b[0m\n",
      "\u001b[2m\u001b[36m(RayTrainWorker pid=143264)\u001b[0m of cpus on this machine) in the `DataLoader` init to improve performance.\u001b[32m [repeated 2x across cluster]\u001b[0m\n",
      "\u001b[2m\u001b[36m(RayTrainWorker pid=143270)\u001b[0m train_dataloader, does not have many workers which may be a bottleneck. Consider\n",
      "\u001b[2m\u001b[36m(RayTrainWorker pid=143270)\u001b[0m g/loops/fit_loop.py:280: PossibleUserWarning: The number of training batches (7)\n",
      "\u001b[2m\u001b[36m(RayTrainWorker pid=143270)\u001b[0m is smaller than the logging interval Trainer(log_every_n_steps=50). Set a lower \n",
      "\u001b[2m\u001b[36m(RayTrainWorker pid=143270)\u001b[0m value for log_every_n_steps if you want to see logs for the training epoch.\n",
      "\u001b[2K\u001b[1A\u001b[2K\u001b[37mEpoch 0/4 \u001b[0m \u001b[35m━━\u001b[0m\u001b[35m╸\u001b[0m\u001b[90m━━━━━━━━━━━━━━━\u001b[0m \u001b[37m1/7\u001b[0m \u001b[37m0:00:07 • -:--:--\u001b[0m \u001b[37m0.00it/s\u001b[0m \u001b[37mv_num: 0 val_loss: \u001b[0m\u001b[32m [repeated 2x across cluster]\u001b[0m\n",
      "\u001b[2m\u001b[36m(RayTrainWorker pid=143270)\u001b[0m                                                              \u001b[37m2.306              \u001b[0m\u001b[32m [repeated 9x across cluster]\u001b[0m\n",
      "\u001b[2K\u001b[37mSanity Checking\u001b[0m \u001b[35m━━━━━━━━━━━━━━━━━━━━━━━━━━━━━━━\u001b[0m \u001b[37m2/2\u001b[0m \u001b[37m0:00:06 • 0:00:00\u001b[0m \u001b[37m0.49it/s\u001b[0m \n",
      "\u001b[2m\u001b[36m(RayTrainWorker pid=143270)\u001b[0m   rank_zero_warn(\u001b[32m [repeated 2x across cluster]\u001b[0m\n",
      "\u001b[2K\u001b[37mSanity Checking\u001b[0m \u001b[35m━━━━━━━━━━━━━━━\u001b[0m\u001b[35m╸\u001b[0m\u001b[90m━━━━━━━━━━━━━━━\u001b[0m \u001b[37m1/2\u001b[0m \u001b[37m0:00:04 • -:--:--\u001b[0m \u001b[37m0.00it/s\u001b[0m \u001b[32m [repeated 11x across cluster]\u001b[0m\n",
      "\u001b[2K\u001b[36m(RayTrainWorker pid=143270)\u001b[0m \n",
      "\u001b[2K\u001b[36m(RayTrainWorker pid=143270)\u001b[0m \n",
      "\u001b[2K\u001b[36m(RayTrainWorker pid=143270)\u001b[0m \n"
     ]
    },
    {
     "name": "stderr",
     "output_type": "stream",
     "text": [
      "\u001b[2m\u001b[36m(RayTrainWorker pid=143245)\u001b[0m E0622 17:22:37.444595237  143625 fork_posix.cc:76]           Other threads are currently calling into gRPC, skipping fork() handlers\u001b[32m [repeated 2x across cluster]\u001b[0m\n"
     ]
    },
    {
     "name": "stdout",
     "output_type": "stream",
     "text": [
      "\u001b[2K\u001b[36m(RayTrainWorker pid=143270)\u001b[0m \n",
      "\u001b[2K\u001b[32m [repeated 2x across cluster]\u001b[0m\n",
      "\u001b[2K\u001b[1A\u001b[2K\u001b[37mEpoch 0/4 \u001b[0m \u001b[35m━━\u001b[0m\u001b[35m╸\u001b[0m\u001b[90m━━━━━━━━━━━━━━━\u001b[0m \u001b[37m1/7\u001b[0m \u001b[37m0:00:10 • -:--:--\u001b[0m \u001b[37m0.00it/s\u001b[0m \u001b[37mv_num: 0 val_loss: \u001b[0m\n",
      "\u001b[2m\u001b[36m(RayTrainWorker pid=143245)\u001b[0m g/trainer/connectors/data_connector.py:432: PossibleUserWarning: The dataloader,\n",
      "\u001b[2m\u001b[36m(RayTrainWorker pid=143245)\u001b[0m train_dataloader, does not have many workers which may be a bottleneck. Consider\n",
      "\u001b[2m\u001b[36m(RayTrainWorker pid=143245)\u001b[0m increasing the value of the `num_workers` argument` (try 16 which is the number \n",
      "\u001b[2m\u001b[36m(RayTrainWorker pid=143245)\u001b[0m of cpus on this machine) in the `DataLoader` init to improve performance.\n",
      "\u001b[2m\u001b[36m(RayTrainWorker pid=143245)\u001b[0m g/loops/fit_loop.py:280: PossibleUserWarning: The number of training batches (7)\n",
      "\u001b[2m\u001b[36m(RayTrainWorker pid=143245)\u001b[0m is smaller than the logging interval Trainer(log_every_n_steps=50). Set a lower \n",
      "\u001b[2m\u001b[36m(RayTrainWorker pid=143245)\u001b[0m value for log_every_n_steps if you want to see logs for the training epoch.\n",
      "\u001b[2m\u001b[36m(RayTrainWorker pid=143375)\u001b[0m   rank_zero_warn(\u001b[32m [repeated 4x across cluster]\u001b[0m\n",
      "\u001b[2K\u001b[37mEpoch 0/4 \u001b[0m \u001b[35m━━━━━━━━━━━━━━━━\u001b[0m\u001b[90m╺\u001b[0m\u001b[90m━━━━━━━━━━━\u001b[0m \u001b[37m4/7\u001b[0m \u001b[37m0:00:24 • 0:00:16\u001b[0m \u001b[37m0.20it/s\u001b[0m \u001b[37mv_num: 0 \u001b[0m\u001b[32m [repeated 16x across cluster]\u001b[0m\n",
      "\u001b[2m\u001b[36m(RayTrainWorker pid=143375)\u001b[0m                                                              \u001b[37m2.308              \u001b[0m\u001b[32m [repeated 6x across cluster]\u001b[0m\n",
      "\u001b[2K\u001b[37mEpoch 0/4 \u001b[0m \u001b[90m━━━━━━━━━━━━━━━━━━\u001b[0m \u001b[37m0/7\u001b[0m \u001b[37m0:00:00 • -:--:--\u001b[0m \u001b[37m0.00it/s\u001b[0m \u001b[37mv_num: 0 val_loss: \u001b[0m\u001b[32m [repeated 2x across cluster]\u001b[0m\n",
      "\u001b[2K\u001b[37mEpoch 0/4 \u001b[0m \u001b[35m━━━━━━━━━━━━━━━━\u001b[0m\u001b[90m╺\u001b[0m\u001b[90m━━━━━━━━━━━\u001b[0m \u001b[37m4/7\u001b[0m \u001b[37m0:00:25 • 0:00:16\u001b[0m \u001b[37m0.20it/s\u001b[0m \u001b[37mv_num: 0 \u001b[0m\n",
      "\u001b[2K\u001b[37mEpoch 0/4 \u001b[0m \u001b[35m━━━━━━━━━━━━━━━━\u001b[0m\u001b[90m╺\u001b[0m\u001b[90m━━━━━━━━━━━\u001b[0m \u001b[37m4/7\u001b[0m \u001b[37m0:00:25 • 0:00:16\u001b[0m \u001b[37m0.20it/s\u001b[0m \u001b[37mv_num: 0 \u001b[0m\n",
      "\u001b[2K\u001b[37mEpoch 0/4 \u001b[0m \u001b[35m━━━━━━━━━━━━━━━━\u001b[0m\u001b[90m╺\u001b[0m\u001b[90m━━━━━━━━━━━\u001b[0m \u001b[37m4/7\u001b[0m \u001b[37m0:00:25 • 0:00:16\u001b[0m \u001b[37m0.20it/s\u001b[0m \u001b[37mv_num: 0 \u001b[0m\n",
      "\u001b[2K\u001b[37mEpoch 0/4 \u001b[0m \u001b[35m━━━━━━━━━━━━━━━━\u001b[0m\u001b[90m╺\u001b[0m\u001b[90m━━━━━━━━━━━\u001b[0m \u001b[37m4/7\u001b[0m \u001b[37m0:00:25 • 0:00:16\u001b[0m \u001b[37m0.20it/s\u001b[0m \u001b[37mv_num: 0 \u001b[0m\n",
      "\u001b[2m\u001b[36m(RayTrainWorker pid=143375)\u001b[0m \u001b[37mValidation\u001b[0m \u001b[35m━\u001b[0m\u001b[35m╸\u001b[0m\u001b[90m━━━━━━━━━━━━━━━━━━━━━━━━━\u001b[0m \u001b[37m1/15\u001b[0m \u001b[37m0:00:04 • -:--:--\u001b[0m \u001b[37m0.00it/s\u001b[0m          \n",
      "\u001b[2m\u001b[36m(RayTrainWorker pid=143375)\u001b[0m \u001b[37mValidation\u001b[0m \u001b[35m━\u001b[0m\u001b[35m╸\u001b[0m\u001b[90m━━━━━━━━━━━━━━━━━━━━━━━━━\u001b[0m \u001b[37m1/15\u001b[0m \u001b[37m0:00:04 • -:--:--\u001b[0m \u001b[37m0.00it/s\u001b[0m          \n",
      "\u001b[2m\u001b[36m(RayTrainWorker pid=143375)\u001b[0m \u001b[37mValidation\u001b[0m \u001b[35m━\u001b[0m\u001b[35m╸\u001b[0m\u001b[90m━━━━━━━━━━━━━━━━━━━━━━━━━\u001b[0m \u001b[37m1/15\u001b[0m \u001b[37m0:00:04 • -:--:--\u001b[0m \u001b[37m0.00it/s\u001b[0m          \n",
      "\u001b[2m\u001b[36m(RayTrainWorker pid=143146)\u001b[0m \u001b[37mValidation\u001b[0m \u001b[35m━━━\u001b[0m\u001b[35m╸\u001b[0m\u001b[90m━━━━━━━━━━━━━━━━━━━━━━━\u001b[0m \u001b[37m2/15\u001b[0m \u001b[37m0:00:06 • 0:00:37\u001b[0m \u001b[37m0.35it/s\u001b[0m          \u001b[32m [repeated 14x across cluster]\u001b[0m\n",
      "\u001b[2m\u001b[36m(RayTrainWorker pid=143270)\u001b[0m \u001b[37mValidation\u001b[0m \u001b[35m━━━\u001b[0m\u001b[35m╸\u001b[0m\u001b[90m━━━━━━━━━━━━━━━━━━━━━━━\u001b[0m \u001b[37m2/15\u001b[0m \u001b[37m0:00:07 • 0:00:37\u001b[0m \u001b[37m0.35it/s\u001b[0m          \n",
      "\u001b[2m\u001b[36m(RayTrainWorker pid=143270)\u001b[0m \u001b[37mValidation\u001b[0m \u001b[35m━━━\u001b[0m\u001b[35m╸\u001b[0m\u001b[90m━━━━━━━━━━━━━━━━━━━━━━━\u001b[0m \u001b[37m2/15\u001b[0m \u001b[37m0:00:07 • 0:00:37\u001b[0m \u001b[37m0.35it/s\u001b[0m          \n",
      "\u001b[2K\u001b[37mEpoch 0/4 \u001b[0m \u001b[35m━━━━━━━━━━━━━━━━━━━━\u001b[0m\u001b[90m╺\u001b[0m\u001b[90m━━━━━━━\u001b[0m \u001b[37m5/7\u001b[0m \u001b[37m0:00:30 • 0:00:11\u001b[0m \u001b[37m0.18it/s\u001b[0m \u001b[37mv_num: 0 \u001b[0m\n",
      "\u001b[2K\u001b[1A\u001b[2K\u001b[37mEpoch 0/4 \u001b[0m \u001b[35m━━\u001b[0m\u001b[35m╸\u001b[0m\u001b[90m━━━━━━━━━━━━━━━\u001b[0m \u001b[37m1/7\u001b[0m \u001b[37m0:00:10 • -:--:--\u001b[0m \u001b[37m0.00it/s\u001b[0m \u001b[37mv_num: 0 val_loss: \u001b[0m\n",
      "\u001b[2m\u001b[36m(RayTrainWorker pid=143146)\u001b[0m \u001b[37mValidation\u001b[0m \u001b[35m━━━━━━━━━━━━━━\u001b[0m\u001b[90m╺\u001b[0m\u001b[90m━━━━━━━━━━━━\u001b[0m \u001b[37m8/15\u001b[0m \u001b[37m0:00:12 • 0:00:09\u001b[0m \u001b[37m0.86it/s\u001b[0m          \u001b[32m [repeated 38x across cluster]\u001b[0m\n"
     ]
    },
    {
     "name": "stderr",
     "output_type": "stream",
     "text": [
      "\u001b[2m\u001b[36m(RayTrainWorker pid=143170)\u001b[0m E0622 17:22:53.536334426  143596 fork_posix.cc:76]           Other threads are currently calling into gRPC, skipping fork() handlers\u001b[32m [repeated 5x across cluster]\u001b[0m\n"
     ]
    },
    {
     "name": "stdout",
     "output_type": "stream",
     "text": [
      "\u001b[2K\u001b[37mEpoch 0/4 \u001b[0m \u001b[35m━━━━━━━━━━━━━━━━\u001b[0m\u001b[90m╺\u001b[0m\u001b[90m━━━━━━━━━━━\u001b[0m \u001b[37m4/7\u001b[0m \u001b[37m0:00:13 • 0:00:04\u001b[0m \u001b[37m0.77it/s\u001b[0m \u001b[37mv_num: 0 \u001b[0m\u001b[32m [repeated 17x across cluster]\u001b[0m\n",
      "\u001b[2m\u001b[36m(RayTrainWorker pid=143375)\u001b[0m \u001b[37mValidation\u001b[0m \u001b[35m━━━━━━━━━━━━━━━━━━━━\u001b[0m\u001b[35m╸\u001b[0m\u001b[90m━━━━━\u001b[0m \u001b[37m12/15\u001b[0m \u001b[37m0:00:14 • 0:00:03\u001b[0m \u001b[37m1.11it/s\u001b[0m          \n",
      "\u001b[2K\u001b[37mEpoch 0/4 \u001b[0m \u001b[35m━━━━━━━━━━━━━━━━━━\u001b[0m \u001b[37m7/7\u001b[0m \u001b[37m0:00:34 • 0:00:00\u001b[0m \u001b[37m0.21it/s\u001b[0m \u001b[37mv_num: 0 val_loss: \u001b[0m\n",
      "\u001b[2m\u001b[36m(RayTrainWorker pid=143146)\u001b[0m                                                              \u001b[37m2.308 train_loss:  \u001b[0m\n",
      "\u001b[2m\u001b[36m(RayTrainWorker pid=143146)\u001b[0m                                                              \u001b[37m2.306              \u001b[0m\n",
      "\u001b[2m\u001b[36m(RayTrainWorker pid=143146)\u001b[0m \u001b[?25h\n"
     ]
    },
    {
     "data": {
      "text/html": [
       "<div class=\"trialProgress\">\n",
       "  <h3>Trial Progress</h3>\n",
       "  <table>\n",
       "<thead>\n",
       "<tr><th>Trial name                  </th><th>_report_on     </th><th>date               </th><th>done  </th><th style=\"text-align: right;\">  epoch</th><th>experiment_tag                 </th><th>hostname     </th><th style=\"text-align: right;\">  iterations_since_restore</th><th>node_ip      </th><th style=\"text-align: right;\">   pid</th><th>should_checkpoint  </th><th style=\"text-align: right;\">  step</th><th style=\"text-align: right;\">  time_since_restore</th><th style=\"text-align: right;\">  time_this_iter_s</th><th style=\"text-align: right;\">  time_total_s</th><th style=\"text-align: right;\">  timestamp</th><th style=\"text-align: right;\">  train_loss</th><th style=\"text-align: right;\">  training_iteration</th><th>trial_id   </th><th style=\"text-align: right;\">  val_loss</th></tr>\n",
       "</thead>\n",
       "<tbody>\n",
       "<tr><td>LightningTrainer_1f9d2_00000</td><td>train_epoch_end</td><td>2023-06-22_17-27-03</td><td>True  </td><td style=\"text-align: right;\">      4</td><td>0_lr=0.1000,weight_decay=0.1000</td><td>thinkpad-t14s</td><td style=\"text-align: right;\">                         5</td><td>192.168.2.113</td><td style=\"text-align: right;\">142686</td><td>True               </td><td style=\"text-align: right;\">    35</td><td style=\"text-align: right;\">            436.934 </td><td style=\"text-align: right;\">          28.6742 </td><td style=\"text-align: right;\">      436.934 </td><td style=\"text-align: right;\"> 1687447622</td><td style=\"text-align: right;\">     2.27008</td><td style=\"text-align: right;\">                   5</td><td>1f9d2_00000</td><td style=\"text-align: right;\">   2.25788</td></tr>\n",
       "<tr><td>LightningTrainer_1f9d2_00001</td><td>train_epoch_end</td><td>2023-06-22_17-27-03</td><td>True  </td><td style=\"text-align: right;\">      4</td><td>1_lr=0.0003,weight_decay=0.1000</td><td>thinkpad-t14s</td><td style=\"text-align: right;\">                         5</td><td>192.168.2.113</td><td style=\"text-align: right;\">142687</td><td>True               </td><td style=\"text-align: right;\">    35</td><td style=\"text-align: right;\">            433.943 </td><td style=\"text-align: right;\">          30.3714 </td><td style=\"text-align: right;\">      433.943 </td><td style=\"text-align: right;\"> 1687447622</td><td style=\"text-align: right;\">     2.29978</td><td style=\"text-align: right;\">                   5</td><td>1f9d2_00001</td><td style=\"text-align: right;\">   2.3021 </td></tr>\n",
       "<tr><td>LightningTrainer_1f9d2_00002</td><td>train_epoch_end</td><td>2023-06-22_17-27-02</td><td>True  </td><td style=\"text-align: right;\">      4</td><td>2_lr=0.0000,weight_decay=0.1000</td><td>thinkpad-t14s</td><td style=\"text-align: right;\">                         5</td><td>192.168.2.113</td><td style=\"text-align: right;\">142688</td><td>True               </td><td style=\"text-align: right;\">    35</td><td style=\"text-align: right;\">            435.699 </td><td style=\"text-align: right;\">          29.3269 </td><td style=\"text-align: right;\">      435.699 </td><td style=\"text-align: right;\"> 1687447619</td><td style=\"text-align: right;\">     2.30811</td><td style=\"text-align: right;\">                   5</td><td>1f9d2_00002</td><td style=\"text-align: right;\">   2.30443</td></tr>\n",
       "<tr><td>LightningTrainer_1f9d2_00003</td><td>train_epoch_end</td><td>2023-06-22_17-27-06</td><td>True  </td><td style=\"text-align: right;\">      4</td><td>3_lr=0.1000,weight_decay=0.0003</td><td>thinkpad-t14s</td><td style=\"text-align: right;\">                         5</td><td>192.168.2.113</td><td style=\"text-align: right;\">142689</td><td>True               </td><td style=\"text-align: right;\">    35</td><td style=\"text-align: right;\">            440.777 </td><td style=\"text-align: right;\">          27.5254 </td><td style=\"text-align: right;\">      440.777 </td><td style=\"text-align: right;\"> 1687447625</td><td style=\"text-align: right;\">     2.13699</td><td style=\"text-align: right;\">                   5</td><td>1f9d2_00003</td><td style=\"text-align: right;\">   2.08175</td></tr>\n",
       "<tr><td>LightningTrainer_1f9d2_00004</td><td>train_epoch_end</td><td>2023-06-22_17-26-43</td><td>True  </td><td style=\"text-align: right;\">      4</td><td>4_lr=0.0003,weight_decay=0.0003</td><td>thinkpad-t14s</td><td style=\"text-align: right;\">                         5</td><td>192.168.2.113</td><td style=\"text-align: right;\">142713</td><td>True               </td><td style=\"text-align: right;\">    35</td><td style=\"text-align: right;\">            419.866 </td><td style=\"text-align: right;\">          37.5094 </td><td style=\"text-align: right;\">      419.866 </td><td style=\"text-align: right;\"> 1687447602</td><td style=\"text-align: right;\">     2.30244</td><td style=\"text-align: right;\">                   5</td><td>1f9d2_00004</td><td style=\"text-align: right;\">   2.30782</td></tr>\n",
       "<tr><td>LightningTrainer_1f9d2_00005</td><td>train_epoch_end</td><td>2023-06-22_17-27-05</td><td>True  </td><td style=\"text-align: right;\">      4</td><td>5_lr=0.0000,weight_decay=0.0003</td><td>thinkpad-t14s</td><td style=\"text-align: right;\">                         5</td><td>192.168.2.113</td><td style=\"text-align: right;\">142719</td><td>True               </td><td style=\"text-align: right;\">    35</td><td style=\"text-align: right;\">            438.332 </td><td style=\"text-align: right;\">          28.981  </td><td style=\"text-align: right;\">      438.332 </td><td style=\"text-align: right;\"> 1687447624</td><td style=\"text-align: right;\">     2.30628</td><td style=\"text-align: right;\">                   5</td><td>1f9d2_00005</td><td style=\"text-align: right;\">   2.30264</td></tr>\n",
       "<tr><td>LightningTrainer_1f9d2_00006</td><td>train_epoch_end</td><td>2023-06-22_17-26-58</td><td>True  </td><td style=\"text-align: right;\">      4</td><td>6_lr=0.1000,weight_decay=0.0000</td><td>thinkpad-t14s</td><td style=\"text-align: right;\">                         5</td><td>192.168.2.113</td><td style=\"text-align: right;\">142730</td><td>True               </td><td style=\"text-align: right;\">    35</td><td style=\"text-align: right;\">            436.253 </td><td style=\"text-align: right;\">          33.6079 </td><td style=\"text-align: right;\">      436.253 </td><td style=\"text-align: right;\"> 1687447612</td><td style=\"text-align: right;\">     2.17796</td><td style=\"text-align: right;\">                   5</td><td>1f9d2_00006</td><td style=\"text-align: right;\">   2.13372</td></tr>\n",
       "<tr><td>LightningTrainer_1f9d2_00007</td><td>train_epoch_end</td><td>2023-06-22_17-26-54</td><td>True  </td><td style=\"text-align: right;\">      4</td><td>7_lr=0.0003,weight_decay=0.0000</td><td>thinkpad-t14s</td><td style=\"text-align: right;\">                         5</td><td>192.168.2.113</td><td style=\"text-align: right;\">142819</td><td>True               </td><td style=\"text-align: right;\">    35</td><td style=\"text-align: right;\">            430.849 </td><td style=\"text-align: right;\">          30.8667 </td><td style=\"text-align: right;\">      430.849 </td><td style=\"text-align: right;\"> 1687447607</td><td style=\"text-align: right;\">     2.31026</td><td style=\"text-align: right;\">                   5</td><td>1f9d2_00007</td><td style=\"text-align: right;\">   2.30657</td></tr>\n",
       "<tr><td>LightningTrainer_1f9d2_00008</td><td>train_epoch_end</td><td>2023-06-22_17-27-25</td><td>True  </td><td style=\"text-align: right;\">      4</td><td>8_lr=0.0000,weight_decay=0.0000</td><td>thinkpad-t14s</td><td style=\"text-align: right;\">                         5</td><td>192.168.2.113</td><td style=\"text-align: right;\">148327</td><td>True               </td><td style=\"text-align: right;\">    35</td><td style=\"text-align: right;\">             15.1133</td><td style=\"text-align: right;\">           1.62515</td><td style=\"text-align: right;\">       15.1133</td><td style=\"text-align: right;\"> 1687447645</td><td style=\"text-align: right;\">     2.30706</td><td style=\"text-align: right;\">                   5</td><td>1f9d2_00008</td><td style=\"text-align: right;\">   2.30435</td></tr>\n",
       "</tbody>\n",
       "</table>\n",
       "</div>\n",
       "<style>\n",
       ".trialProgress {\n",
       "  display: flex;\n",
       "  flex-direction: column;\n",
       "  color: var(--jp-ui-font-color1);\n",
       "}\n",
       ".trialProgress h3 {\n",
       "  font-weight: bold;\n",
       "}\n",
       ".trialProgress td {\n",
       "  white-space: nowrap;\n",
       "}\n",
       "</style>\n"
      ],
      "text/plain": [
       "<IPython.core.display.HTML object>"
      ]
     },
     "metadata": {},
     "output_type": "display_data"
    },
    {
     "name": "stdout",
     "output_type": "stream",
     "text": [
      "\u001b[2m\u001b[36m(RayTrainWorker pid=143131)\u001b[0m \u001b[37mValidation\u001b[0m \u001b[35m━━━━━━━━━━━━━━━━━━━━━━\u001b[0m\u001b[35m╸\u001b[0m\u001b[90m━━━\u001b[0m \u001b[37m13/15\u001b[0m \u001b[37m0:00:04 • 0:00:01\u001b[0m \u001b[37m2.73it/s\u001b[0m          \u001b[32m [repeated 147x across cluster]\u001b[0m\n",
      "\u001b[2K\u001b[1A\u001b[2K\u001b[37mEpoch 0/4 \u001b[0m \u001b[35m━━━━━━━━━━━━━━━━━━━━━━━━━━━\u001b[0m \u001b[37m7/7 \u001b[0m \u001b[37m0:00:18 • 0:00:00\u001b[0m \u001b[37m0.79it/s\u001b[0m \u001b[37mv_num: 0 \u001b[0m\u001b[32m [repeated 43x across cluster]\u001b[0m\n",
      "\u001b[2K\u001b[37mEpoch 1/4 \u001b[0m \u001b[35m━━\u001b[0m\u001b[35m╸\u001b[0m\u001b[90m━━━━━━━━━━━━━━━\u001b[0m \u001b[37m1/7\u001b[0m \u001b[37m0:00:01 • -:--:--\u001b[0m \u001b[37m0.00it/s\u001b[0m \u001b[37mv_num: 0 val_loss: \u001b[0m\n",
      "\u001b[2m\u001b[36m(RayTrainWorker pid=143146)\u001b[0m                                                              \u001b[37m2.308 train_loss:  \u001b[0m\n",
      "\u001b[2m\u001b[36m(RayTrainWorker pid=143146)\u001b[0m                                                              \u001b[37m2.306              \u001b[0m\n"
     ]
    },
    {
     "name": "stderr",
     "output_type": "stream",
     "text": [
      "\u001b[2m\u001b[36m(RayTrainWorker pid=143131)\u001b[0m E0622 17:23:00.596943894  143582 fork_posix.cc:76]           Other threads are currently calling into gRPC, skipping fork() handlers\u001b[32m [repeated 4x across cluster]\u001b[0m\n"
     ]
    },
    {
     "name": "stdout",
     "output_type": "stream",
     "text": [
      "\u001b[2K\u001b[1A\u001b[2K\u001b[1A\u001b[2K\u001b[37mEpoch 1/4 \u001b[0m \u001b[35m━━━━━\u001b[0m\u001b[90m╺\u001b[0m\u001b[90m━━━━━━━━━━━━\u001b[0m \u001b[37m2/7\u001b[0m \u001b[37m0:00:02 • 0:00:06\u001b[0m \u001b[37m0.94it/s\u001b[0m \u001b[37mv_num: 0 val_loss: \u001b[0m\u001b[32m [repeated 11x across cluster]\u001b[0m\n",
      "\u001b[2m\u001b[36m(RayTrainWorker pid=143131)\u001b[0m                                                              \u001b[37m2.29 train_loss:   \u001b[0m\u001b[32m [repeated 12x across cluster]\u001b[0m\n",
      "\u001b[2m\u001b[36m(RayTrainWorker pid=143131)\u001b[0m                                                              \u001b[37m2.297              \u001b[0m\u001b[32m [repeated 11x across cluster]\u001b[0m\n",
      "\u001b[2m\u001b[36m(RayTrainWorker pid=143245)\u001b[0m \u001b[37mValidation\u001b[0m \u001b[35m━━━━━━━━━━━━━━━━━━━\u001b[0m\u001b[90m╺\u001b[0m\u001b[90m━━━━━━\u001b[0m \u001b[37m11/15\u001b[0m \u001b[37m0:00:05 • 0:00:02\u001b[0m \u001b[37m2.11it/s\u001b[0m          \u001b[32m [repeated 179x across cluster]\u001b[0m\n",
      "\u001b[2K\u001b[37mEpoch 1/4 \u001b[0m \u001b[90m━━━━━━━━━━━━━━━━━━━━━━━━━━━━━━━━━━━━\u001b[0m \u001b[37m0/7\u001b[0m \u001b[37m0:00:00 • -:--:--\u001b[0m \u001b[37m0.00it/s\u001b[0m \u001b[32m [repeated 36x across cluster]\u001b[0m\n",
      "\u001b[2K\u001b[37mEpoch 1/4 \u001b[0m \u001b[35m━━\u001b[0m\u001b[35m╸\u001b[0m\u001b[90m━━━━━━━━━━━━━━━\u001b[0m \u001b[37m1/7\u001b[0m \u001b[37m0:00:01 • -:--:--\u001b[0m \u001b[37m0.00it/s\u001b[0m \u001b[37mv_num: 0 val_loss: \u001b[0m\u001b[32m [repeated 2x across cluster]\u001b[0m\n"
     ]
    },
    {
     "name": "stderr",
     "output_type": "stream",
     "text": [
      "\u001b[2m\u001b[36m(RayTrainWorker pid=143245)\u001b[0m E0622 17:23:06.206710109  143625 fork_posix.cc:76]           Other threads are currently calling into gRPC, skipping fork() handlers\u001b[32m [repeated 6x across cluster]\u001b[0m\n"
     ]
    },
    {
     "name": "stdout",
     "output_type": "stream",
     "text": [
      "\u001b[2K\u001b[1A\u001b[2K\u001b[1A\u001b[2K\u001b[37mEpoch 1/4 \u001b[0m \u001b[35m━━━━━━━━━━━━\u001b[0m\u001b[35m╸\u001b[0m\u001b[90m━━━━━\u001b[0m \u001b[37m5/7\u001b[0m \u001b[37m0:00:03 • 0:00:02\u001b[0m \u001b[37m1.59it/s\u001b[0m \u001b[37mv_num: 0 val_loss: \u001b[0m\u001b[32m [repeated 71x across cluster]\u001b[0m\n",
      "\u001b[2m\u001b[36m(RayTrainWorker pid=143146)\u001b[0m                                                               \u001b[37m2.308 train_loss: \u001b[0m\u001b[32m [repeated 95x across cluster]\u001b[0m\n",
      "\u001b[2m\u001b[36m(RayTrainWorker pid=143146)\u001b[0m                                                               \u001b[37m2.306             \u001b[0m\u001b[32m [repeated 76x across cluster]\u001b[0m\n",
      "\u001b[2m\u001b[36m(RayTrainWorker pid=143146)\u001b[0m \u001b[37mValidation\u001b[0m \u001b[35m━━━━━━━━━\u001b[0m\u001b[35m╸\u001b[0m\u001b[90m━━━━━━━━\u001b[0m \u001b[37m8/15\u001b[0m \u001b[37m0:00:02 • 0:00:03\u001b[0m \u001b[37m3.12it/s\u001b[0m                   \u001b[32m [repeated 39x across cluster]\u001b[0m\n",
      "\u001b[2K\u001b[1A\u001b[2K\u001b[1A\u001b[2K\u001b[1A\u001b[2K\u001b[37mEpoch 1/4 \u001b[0m \u001b[35m━━━━━━━━━━━━━━━━━━\u001b[0m \u001b[37m7/7 \u001b[0m \u001b[37m0:00:06 • 0:00:00\u001b[0m \u001b[37m1.23it/s\u001b[0m \u001b[37mv_num: 0 val_loss:\u001b[0m\u001b[32m [repeated 13x across cluster]\u001b[0m\n",
      "\u001b[2K\u001b[37mEpoch 1/4 \u001b[0m \u001b[35m━━\u001b[0m\u001b[35m╸\u001b[0m\u001b[90m━━━━━━━━━━━━━━━\u001b[0m \u001b[37m1/7\u001b[0m \u001b[37m0:00:01 • -:--:--\u001b[0m \u001b[37m0.00it/s\u001b[0m \u001b[37mv_num: 0 val_loss: \u001b[0m\u001b[32m [repeated 4x across cluster]\u001b[0m\n",
      "\u001b[2K\u001b[1A\u001b[2K\u001b[1A\u001b[2K\u001b[37mEpoch 1/4 \u001b[0m \u001b[35m━━━━━━━━━━━━━━━━━━\u001b[0m \u001b[37m7/7\u001b[0m \u001b[37m0:00:06 • 0:00:00\u001b[0m \u001b[37m1.13it/s\u001b[0m \u001b[37mv_num: 0 val_loss: \u001b[0m\u001b[32m [repeated 37x across cluster]\u001b[0m\n",
      "\u001b[2m\u001b[36m(RayTrainWorker pid=143229)\u001b[0m                                                               \u001b[37m2.277 train_loss: \u001b[0m\u001b[32m [repeated 105x across cluster]\u001b[0m\n",
      "\u001b[2m\u001b[36m(RayTrainWorker pid=143229)\u001b[0m                                                               \u001b[37m2.297             \u001b[0m\u001b[32m [repeated 91x across cluster]\u001b[0m\n",
      "\u001b[2m\u001b[36m(RayTrainWorker pid=143229)\u001b[0m \u001b[37mValidation\u001b[0m \u001b[35m━━━\u001b[0m\u001b[35m╸\u001b[0m\u001b[90m━━━━━━━━━━━━━━\u001b[0m \u001b[37m3/15\u001b[0m \u001b[37m0:00:02 • 0:00:15\u001b[0m \u001b[37m0.83it/s\u001b[0m                   \u001b[32m [repeated 110x across cluster]\u001b[0m\n",
      "\u001b[2K\u001b[1A\u001b[2K\u001b[1A\u001b[2K\u001b[1A\u001b[2K\u001b[37mEpoch 1/4 \u001b[0m \u001b[35m━━━━━━━━━━━━━━━━━\u001b[0m \u001b[37m7/7  \u001b[0m \u001b[37m0:00:06 • 0:00:00\u001b[0m \u001b[37m1.23it/s\u001b[0m \u001b[37mv_num: 0 val_loss:\u001b[0m\u001b[32m [repeated 11x across cluster]\u001b[0m\n"
     ]
    },
    {
     "name": "stderr",
     "output_type": "stream",
     "text": [
      "\u001b[2m\u001b[36m(RayTrainWorker pid=143146)\u001b[0m E0622 17:23:15.368817653  143558 fork_posix.cc:76]           Other threads are currently calling into gRPC, skipping fork() handlers\u001b[32m [repeated 6x across cluster]\u001b[0m\n"
     ]
    },
    {
     "name": "stdout",
     "output_type": "stream",
     "text": [
      "\u001b[2K\u001b[1A\u001b[2K\u001b[1A\u001b[2K\u001b[37mEpoch 1/4 \u001b[0m \u001b[35m━━━━━━━━━━━━━━━━━━\u001b[0m \u001b[37m7/7\u001b[0m \u001b[37m0:00:06 • 0:00:00\u001b[0m \u001b[37m1.13it/s\u001b[0m \u001b[37mv_num: 0 val_loss: \u001b[0m\u001b[32m [repeated 3x across cluster]\u001b[0m\n",
      "\u001b[2m\u001b[36m(RayTrainWorker pid=143245)\u001b[0m                                                               \u001b[37m2.297 train_loss: \u001b[0m\u001b[32m [repeated 31x across cluster]\u001b[0m\n",
      "\u001b[2m\u001b[36m(RayTrainWorker pid=143245)\u001b[0m                                                               \u001b[37m2.303             \u001b[0m\u001b[32m [repeated 32x across cluster]\u001b[0m\n",
      "\u001b[2m\u001b[36m(RayTrainWorker pid=143245)\u001b[0m \u001b[37mValidation\u001b[0m \u001b[35m━\u001b[0m\u001b[90m╺\u001b[0m\u001b[90m━━━━━━━━━━━━━━━━\u001b[0m \u001b[37m1/15\u001b[0m \u001b[37m0:00:03 • -:--:--\u001b[0m \u001b[37m0.00it/s\u001b[0m                   \u001b[32m [repeated 52x across cluster]\u001b[0m\n",
      "\u001b[2K\u001b[1A\u001b[2K\u001b[1A\u001b[2K\u001b[1A\u001b[2K\u001b[37mEpoch 1/4 \u001b[0m \u001b[35m━━━━━━━━━━━━━━━━━━\u001b[0m \u001b[37m7/7 \u001b[0m \u001b[37m0:00:06 • 0:00:00\u001b[0m \u001b[37m1.27it/s\u001b[0m \u001b[37mv_num: 0 val_loss:\u001b[0m\u001b[32m [repeated 3x across cluster]\u001b[0m\n",
      "\u001b[2m\u001b[36m(RayTrainWorker pid=143375)\u001b[0m                                                               \u001b[37m2.302 train_loss: \u001b[0m\u001b[32m [repeated 32x across cluster]\u001b[0m\n",
      "\u001b[2m\u001b[36m(RayTrainWorker pid=143375)\u001b[0m                                                               \u001b[37m2.304             \u001b[0m\u001b[32m [repeated 32x across cluster]\u001b[0m\n",
      "\u001b[2m\u001b[36m(RayTrainWorker pid=143375)\u001b[0m \u001b[37mValidation\u001b[0m \u001b[35m━━━━━━━━━\u001b[0m\u001b[35m╸\u001b[0m\u001b[90m━━━━━━━━\u001b[0m \u001b[37m8/15\u001b[0m \u001b[37m0:00:13 • 0:00:13\u001b[0m \u001b[37m0.57it/s\u001b[0m                   \u001b[32m [repeated 64x across cluster]\u001b[0m\n",
      "\u001b[2K\u001b[1A\u001b[2K\u001b[1A\u001b[2K\u001b[1A\u001b[2K\u001b[37mEpoch 1/4 \u001b[0m \u001b[35m━━━━━━━━━━━━━━━━━━\u001b[0m \u001b[37m7/7 \u001b[0m \u001b[37m0:00:06 • 0:00:00\u001b[0m \u001b[37m1.21it/s\u001b[0m \u001b[37mv_num: 0 val_loss:\u001b[0m[0m                   \n",
      "\u001b[2K\u001b[37mEpoch 2/4 \u001b[0m \u001b[35m━━\u001b[0m\u001b[35m╸\u001b[0m\u001b[90m━━━━━━━━━━━━━━━\u001b[0m \u001b[37m1/7\u001b[0m \u001b[37m0:00:10 • -:--:--\u001b[0m \u001b[37m0.00it/s\u001b[0m \u001b[37mv_num: 0 val_loss: \u001b[0m\n",
      "\u001b[2m\u001b[36m(RayTrainWorker pid=143375)\u001b[0m                                                               \u001b[37m2.302 train_loss: \u001b[0m\u001b[32m [repeated 29x across cluster]\u001b[0m\n",
      "\u001b[2m\u001b[36m(RayTrainWorker pid=143375)\u001b[0m                                                               \u001b[37m2.304             \u001b[0m\u001b[32m [repeated 29x across cluster]\u001b[0m\n",
      "\u001b[2m\u001b[36m(RayTrainWorker pid=143375)\u001b[0m \u001b[37mValidation\u001b[0m \u001b[35m━━━━━━━━━━━\u001b[0m\u001b[90m╺\u001b[0m\u001b[90m━━━━━\u001b[0m \u001b[37m10/15\u001b[0m \u001b[37m0:00:18 • 0:00:10\u001b[0m \u001b[37m0.50it/s\u001b[0m                   \u001b[32m [repeated 51x across cluster]\u001b[0m\n",
      "\u001b[2m\u001b[36m(RayTrainWorker pid=143270)\u001b[0m \u001b[37mValidation\u001b[0m \u001b[35m━━━━━━━━━━━━\u001b[0m\u001b[90m╺\u001b[0m\u001b[90m━━━━\u001b[0m \u001b[37m11/15\u001b[0m \u001b[37m0:00:19 • 0:00:08\u001b[0m \u001b[37m0.55it/s\u001b[0m                   \n",
      "\u001b[2K\u001b[1A\u001b[2K\u001b[1A\u001b[2K\u001b[37mEpoch 2/4 \u001b[0m \u001b[35m━━━━━\u001b[0m\u001b[90m╺\u001b[0m\u001b[90m━━━━━━━━━━━━\u001b[0m \u001b[37m2/7\u001b[0m \u001b[37m0:00:14 • 0:00:24\u001b[0m \u001b[37m0.21it/s\u001b[0m \u001b[37mv_num: 0 val_loss: \u001b[0m\u001b[32m [repeated 4x across cluster]\u001b[0m\n",
      "\u001b[2m\u001b[36m(RayTrainWorker pid=143170)\u001b[0m                                                              \u001b[37m2.307 train_loss:  \u001b[0m\u001b[32m [repeated 29x across cluster]\u001b[0m\n",
      "\u001b[2m\u001b[36m(RayTrainWorker pid=143170)\u001b[0m \u001b[?25h\u001b[32m [repeated 30x across cluster]\u001b[0m\n",
      "\u001b[2K\u001b[37mEpoch 2/4 \u001b[0m \u001b[90m━━━━━━━━━━━━━━━━━━━━━━━━━━━━━━━━━━━━\u001b[0m \u001b[37m0/7\u001b[0m \u001b[37m0:00:00 • -:--:--\u001b[0m \u001b[37m0.00it/s\u001b[0m \u001b[32m [repeated 47x across cluster]\u001b[0m\n"
     ]
    },
    {
     "name": "stderr",
     "output_type": "stream",
     "text": [
      "\u001b[2m\u001b[36m(RayTrainWorker pid=143170)\u001b[0m E0622 17:23:34.942274410  143596 fork_posix.cc:76]           Other threads are currently calling into gRPC, skipping fork() handlers\n"
     ]
    },
    {
     "name": "stdout",
     "output_type": "stream",
     "text": [
      "\u001b[2K\u001b[1A\u001b[2K\u001b[1A\u001b[2K\u001b[37mEpoch 1/4 \u001b[0m \u001b[35m━━━━━━━━━━━━━━━━━━\u001b[0m \u001b[37m7/7\u001b[0m \u001b[37m0:00:05 • 0:00:00\u001b[0m \u001b[37m1.38it/s\u001b[0m \u001b[37mv_num: 0 val_loss: \u001b[0m\u001b[32m [repeated 4x across cluster]\u001b[0m\n",
      "\u001b[2m\u001b[36m(RayTrainWorker pid=143245)\u001b[0m                                                               \u001b[37m2.297 train_loss: \u001b[0m\u001b[32m [repeated 15x across cluster]\u001b[0m\n",
      "\u001b[2m\u001b[36m(RayTrainWorker pid=143245)\u001b[0m                                                               \u001b[37m2.303             \u001b[0m\u001b[32m [repeated 15x across cluster]\u001b[0m\n",
      "\u001b[2m\u001b[36m(RayTrainWorker pid=143245)\u001b[0m \u001b[37mValidation\u001b[0m \u001b[35m━━━━━━━━━━━\u001b[0m\u001b[90m╺\u001b[0m\u001b[90m━━━━━\u001b[0m \u001b[37m10/15\u001b[0m \u001b[37m0:00:23 • 0:00:12\u001b[0m \u001b[37m0.44it/s\u001b[0m                   \u001b[32m [repeated 31x across cluster]\u001b[0m\n",
      "\u001b[2K\u001b[1A\u001b[2K\u001b[1A\u001b[2K\u001b[1A\u001b[2K\u001b[37mEpoch 1/4 \u001b[0m \u001b[35m━━━━━━━━━━━━━━━━━\u001b[0m \u001b[37m7/7  \u001b[0m \u001b[37m0:00:05 • 0:00:00\u001b[0m \u001b[37m1.52it/s\u001b[0m \u001b[37mv_num: 0 val_loss:\u001b[0m[0m                   \n",
      "\u001b[2K\u001b[1A\u001b[2K\u001b[1A\u001b[2K\u001b[37mEpoch 2/4 \u001b[0m \u001b[35m━━━━━━━━━━\u001b[0m\u001b[90m╺\u001b[0m\u001b[90m━━━━━━━\u001b[0m \u001b[37m4/7\u001b[0m \u001b[37m0:00:25 • 0:00:16\u001b[0m \u001b[37m0.19it/s\u001b[0m \u001b[37mv_num: 0 val_loss: \u001b[0m\n",
      "\u001b[2K\u001b[1A\u001b[2K\u001b[1A\u001b[2K\u001b[37mEpoch 2/4 \u001b[0m \u001b[35m━━━━━━━━━━\u001b[0m\u001b[90m╺\u001b[0m\u001b[90m━━━━━━━\u001b[0m \u001b[37m4/7\u001b[0m \u001b[37m0:00:26 • 0:00:16\u001b[0m \u001b[37m0.19it/s\u001b[0m \u001b[37mv_num: 0 val_loss: \u001b[0m\n",
      "\u001b[2K\u001b[1A\u001b[2K\u001b[1A\u001b[2K\u001b[1A\u001b[2K\u001b[37mEpoch 1/4 \u001b[0m \u001b[35m━━━━━━━━━━━━━━━━━\u001b[0m \u001b[37m7/7  \u001b[0m \u001b[37m0:00:05 • 0:00:00\u001b[0m \u001b[37m1.52it/s\u001b[0m \u001b[37mv_num: 0 val_loss:\u001b[0m    \n",
      "\u001b[2m\u001b[36m(RayTrainWorker pid=143375)\u001b[0m                                                              \u001b[37m2.302 train_loss:  \u001b[0m\u001b[32m [repeated 19x across cluster]\u001b[0m\n",
      "\u001b[2m\u001b[36m(RayTrainWorker pid=143375)\u001b[0m                                                              \u001b[37m2.304              \u001b[0m\u001b[32m [repeated 19x across cluster]\u001b[0m\n",
      "\u001b[2K\u001b[37mEpoch 2/4 \u001b[0m \u001b[35m━━━━━\u001b[0m\u001b[90m╺\u001b[0m\u001b[90m━━━━━━━━━━━━━━━━━━━━━━━━━━━━━━\u001b[0m \u001b[37m1/7\u001b[0m \u001b[37m0:00:11 • -:--:--\u001b[0m \u001b[37m0.00it/s\u001b[0m \u001b[32m [repeated 27x across cluster]\u001b[0m\n",
      "\u001b[2K\u001b[37mEpoch 2/4 \u001b[0m \u001b[35m━━\u001b[0m\u001b[35m╸\u001b[0m\u001b[90m━━━━━━━━━━━━━━━\u001b[0m \u001b[37m1/7\u001b[0m \u001b[37m0:00:11 • -:--:--\u001b[0m \u001b[37m0.00it/s\u001b[0m \u001b[37mv_num: 0 val_loss: \u001b[0m\u001b[32m [repeated 3x across cluster]\u001b[0m\n",
      "\u001b[2K\u001b[1A\u001b[2K\u001b[1A\u001b[2K\u001b[1A\u001b[2K\u001b[37mEpoch 1/4 \u001b[0m \u001b[35m━━━━━━━━━━━━━━━━━\u001b[0m \u001b[37m7/7  \u001b[0m \u001b[37m0:00:06 • 0:00:00\u001b[0m \u001b[37m1.13it/s\u001b[0m \u001b[37mv_num: 0 val_loss:\u001b[0m[0m                   \n",
      "\u001b[2m\u001b[36m(RayTrainWorker pid=143170)\u001b[0m                                                              \u001b[37m2.307 train_loss:  \u001b[0m\u001b[32m [repeated 21x across cluster]\u001b[0m\n",
      "\u001b[2m\u001b[36m(RayTrainWorker pid=143170)\u001b[0m                                                              \u001b[37m2.312              \u001b[0m\u001b[32m [repeated 21x across cluster]\u001b[0m\n",
      "\u001b[2m\u001b[36m(RayTrainWorker pid=143245)\u001b[0m \u001b[37mValidation\u001b[0m \u001b[35m━━━━━━━━━━━━━━━\u001b[0m\u001b[35m╸\u001b[0m\u001b[90m━\u001b[0m \u001b[37m14/15\u001b[0m \u001b[37m0:00:34 • 0:00:03\u001b[0m \u001b[37m0.41it/s\u001b[0m                   \u001b[32m [repeated 23x across cluster]\u001b[0m\n"
     ]
    },
    {
     "name": "stderr",
     "output_type": "stream",
     "text": [
      "\u001b[2m\u001b[36m(RayTrainWorker pid=143264)\u001b[0m E0622 17:23:51.469085814  143597 fork_posix.cc:76]           Other threads are currently calling into gRPC, skipping fork() handlers\n"
     ]
    },
    {
     "name": "stdout",
     "output_type": "stream",
     "text": [
      "\u001b[2K\u001b[1A\u001b[2K\u001b[1A\u001b[2K\u001b[1A\u001b[2K\u001b[37mEpoch 1/4 \u001b[0m \u001b[35m━━━━━━━━━━━━━━━━━\u001b[0m \u001b[37m7/7  \u001b[0m \u001b[37m0:00:06 • 0:00:00\u001b[0m \u001b[37m1.13it/s\u001b[0m \u001b[37mv_num: 0 val_loss:\u001b[0m    \n",
      "\u001b[2K\u001b[1A\u001b[2K\u001b[1A\u001b[2K\u001b[37mEpoch 1/4 \u001b[0m \u001b[35m━━━━━━━━━━━━━━━━━━\u001b[0m \u001b[37m7/7\u001b[0m \u001b[37m0:00:06 • 0:00:00\u001b[0m \u001b[37m1.27it/s\u001b[0m \u001b[37mv_num: 0 val_loss: \u001b[0m\u001b[32m [repeated 12x across cluster]\u001b[0m\n",
      "\u001b[2K\u001b[37mEpoch 2/4 \u001b[0m \u001b[90m━━━━━━━━━━━━━━━━━━━━━━━━━━━━━━━━━━━━\u001b[0m \u001b[37m0/7\u001b[0m \u001b[37m0:00:00 • -:--:--\u001b[0m \u001b[37m0.00it/s\u001b[0m \u001b[32m [repeated 2x across cluster]\u001b[0m\n",
      "\u001b[2m\u001b[36m(RayTrainWorker pid=143270)\u001b[0m                                                              \u001b[37m2.305 train_loss:  \u001b[0m\u001b[32m [repeated 16x across cluster]\u001b[0m\n",
      "\u001b[2m\u001b[36m(RayTrainWorker pid=143270)\u001b[0m \u001b[?25h\u001b[32m [repeated 20x across cluster]\u001b[0m\n",
      "\u001b[2m\u001b[36m(RayTrainWorker pid=143245)\u001b[0m \u001b[37mValidation\u001b[0m \u001b[35m━━━━━━━━━━━━━━━━━\u001b[0m \u001b[37m15/15\u001b[0m \u001b[37m0:00:36 • 0:00:00\u001b[0m \u001b[37m0.42it/s\u001b[0m                   \u001b[32m [repeated 4x across cluster]\u001b[0m\n"
     ]
    },
    {
     "name": "stderr",
     "output_type": "stream",
     "text": [
      "\u001b[2m\u001b[36m(RayTrainWorker pid=143270)\u001b[0m E0622 17:23:56.510101722  143609 fork_posix.cc:76]           Other threads are currently calling into gRPC, skipping fork() handlers\u001b[32m [repeated 2x across cluster]\u001b[0m\n"
     ]
    },
    {
     "name": "stdout",
     "output_type": "stream",
     "text": [
      "\u001b[2K\u001b[1A\u001b[2K\u001b[1A\u001b[2K\u001b[37mEpoch 2/4 \u001b[0m \u001b[35m━━━━━━━━━━\u001b[0m\u001b[90m╺\u001b[0m\u001b[90m━━━━━━━\u001b[0m \u001b[37m4/7\u001b[0m \u001b[37m0:00:24 • 0:00:13\u001b[0m \u001b[37m0.24it/s\u001b[0m \u001b[37mv_num: 0 val_loss: \u001b[0m\u001b[32m [repeated 12x across cluster]\u001b[0m\n",
      "\u001b[2K\u001b[37mEpoch 2/4 \u001b[0m \u001b[35m━━━━━\u001b[0m\u001b[90m╺\u001b[0m\u001b[90m━━━━━━━━━━━━━━━━━━━━━━━━━━━━━━\u001b[0m \u001b[37m1/7\u001b[0m \u001b[37m0:00:08 • -:--:--\u001b[0m \u001b[37m0.00it/s\u001b[0m \n",
      "\u001b[2m\u001b[36m(RayTrainWorker pid=143170)\u001b[0m                                                              \u001b[37m2.307 train_loss:  \u001b[0m\u001b[32m [repeated 7x across cluster]\u001b[0m\n",
      "\u001b[2m\u001b[36m(RayTrainWorker pid=143170)\u001b[0m                                                              \u001b[37m2.312              \u001b[0m\u001b[32m [repeated 9x across cluster]\u001b[0m\n",
      "\u001b[2K\u001b[37mEpoch 2/4 \u001b[0m \u001b[35m━━━━━\u001b[0m\u001b[90m╺\u001b[0m\u001b[90m━━━━━━━━━━━━━━━━━━━━━━━━━━━━━━\u001b[0m \u001b[37m1/7\u001b[0m \u001b[37m0:00:08 • -:--:--\u001b[0m \u001b[37m0.00it/s\u001b[0m \u001b[32m [repeated 3x across cluster]\u001b[0m\n",
      "\u001b[2K\u001b[37mEpoch 2/4 \u001b[0m \u001b[35m━━\u001b[0m\u001b[35m╸\u001b[0m\u001b[90m━━━━━━━━━━━━━━━\u001b[0m \u001b[37m1/7\u001b[0m \u001b[37m0:00:11 • -:--:--\u001b[0m \u001b[37m0.00it/s\u001b[0m \u001b[37mv_num: 0 val_loss: \u001b[0m\u001b[32m [repeated 7x across cluster]\u001b[0m\n",
      "\u001b[2m\u001b[36m(RayTrainWorker pid=143170)\u001b[0m                                                              \u001b[37m2.307 train_loss:  \u001b[0m\u001b[32m [repeated 11x across cluster]\u001b[0m\n",
      "\u001b[2m\u001b[36m(RayTrainWorker pid=143170)\u001b[0m                                                              \u001b[37m2.312              \u001b[0m\u001b[32m [repeated 11x across cluster]\u001b[0m\n",
      "\u001b[2m\u001b[36m(RayTrainWorker pid=143146)\u001b[0m \u001b[37mValidation\u001b[0m \u001b[35m━━\u001b[0m\u001b[90m╺\u001b[0m\u001b[90m━━━━━━━━━━━━━━━\u001b[0m \u001b[37m2/15\u001b[0m \u001b[37m0:00:08 • 0:00:48\u001b[0m \u001b[37m0.28it/s\u001b[0m                   \u001b[32m [repeated 10x across cluster]\u001b[0m\n",
      "\u001b[2K\u001b[1A\u001b[2K\u001b[1A\u001b[2K\u001b[37mEpoch 2/4 \u001b[0m \u001b[35m━━━━━\u001b[0m\u001b[90m╺\u001b[0m\u001b[90m━━━━━━━━━━━━\u001b[0m \u001b[37m2/7\u001b[0m \u001b[37m0:00:15 • 0:00:32\u001b[0m \u001b[37m0.16it/s\u001b[0m \u001b[37mv_num: 0 val_loss: \u001b[0m\u001b[32m [repeated 7x across cluster]\u001b[0m\n",
      "\u001b[2m\u001b[36m(RayTrainWorker pid=143146)\u001b[0m                                                               \u001b[37m2.305 train_loss: \u001b[0m\u001b[32m [repeated 12x across cluster]\u001b[0m\n",
      "\u001b[2m\u001b[36m(RayTrainWorker pid=143146)\u001b[0m                                                               \u001b[37m2.302             \u001b[0m\u001b[32m [repeated 11x across cluster]\u001b[0m\n",
      "\u001b[2m\u001b[36m(RayTrainWorker pid=143146)\u001b[0m \u001b[37mValidation\u001b[0m \u001b[35m━━━━\u001b[0m\u001b[35m╸\u001b[0m\u001b[90m━━━━━━━━━━━━━\u001b[0m \u001b[37m4/15\u001b[0m \u001b[37m0:00:13 • 0:00:34\u001b[0m \u001b[37m0.33it/s\u001b[0m                   \u001b[32m [repeated 10x across cluster]\u001b[0m\n",
      "\u001b[2K\u001b[1A\u001b[2K\u001b[1A\u001b[2K\u001b[37mEpoch 2/4 \u001b[0m \u001b[35m━━━━━━━━━━━━━━━\u001b[0m\u001b[90m╺\u001b[0m\u001b[90m━━\u001b[0m \u001b[37m6/7\u001b[0m \u001b[37m0:00:38 • 0:00:06\u001b[0m \u001b[37m0.19it/s\u001b[0m \u001b[37mv_num: 0 val_loss: \u001b[0m\u001b[32m [repeated 7x across cluster]\u001b[0m\n",
      "\u001b[2m\u001b[36m(RayTrainWorker pid=143131)\u001b[0m                                                              \u001b[37m2.248 train_loss:  \u001b[0m\u001b[32m [repeated 15x across cluster]\u001b[0m\n",
      "\u001b[2m\u001b[36m(RayTrainWorker pid=143131)\u001b[0m                                                              \u001b[37m2.275              \u001b[0m\u001b[32m [repeated 15x across cluster]\u001b[0m\n",
      "\u001b[2m\u001b[36m(RayTrainWorker pid=143146)\u001b[0m \u001b[37mValidation\u001b[0m \u001b[35m━━━━━━\u001b[0m\u001b[90m╺\u001b[0m\u001b[90m━━━━━━━━━━━\u001b[0m \u001b[37m5/15\u001b[0m \u001b[37m0:00:16 • 0:00:30\u001b[0m \u001b[37m0.34it/s\u001b[0m                   \u001b[32m [repeated 4x across cluster]\u001b[0m\n"
     ]
    },
    {
     "name": "stderr",
     "output_type": "stream",
     "text": [
      "\u001b[2m\u001b[36m(RayTrainWorker pid=143131)\u001b[0m E0622 17:24:17.777605788  143582 fork_posix.cc:76]           Other threads are currently calling into gRPC, skipping fork() handlers\u001b[32m [repeated 2x across cluster]\u001b[0m\n"
     ]
    },
    {
     "name": "stdout",
     "output_type": "stream",
     "text": [
      "\u001b[2K\u001b[1A\u001b[2K\u001b[1A\u001b[2K\u001b[37mEpoch 2/4 \u001b[0m \u001b[35m━━━━━━━\u001b[0m\u001b[35m╸\u001b[0m\u001b[90m━━━━━━━━━━\u001b[0m \u001b[37m3/7\u001b[0m \u001b[37m0:00:18 • 0:00:18\u001b[0m \u001b[37m0.23it/s\u001b[0m \u001b[37mv_num: 0 val_loss: \u001b[0m\u001b[32m [repeated 15x across cluster]\u001b[0m\n",
      "\u001b[2m\u001b[36m(RayTrainWorker pid=143131)\u001b[0m                                                              \u001b[37m2.248 train_loss:  \u001b[0m\u001b[32m [repeated 18x across cluster]\u001b[0m\n",
      "\u001b[2m\u001b[36m(RayTrainWorker pid=143131)\u001b[0m                                                              \u001b[37m2.275              \u001b[0m\u001b[32m [repeated 17x across cluster]\u001b[0m\n",
      "\u001b[2m\u001b[36m(RayTrainWorker pid=143146)\u001b[0m \u001b[37mValidation\u001b[0m \u001b[35m━━━━━━━━\u001b[0m\u001b[90m╺\u001b[0m\u001b[90m━━━━━━━━━\u001b[0m \u001b[37m7/15\u001b[0m \u001b[37m0:00:23 • 0:00:25\u001b[0m \u001b[37m0.32it/s\u001b[0m                   \u001b[32m [repeated 8x across cluster]\u001b[0m\n",
      "\u001b[2K\u001b[1A\u001b[2K\u001b[1A\u001b[2K\u001b[37mEpoch 2/4 \u001b[0m \u001b[35m━━━━━━━━━━━━━━━━━━\u001b[0m \u001b[37m7/7\u001b[0m \u001b[37m0:00:43 • 0:00:00\u001b[0m \u001b[37m0.17it/s\u001b[0m \u001b[37mv_num: 0 val_loss: \u001b[0m\u001b[32m [repeated 14x across cluster]\u001b[0m\n",
      "\u001b[2m\u001b[36m(RayTrainWorker pid=143270)\u001b[0m                                                              \u001b[37m2.305 train_loss:  \u001b[0m\u001b[32m [repeated 21x across cluster]\u001b[0m\n",
      "\u001b[2m\u001b[36m(RayTrainWorker pid=143270)\u001b[0m                                                              \u001b[37m2.305              \u001b[0m\u001b[32m [repeated 19x across cluster]\u001b[0m\n",
      "\u001b[2m\u001b[36m(RayTrainWorker pid=143170)\u001b[0m \u001b[37mValidation\u001b[0m \u001b[35m━\u001b[0m\u001b[90m╺\u001b[0m\u001b[90m━━━━━━━━━━━━━━━━\u001b[0m \u001b[37m1/15\u001b[0m \u001b[37m0:00:03 • -:--:--\u001b[0m \u001b[37m0.00it/s\u001b[0m                   \u001b[32m [repeated 16x across cluster]\u001b[0m\n",
      "\u001b[2K\u001b[1A\u001b[2K\u001b[1A\u001b[2K\u001b[37mEpoch 2/4 \u001b[0m \u001b[35m━━━━━━━━━━━━\u001b[0m\u001b[35m╸\u001b[0m\u001b[90m━━━━━\u001b[0m \u001b[37m5/7\u001b[0m \u001b[37m0:00:30 • 0:00:11\u001b[0m \u001b[37m0.19it/s\u001b[0m \u001b[37mv_num: 0 val_loss: \u001b[0m\u001b[32m [repeated 11x across cluster]\u001b[0m\n",
      "\u001b[2K\u001b[1A\u001b[2K\u001b[1A\u001b[2K\u001b[1A\u001b[2K\u001b[37mEpoch 2/4 \u001b[0m \u001b[35m━━━━━━━━━━━━━━━━━\u001b[0m \u001b[37m7/7  \u001b[0m \u001b[37m0:00:39 • 0:00:00\u001b[0m \u001b[37m0.20it/s\u001b[0m \u001b[37mv_num: 0 val_loss:\u001b[0m[0m                   \n",
      "\u001b[2m\u001b[36m(RayTrainWorker pid=143270)\u001b[0m                                                              \u001b[37m2.305 train_loss:  \u001b[0m\u001b[32m [repeated 21x across cluster]\u001b[0m\n",
      "\u001b[2m\u001b[36m(RayTrainWorker pid=143270)\u001b[0m                                                              \u001b[37m2.305              \u001b[0m\u001b[32m [repeated 21x across cluster]\u001b[0m\n",
      "\u001b[2m\u001b[36m(RayTrainWorker pid=143170)\u001b[0m \u001b[37mValidation\u001b[0m \u001b[35m━━━\u001b[0m\u001b[35m╸\u001b[0m\u001b[90m━━━━━━━━━━━━━━\u001b[0m \u001b[37m3/15\u001b[0m \u001b[37m0:00:10 • 0:00:38\u001b[0m \u001b[37m0.32it/s\u001b[0m                   \u001b[32m [repeated 20x across cluster]\u001b[0m\n",
      "\u001b[2K\u001b[1A\u001b[2K\u001b[1A\u001b[2K\u001b[37mEpoch 2/4 \u001b[0m \u001b[35m━━━━━━━━━━━━\u001b[0m\u001b[35m╸\u001b[0m\u001b[90m━━━━━\u001b[0m \u001b[37m5/7\u001b[0m \u001b[37m0:00:37 • 0:00:13\u001b[0m \u001b[37m0.15it/s\u001b[0m \u001b[37mv_num: 0 val_loss: \u001b[0m\u001b[32m [repeated 9x across cluster]\u001b[0m\n",
      "\u001b[2m\u001b[36m(RayTrainWorker pid=143131)\u001b[0m \u001b[37mValidation\u001b[0m \u001b[35m━━━━━━━━━━━━━━\u001b[0m\u001b[35m╸\u001b[0m\u001b[90m━━\u001b[0m \u001b[37m13/15\u001b[0m \u001b[37m0:00:39 • 0:00:06\u001b[0m \u001b[37m0.34it/s\u001b[0m                   \n"
     ]
    },
    {
     "name": "stderr",
     "output_type": "stream",
     "text": [
      "\u001b[2m\u001b[36m(RayTrainWorker pid=143375)\u001b[0m E0622 17:24:36.986998641  143610 fork_posix.cc:76]           Other threads are currently calling into gRPC, skipping fork() handlers\u001b[32m [repeated 2x across cluster]\u001b[0m\n"
     ]
    },
    {
     "name": "stdout",
     "output_type": "stream",
     "text": [
      "\u001b[2m\u001b[36m(RayTrainWorker pid=143146)\u001b[0m                                                               \u001b[37m2.305 train_loss: \u001b[0m\u001b[32m [repeated 19x across cluster]\u001b[0m\n",
      "\u001b[2m\u001b[36m(RayTrainWorker pid=143146)\u001b[0m                                                               \u001b[37m2.302             \u001b[0m\u001b[32m [repeated 19x across cluster]\u001b[0m\n",
      "\u001b[2m\u001b[36m(RayTrainWorker pid=143146)\u001b[0m \u001b[37mValidation\u001b[0m \u001b[35m━━━━━━━━━━━━━━━\u001b[0m\u001b[35m╸\u001b[0m\u001b[90m━\u001b[0m \u001b[37m14/15\u001b[0m \u001b[37m0:00:40 • 0:00:03\u001b[0m \u001b[37m0.36it/s\u001b[0m                   \u001b[32m [repeated 24x across cluster]\u001b[0m\n",
      "\u001b[2K\u001b[1A\u001b[2K\u001b[1A\u001b[2K\u001b[37mEpoch 2/4 \u001b[0m \u001b[35m━━━━━━━━━━━━━━━\u001b[0m\u001b[90m╺\u001b[0m\u001b[90m━━\u001b[0m \u001b[37m6/7\u001b[0m \u001b[37m0:00:44 • 0:00:07\u001b[0m \u001b[37m0.15it/s\u001b[0m \u001b[37mv_num: 0 val_loss: \u001b[0m\u001b[32m [repeated 13x across cluster]\u001b[0m\n",
      "\u001b[2m\u001b[36m(RayTrainWorker pid=143170)\u001b[0m                                                               \u001b[37m2.307 train_loss: \u001b[0m\u001b[32m [repeated 24x across cluster]\u001b[0m\n",
      "\u001b[2m\u001b[36m(RayTrainWorker pid=143170)\u001b[0m                                                               \u001b[37m2.312             \u001b[0m\u001b[32m [repeated 24x across cluster]\u001b[0m\n",
      "\u001b[2m\u001b[36m(RayTrainWorker pid=143170)\u001b[0m \u001b[37mValidation\u001b[0m \u001b[35m━━━━━━━━\u001b[0m\u001b[90m╺\u001b[0m\u001b[90m━━━━━━━━━\u001b[0m \u001b[37m7/15\u001b[0m \u001b[37m0:00:21 • 0:00:25\u001b[0m \u001b[37m0.33it/s\u001b[0m                   \u001b[32m [repeated 26x across cluster]\u001b[0m\n",
      "\u001b[2K\u001b[1A\u001b[2K\u001b[1A\u001b[2K\u001b[1A\u001b[2K\u001b[37mEpoch 2/4 \u001b[0m \u001b[35m━━━━━━━━━━━━━━━━━━\u001b[0m \u001b[37m7/7 \u001b[0m \u001b[37m0:00:43 • 0:00:00\u001b[0m \u001b[37m0.17it/s\u001b[0m \u001b[37mv_num: 0 val_loss:\u001b[0m[0m                   \n",
      "\u001b[2K\u001b[1A\u001b[2K\u001b[1A\u001b[2K\u001b[37mEpoch 2/4 \u001b[0m \u001b[35m━━━━━━━━━━━━━━━━━━\u001b[0m \u001b[37m7/7\u001b[0m \u001b[37m0:00:51 • 0:00:00\u001b[0m \u001b[37m0.15it/s\u001b[0m \u001b[37mv_num: 0 val_loss: \u001b[0m\u001b[32m [repeated 8x across cluster]\u001b[0m\n"
     ]
    },
    {
     "name": "stderr",
     "output_type": "stream",
     "text": [
      "\u001b[2m\u001b[36m(RayTrainWorker pid=143270)\u001b[0m E0622 17:24:48.932395958  143609 fork_posix.cc:76]           Other threads are currently calling into gRPC, skipping fork() handlers\n"
     ]
    },
    {
     "name": "stdout",
     "output_type": "stream",
     "text": [
      "\u001b[2m\u001b[36m(RayTrainWorker pid=143375)\u001b[0m                                                               \u001b[37m2.307 train_loss: \u001b[0m\u001b[32m [repeated 22x across cluster]\u001b[0m\n",
      "\u001b[2m\u001b[36m(RayTrainWorker pid=143375)\u001b[0m                                                               \u001b[37m2.303             \u001b[0m\u001b[32m [repeated 22x across cluster]\u001b[0m\n",
      "\u001b[2m\u001b[36m(RayTrainWorker pid=143375)\u001b[0m \u001b[37mValidation\u001b[0m \u001b[35m━━━\u001b[0m\u001b[35m╸\u001b[0m\u001b[90m━━━━━━━━━━━━━━\u001b[0m \u001b[37m3/15\u001b[0m \u001b[37m0:00:10 • 0:00:39\u001b[0m \u001b[37m0.32it/s\u001b[0m                   \u001b[32m [repeated 30x across cluster]\u001b[0m\n",
      "\u001b[2K\u001b[1A\u001b[2K\u001b[1A\u001b[2K\u001b[37mEpoch 2/4 \u001b[0m \u001b[35m━━━━━━━━━━━━━━━━━━\u001b[0m \u001b[37m7/7\u001b[0m \u001b[37m0:00:51 • 0:00:00\u001b[0m \u001b[37m0.15it/s\u001b[0m \u001b[37mv_num: 0 val_loss: \u001b[0m\u001b[32m [repeated 4x across cluster]\u001b[0m\n",
      "\u001b[2K\u001b[1A\u001b[2K\u001b[1A\u001b[2K\u001b[1A\u001b[2K\u001b[37mEpoch 2/4 \u001b[0m \u001b[35m━━━━━━━━━━━━━━━━━\u001b[0m \u001b[37m7/7  \u001b[0m \u001b[37m0:00:43 • 0:00:00\u001b[0m \u001b[37m0.18it/s\u001b[0m \u001b[37mv_num: 0 val_loss:\u001b[0m[0m                   \n",
      "\u001b[2m\u001b[36m(RayTrainWorker pid=143229)\u001b[0m                                                               \u001b[37m2.232 train_loss: \u001b[0m\u001b[32m [repeated 27x across cluster]\u001b[0m\n",
      "\u001b[2m\u001b[36m(RayTrainWorker pid=143229)\u001b[0m                                                               \u001b[37m2.26              \u001b[0m\u001b[32m [repeated 27x across cluster]\u001b[0m\n",
      "\u001b[2m\u001b[36m(RayTrainWorker pid=143229)\u001b[0m \u001b[37mValidation\u001b[0m \u001b[35m━\u001b[0m\u001b[90m╺\u001b[0m\u001b[90m━━━━━━━━━━━━━━━━\u001b[0m \u001b[37m1/15\u001b[0m \u001b[37m0:00:04 • -:--:--\u001b[0m \u001b[37m0.00it/s\u001b[0m                   \u001b[32m [repeated 44x across cluster]\u001b[0m\n",
      "\u001b[2K\u001b[1A\u001b[2K\u001b[1A\u001b[2K\u001b[1A\u001b[2K\u001b[37mEpoch 2/4 \u001b[0m \u001b[35m━━━━━━━━━━━━━━━━━\u001b[0m \u001b[37m7/7  \u001b[0m \u001b[37m0:00:43 • 0:00:00\u001b[0m \u001b[37m0.18it/s\u001b[0m \u001b[37mv_num: 0 val_loss:\u001b[0m[0m                   \n",
      "\u001b[2K\u001b[1A\u001b[2K\u001b[1A\u001b[2K\u001b[37mEpoch 2/4 \u001b[0m \u001b[35m━━━━━━━━━━━━━━━━━━\u001b[0m \u001b[37m7/7\u001b[0m \u001b[37m0:00:52 • 0:00:00\u001b[0m \u001b[37m0.15it/s\u001b[0m \u001b[37mv_num: 0 val_loss: \u001b[0m\u001b[32m [repeated 3x across cluster]\u001b[0m\n",
      "\u001b[2K\u001b[1A\u001b[2K\u001b[1A\u001b[2K\u001b[1A\u001b[2K\u001b[37mEpoch 2/4 \u001b[0m \u001b[35m━━━━━━━━━━━━━━━━━━\u001b[0m \u001b[37m7/7 \u001b[0m \u001b[37m0:00:44 • 0:00:00\u001b[0m \u001b[37m0.19it/s\u001b[0m \u001b[37mv_num: 0 val_loss:\u001b[0m\u001b[32m [repeated 7x across cluster]\u001b[0m\n",
      "\u001b[2m\u001b[36m(RayTrainWorker pid=143264)\u001b[0m                                                               \u001b[37m2.31 train_loss:  \u001b[0m\u001b[32m [repeated 56x across cluster]\u001b[0m\n",
      "\u001b[2m\u001b[36m(RayTrainWorker pid=143264)\u001b[0m                                                               \u001b[37m2.308             \u001b[0m\u001b[32m [repeated 56x across cluster]\u001b[0m\n",
      "\u001b[2m\u001b[36m(RayTrainWorker pid=143264)\u001b[0m \u001b[37mValidation\u001b[0m \u001b[35m━━━━━━━━━\u001b[0m\u001b[35m╸\u001b[0m\u001b[90m━━━━━━━━\u001b[0m \u001b[37m8/15\u001b[0m \u001b[37m0:00:20 • 0:00:16\u001b[0m \u001b[37m0.44it/s\u001b[0m                   \u001b[32m [repeated 95x across cluster]\u001b[0m\n",
      "\u001b[2m\u001b[36m(RayTrainWorker pid=143146)\u001b[0m \u001b[37mValidation\u001b[0m \u001b[35m━━━━━━━━━\u001b[0m\u001b[35m╸\u001b[0m\u001b[90m━━━━━━━━\u001b[0m \u001b[37m8/15\u001b[0m \u001b[37m0:00:16 • 0:00:13\u001b[0m \u001b[37m0.58it/s\u001b[0m                   \n",
      "\u001b[2K\u001b[1A\u001b[2K\u001b[1A\u001b[2K\u001b[1A\u001b[2K\u001b[37mEpoch 2/4 \u001b[0m \u001b[35m━━━━━━━━━━━━━━━━━━\u001b[0m \u001b[37m7/7\u001b[0m \u001b[37m0:00:43 • 0:00:00\u001b[0m \u001b[37m0.17it/s\u001b[0m \u001b[37mv_num: 0 val_loss: \u001b[0m\n",
      "\u001b[2m\u001b[36m(RayTrainWorker pid=143375)\u001b[0m \u001b[37mValidation\u001b[0m \u001b[35m━━━━━━━━\u001b[0m\u001b[90m╺\u001b[0m\u001b[90m━━━━━━━━━\u001b[0m \u001b[37m7/15\u001b[0m \u001b[37m0:00:12 • 0:00:13\u001b[0m \u001b[37m0.65it/s\u001b[0m                   \n",
      "\u001b[2m\u001b[36m(RayTrainWorker pid=143146)\u001b[0m                                                              \u001b[37m2.304 train_loss:  \u001b[0m\u001b[32m [repeated 22x across cluster]\u001b[0m\n",
      "\u001b[2m\u001b[36m(RayTrainWorker pid=143146)\u001b[0m                                                              \u001b[37m2.306              \u001b[0m\u001b[32m [repeated 22x across cluster]\u001b[0m\n",
      "\u001b[2m\u001b[36m(RayTrainWorker pid=143270)\u001b[0m \u001b[37mValidation\u001b[0m \u001b[35m━━━━━━━━\u001b[0m\u001b[90m╺\u001b[0m\u001b[90m━━━━━━━━━\u001b[0m \u001b[37m7/15\u001b[0m \u001b[37m0:00:12 • 0:00:13\u001b[0m \u001b[37m0.65it/s\u001b[0m                   \u001b[32m [repeated 36x across cluster]\u001b[0m\n",
      "\u001b[2K\u001b[1A\u001b[2K\u001b[1A\u001b[2K\u001b[37mEpoch 3/4 \u001b[0m \u001b[35m━━━━━\u001b[0m\u001b[90m╺\u001b[0m\u001b[90m━━━━━━━━━━━━\u001b[0m \u001b[37m2/7\u001b[0m \u001b[37m0:00:13 • 0:00:33\u001b[0m \u001b[37m0.16it/s\u001b[0m \u001b[37mv_num: 0 val_loss: \u001b[0m\u001b[32m [repeated 3x across cluster]\u001b[0m\n"
     ]
    },
    {
     "name": "stderr",
     "output_type": "stream",
     "text": [
      "\u001b[2m\u001b[36m(RayTrainWorker pid=143131)\u001b[0m E0622 17:25:08.430086339  143582 fork_posix.cc:76]           Other threads are currently calling into gRPC, skipping fork() handlers\n"
     ]
    },
    {
     "name": "stdout",
     "output_type": "stream",
     "text": [
      "\u001b[2m\u001b[36m(RayTrainWorker pid=143170)\u001b[0m                                                              \u001b[37m2.31 train_loss:   \u001b[0m\u001b[32m [repeated 22x across cluster]\u001b[0m\n",
      "\u001b[2m\u001b[36m(RayTrainWorker pid=143170)\u001b[0m \u001b[?25h\u001b[?25l\u001b[32m [repeated 24x across cluster]\u001b[0m\n",
      "\u001b[2m\u001b[36m(RayTrainWorker pid=143229)\u001b[0m \u001b[37mValidation\u001b[0m \u001b[35m━━━━━━━━━\u001b[0m\u001b[35m╸\u001b[0m\u001b[90m━━━━━━━━\u001b[0m \u001b[37m8/15\u001b[0m \u001b[37m0:00:18 • 0:00:14\u001b[0m \u001b[37m0.51it/s\u001b[0m                   \u001b[32m [repeated 40x across cluster]\u001b[0m\n",
      "\u001b[2K\u001b[37mEpoch 3/4 \u001b[0m \u001b[90m━━━━━━━━━━━━━━━━━━━━━━━━━━━━━━━━━━━━\u001b[0m \u001b[37m0/7\u001b[0m \u001b[37m0:00:00 • -:--:--\u001b[0m \u001b[37m0.00it/s\u001b[0m \n",
      "\u001b[2K\u001b[37mEpoch 3/4 \u001b[0m \u001b[35m━━\u001b[0m\u001b[35m╸\u001b[0m\u001b[90m━━━━━━━━━━━━━━━\u001b[0m \u001b[37m1/7\u001b[0m \u001b[37m0:00:04 • -:--:--\u001b[0m \u001b[37m0.00it/s\u001b[0m \u001b[37mv_num: 0 val_loss: \u001b[0m\n",
      "\u001b[2K\u001b[1A\u001b[2K\u001b[1A\u001b[2K\u001b[1A\u001b[2K\u001b[37mEpoch 2/4 \u001b[0m \u001b[35m━━━━━━━━━━━━━━━━━━\u001b[0m \u001b[37m7/7\u001b[0m \u001b[37m0:00:43 • 0:00:00\u001b[0m \u001b[37m0.17it/s\u001b[0m \u001b[37mv_num: 0 val_loss: \u001b[0m\u001b[32m [repeated 7x across cluster]\u001b[0m\n"
     ]
    },
    {
     "name": "stderr",
     "output_type": "stream",
     "text": [
      "\u001b[2m\u001b[36m(RayTrainWorker pid=143264)\u001b[0m E0622 17:25:13.542871594  143597 fork_posix.cc:76]           Other threads are currently calling into gRPC, skipping fork() handlers\u001b[32m [repeated 2x across cluster]\u001b[0m\n"
     ]
    },
    {
     "name": "stdout",
     "output_type": "stream",
     "text": [
      "\u001b[2m\u001b[36m(RayTrainWorker pid=143170)\u001b[0m                                                              \u001b[37m2.31 train_loss:   \u001b[0m\u001b[32m [repeated 80x across cluster]\u001b[0m\n",
      "\u001b[2m\u001b[36m(RayTrainWorker pid=143170)\u001b[0m                                                              \u001b[37m2.305              \u001b[0m\u001b[32m [repeated 72x across cluster]\u001b[0m\n",
      "\u001b[2m\u001b[36m(RayTrainWorker pid=143229)\u001b[0m \u001b[37mValidation\u001b[0m \u001b[35m━━━━━━━━━━━━━━━━━\u001b[0m \u001b[37m15/15\u001b[0m \u001b[37m0:00:23 • 0:00:00\u001b[0m \u001b[37m0.71it/s\u001b[0m                   \u001b[32m [repeated 84x across cluster]\u001b[0m\n",
      "\u001b[2K\u001b[1A\u001b[2K\u001b[1A\u001b[2K\u001b[1A\u001b[2K\u001b[37mEpoch 2/4 \u001b[0m \u001b[35m━━━━━━━━━━━━━━━━━\u001b[0m \u001b[37m7/7  \u001b[0m \u001b[37m0:00:52 • 0:00:00\u001b[0m \u001b[37m0.15it/s\u001b[0m \u001b[37mv_num: 0 val_loss:\u001b[0m\u001b[32m [repeated 10x across cluster]\u001b[0m\n",
      "\u001b[2K\u001b[37mEpoch 3/4 \u001b[0m \u001b[35m━━\u001b[0m\u001b[35m╸\u001b[0m\u001b[90m━━━━━━━━━━━━━━━\u001b[0m \u001b[37m1/7\u001b[0m \u001b[37m0:00:01 • -:--:--\u001b[0m \u001b[37m0.00it/s\u001b[0m \u001b[37mv_num: 0 val_loss: \u001b[0m\u001b[32m [repeated 5x across cluster]\u001b[0m\n",
      "\u001b[2K\u001b[1A\u001b[2K\u001b[1A\u001b[2K\u001b[37mEpoch 2/4 \u001b[0m \u001b[35m━━━━━━━━━━━━━━━━━━\u001b[0m \u001b[37m7/7\u001b[0m \u001b[37m0:00:51 • 0:00:00\u001b[0m \u001b[37m0.15it/s\u001b[0m \u001b[37mv_num: 0 val_loss: \u001b[0m\u001b[32m [repeated 33x across cluster]\u001b[0m\n"
     ]
    },
    {
     "name": "stderr",
     "output_type": "stream",
     "text": [
      "\u001b[2m\u001b[36m(RayTrainWorker pid=143229)\u001b[0m E0622 17:25:18.793756766  143595 fork_posix.cc:76]           Other threads are currently calling into gRPC, skipping fork() handlers\u001b[32m [repeated 4x across cluster]\u001b[0m\n"
     ]
    },
    {
     "name": "stdout",
     "output_type": "stream",
     "text": [
      "\u001b[2m\u001b[36m(RayTrainWorker pid=143146)\u001b[0m                                                               \u001b[37m2.304 train_loss: \u001b[0m\u001b[32m [repeated 22x across cluster]\u001b[0m\n",
      "\u001b[2m\u001b[36m(RayTrainWorker pid=143146)\u001b[0m                                                               \u001b[37m2.306             \u001b[0m\u001b[32m [repeated 24x across cluster]\u001b[0m\n",
      "\u001b[2m\u001b[36m(RayTrainWorker pid=143146)\u001b[0m \u001b[37mValidation\u001b[0m \u001b[35m━━━\u001b[0m\u001b[35m╸\u001b[0m\u001b[90m━━━━━━━━━━━━━━\u001b[0m \u001b[37m3/15\u001b[0m \u001b[37m0:00:04 • 0:00:24\u001b[0m \u001b[37m0.52it/s\u001b[0m                   \u001b[32m [repeated 12x across cluster]\u001b[0m\n",
      "\u001b[2m\u001b[36m(RayTrainWorker pid=143270)\u001b[0m \u001b[37mValidation\u001b[0m \u001b[35m━━━\u001b[0m\u001b[35m╸\u001b[0m\u001b[90m━━━━━━━━━━━━━━\u001b[0m \u001b[37m3/15\u001b[0m \u001b[37m0:00:04 • 0:00:24\u001b[0m \u001b[37m0.52it/s\u001b[0m                   \n",
      "\u001b[2m\u001b[36m(RayTrainWorker pid=143245)\u001b[0m                                                              \u001b[37m2.303              \u001b[0m\n",
      "\u001b[2K\u001b[1A\u001b[2K\u001b[1A\u001b[2K\u001b[37mEpoch 3/4 \u001b[0m \u001b[35m━━━━━━━\u001b[0m\u001b[35m╸\u001b[0m\u001b[90m━━━━━━━━━━\u001b[0m \u001b[37m3/7\u001b[0m \u001b[37m0:00:08 • 0:00:15\u001b[0m \u001b[37m0.27it/s\u001b[0m \u001b[37mv_num: 0 val_loss: \u001b[0m\u001b[32m [repeated 7x across cluster]\u001b[0m\n",
      "\u001b[2K\u001b[37mEpoch 3/4 \u001b[0m \u001b[35m━━\u001b[0m\u001b[35m╸\u001b[0m\u001b[90m━━━━━━━━━━━━━━━\u001b[0m \u001b[37m1/7\u001b[0m \u001b[37m0:00:07 • -:--:--\u001b[0m \u001b[37m0.00it/s\u001b[0m \u001b[37mv_num: 0 val_loss: \u001b[0m\n",
      "\u001b[2m\u001b[36m(RayTrainWorker pid=143146)\u001b[0m                                                               \u001b[37m2.304 train_loss: \u001b[0m\u001b[32m [repeated 15x across cluster]\u001b[0m\n",
      "\u001b[2m\u001b[36m(RayTrainWorker pid=143146)\u001b[0m                                                               \u001b[37m2.306             \u001b[0m\u001b[32m [repeated 15x across cluster]\u001b[0m\n",
      "\u001b[2m\u001b[36m(RayTrainWorker pid=143146)\u001b[0m \u001b[37mValidation\u001b[0m \u001b[35m━━━━━━\u001b[0m\u001b[90m╺\u001b[0m\u001b[90m━━━━━━━━━━━\u001b[0m \u001b[37m5/15\u001b[0m \u001b[37m0:00:10 • 0:00:25\u001b[0m \u001b[37m0.41it/s\u001b[0m                   \u001b[32m [repeated 8x across cluster]\u001b[0m\n",
      "\u001b[2K\u001b[1A\u001b[2K\u001b[1A\u001b[2K\u001b[37mEpoch 3/4 \u001b[0m \u001b[35m━━━━━━━━━━━━━━━━━━\u001b[0m \u001b[37m7/7\u001b[0m \u001b[37m0:00:17 • 0:00:00\u001b[0m \u001b[37m0.38it/s\u001b[0m \u001b[37mv_num: 0 val_loss: \u001b[0m\u001b[32m [repeated 10x across cluster]\u001b[0m\n"
     ]
    },
    {
     "name": "stderr",
     "output_type": "stream",
     "text": [
      "\u001b[2m\u001b[36m(RayTrainWorker pid=143170)\u001b[0m E0622 17:25:28.455601354  143596 fork_posix.cc:76]           Other threads are currently calling into gRPC, skipping fork() handlers\n"
     ]
    },
    {
     "name": "stdout",
     "output_type": "stream",
     "text": [
      "\u001b[2m\u001b[36m(RayTrainWorker pid=143146)\u001b[0m                                                               \u001b[37m2.304 train_loss: \u001b[0m\u001b[32m [repeated 19x across cluster]\u001b[0m\n",
      "\u001b[2m\u001b[36m(RayTrainWorker pid=143146)\u001b[0m                                                               \u001b[37m2.306             \u001b[0m\u001b[32m [repeated 17x across cluster]\u001b[0m\n",
      "\u001b[2m\u001b[36m(RayTrainWorker pid=143146)\u001b[0m \u001b[37mValidation\u001b[0m \u001b[35m━━━━━━━━\u001b[0m\u001b[90m╺\u001b[0m\u001b[90m━━━━━━━━━\u001b[0m \u001b[37m7/15\u001b[0m \u001b[37m0:00:15 • 0:00:20\u001b[0m \u001b[37m0.41it/s\u001b[0m                   \u001b[32m [repeated 11x across cluster]\u001b[0m\n",
      "\u001b[2K\u001b[1A\u001b[2K\u001b[1A\u001b[2K\u001b[37mEpoch 3/4 \u001b[0m \u001b[35m━━━━━━━━━━\u001b[0m\u001b[90m╺\u001b[0m\u001b[90m━━━━━━━\u001b[0m \u001b[37m4/7\u001b[0m \u001b[37m0:00:19 • 0:00:15\u001b[0m \u001b[37m0.20it/s\u001b[0m \u001b[37mv_num: 0 val_loss: \u001b[0m\u001b[32m [repeated 17x across cluster]\u001b[0m\n",
      "\u001b[2K\u001b[1A\u001b[2K\u001b[1A\u001b[2K\u001b[1A\u001b[2K\u001b[37mEpoch 3/4 \u001b[0m \u001b[35m━━━━━━━━━━━━━━━━━━\u001b[0m \u001b[37m7/7 \u001b[0m \u001b[37m0:00:23 • 0:00:00\u001b[0m \u001b[37m0.36it/s\u001b[0m \u001b[37mv_num: 0 val_loss:\u001b[0m[0m                   \n",
      "\u001b[2m\u001b[36m(RayTrainWorker pid=143264)\u001b[0m                                                              \u001b[37m2.309 train_loss:  \u001b[0m\u001b[32m [repeated 22x across cluster]\u001b[0m\n",
      "\u001b[2m\u001b[36m(RayTrainWorker pid=143264)\u001b[0m                                                              \u001b[37m2.309              \u001b[0m\u001b[32m [repeated 18x across cluster]\u001b[0m\n",
      "\u001b[2m\u001b[36m(RayTrainWorker pid=143170)\u001b[0m \u001b[37mValidation\u001b[0m \u001b[35m━━\u001b[0m\u001b[90m╺\u001b[0m\u001b[90m━━━━━━━━━━━━━━━\u001b[0m \u001b[37m2/15\u001b[0m \u001b[37m0:00:04 • 0:00:30\u001b[0m \u001b[37m0.44it/s\u001b[0m                   \u001b[32m [repeated 10x across cluster]\u001b[0m\n",
      "\u001b[2K\u001b[1A\u001b[2K\u001b[1A\u001b[2K\u001b[37mEpoch 3/4 \u001b[0m \u001b[35m━━━━━━━━━━━━\u001b[0m\u001b[35m╸\u001b[0m\u001b[90m━━━━━\u001b[0m \u001b[37m5/7\u001b[0m \u001b[37m0:00:24 • 0:00:11\u001b[0m \u001b[37m0.20it/s\u001b[0m \u001b[37mv_num: 0 val_loss: \u001b[0m\u001b[32m [repeated 10x across cluster]\u001b[0m\n",
      "\u001b[2K\u001b[1A\u001b[2K\u001b[1A\u001b[2K\u001b[1A\u001b[2K\u001b[37mEpoch 3/4 \u001b[0m \u001b[35m━━━━━━━━━━━━━━━━━━\u001b[0m \u001b[37m7/7 \u001b[0m \u001b[37m0:00:21 • 0:00:00\u001b[0m \u001b[37m0.35it/s\u001b[0m \u001b[37mv_num: 0 val_loss:\u001b[0m\u001b[32m [repeated 2x across cluster]\u001b[0m\n"
     ]
    },
    {
     "name": "stderr",
     "output_type": "stream",
     "text": [
      "\u001b[2m\u001b[36m(RayTrainWorker pid=143264)\u001b[0m E0622 17:25:40.374788669  143597 fork_posix.cc:76]           Other threads are currently calling into gRPC, skipping fork() handlers\n"
     ]
    },
    {
     "name": "stdout",
     "output_type": "stream",
     "text": [
      "\u001b[2m\u001b[36m(RayTrainWorker pid=143270)\u001b[0m                                                              \u001b[37m2.303 train_loss:  \u001b[0m\u001b[32m [repeated 20x across cluster]\u001b[0m\n",
      "\u001b[2m\u001b[36m(RayTrainWorker pid=143270)\u001b[0m                                                              \u001b[37m2.304              \u001b[0m\u001b[32m [repeated 19x across cluster]\u001b[0m\n",
      "\u001b[2m\u001b[36m(RayTrainWorker pid=143131)\u001b[0m \u001b[37mValidation\u001b[0m \u001b[35m━━━\u001b[0m\u001b[35m╸\u001b[0m\u001b[90m━━━━━━━━━━━━━━\u001b[0m \u001b[37m3/15\u001b[0m \u001b[37m0:00:07 • 0:00:29\u001b[0m \u001b[37m0.42it/s\u001b[0m                   \u001b[32m [repeated 18x across cluster]\u001b[0m\n",
      "\u001b[2K\u001b[1A\u001b[2K\u001b[1A\u001b[2K\u001b[37mEpoch 3/4 \u001b[0m \u001b[35m━━━━━━━━━━━━━━━\u001b[0m\u001b[90m╺\u001b[0m\u001b[90m━━\u001b[0m \u001b[37m6/7\u001b[0m \u001b[37m0:00:29 • 0:00:06\u001b[0m \u001b[37m0.20it/s\u001b[0m \u001b[37mv_num: 0 val_loss: \u001b[0m\u001b[32m [repeated 12x across cluster]\u001b[0m\n",
      "\u001b[2m\u001b[36m(RayTrainWorker pid=143131)\u001b[0m                                                              \u001b[37m2.291              \u001b[0m\n",
      "\u001b[2m\u001b[36m(RayTrainWorker pid=143264)\u001b[0m                                                               \u001b[37m2.309 train_loss: \u001b[0m\u001b[32m [repeated 26x across cluster]\u001b[0m\n",
      "\u001b[2m\u001b[36m(RayTrainWorker pid=143264)\u001b[0m                                                               \u001b[37m2.309             \u001b[0m\u001b[32m [repeated 25x across cluster]\u001b[0m\n",
      "\u001b[2m\u001b[36m(RayTrainWorker pid=143264)\u001b[0m \u001b[37mValidation\u001b[0m \u001b[35m━\u001b[0m\u001b[90m╺\u001b[0m\u001b[90m━━━━━━━━━━━━━━━━\u001b[0m \u001b[37m1/15\u001b[0m \u001b[37m0:00:03 • -:--:--\u001b[0m \u001b[37m0.00it/s\u001b[0m                   \u001b[32m [repeated 26x across cluster]\u001b[0m\n",
      "\u001b[2K\u001b[1A\u001b[2K\u001b[1A\u001b[2K\u001b[37mEpoch 3/4 \u001b[0m \u001b[35m━━━━━━━━━━\u001b[0m\u001b[90m╺\u001b[0m\u001b[90m━━━━━━━\u001b[0m \u001b[37m4/7\u001b[0m \u001b[37m0:00:31 • 0:00:21\u001b[0m \u001b[37m0.15it/s\u001b[0m \u001b[37mv_num: 0 val_loss: \u001b[0m\u001b[32m [repeated 9x across cluster]\u001b[0m\n"
     ]
    },
    {
     "name": "stderr",
     "output_type": "stream",
     "text": [
      "\u001b[2m\u001b[36m(RayTrainWorker pid=143245)\u001b[0m E0622 17:25:51.519195212  143625 fork_posix.cc:76]           Other threads are currently calling into gRPC, skipping fork() handlers\u001b[32m [repeated 2x across cluster]\u001b[0m\n"
     ]
    },
    {
     "name": "stdout",
     "output_type": "stream",
     "text": [
      "\u001b[2m\u001b[36m(RayTrainWorker pid=143131)\u001b[0m                                                               \u001b[37m2.221 train_loss: \u001b[0m\u001b[32m [repeated 24x across cluster]\u001b[0m\n",
      "\u001b[2m\u001b[36m(RayTrainWorker pid=143131)\u001b[0m                                                               \u001b[37m2.245             \u001b[0m\u001b[32m [repeated 23x across cluster]\u001b[0m\n",
      "\u001b[2m\u001b[36m(RayTrainWorker pid=143131)\u001b[0m \u001b[37mValidation\u001b[0m \u001b[35m━━━━━━━━━\u001b[0m\u001b[35m╸\u001b[0m\u001b[90m━━━━━━━━\u001b[0m \u001b[37m8/15\u001b[0m \u001b[37m0:00:21 • 0:00:19\u001b[0m \u001b[37m0.38it/s\u001b[0m                   \u001b[32m [repeated 40x across cluster]\u001b[0m\n",
      "\u001b[2K\u001b[1A\u001b[2K\u001b[1A\u001b[2K\u001b[1A\u001b[2K\u001b[37mEpoch 3/4 \u001b[0m \u001b[35m━━━━━━━━━━━━━━━━━━\u001b[0m \u001b[37m7/7 \u001b[0m \u001b[37m0:00:26 • 0:00:00\u001b[0m \u001b[37m0.24it/s\u001b[0m \u001b[37mv_num: 0 val_loss:\u001b[0m[0m                   \n",
      "\u001b[2K\u001b[1A\u001b[2K\u001b[1A\u001b[2K\u001b[37mEpoch 3/4 \u001b[0m \u001b[35m━━━━━━━━━━━━━━━━━━\u001b[0m \u001b[37m7/7\u001b[0m \u001b[37m0:00:36 • 0:00:00\u001b[0m \u001b[37m0.18it/s\u001b[0m \u001b[37mv_num: 0 val_loss: \u001b[0m\u001b[32m [repeated 2x across cluster]\u001b[0m\n",
      "\u001b[2m\u001b[36m(RayTrainWorker pid=143131)\u001b[0m                                                               \u001b[37m2.221 train_loss: \u001b[0m\u001b[32m [repeated 28x across cluster]\u001b[0m\n",
      "\u001b[2m\u001b[36m(RayTrainWorker pid=143131)\u001b[0m                                                               \u001b[37m2.245             \u001b[0m\u001b[32m [repeated 26x across cluster]\u001b[0m\n",
      "\u001b[2m\u001b[36m(RayTrainWorker pid=143131)\u001b[0m \u001b[37mValidation\u001b[0m \u001b[35m━━━━━━━━━━━\u001b[0m\u001b[90m╺\u001b[0m\u001b[90m━━━━━\u001b[0m \u001b[37m10/15\u001b[0m \u001b[37m0:00:26 • 0:00:13\u001b[0m \u001b[37m0.39it/s\u001b[0m                   \u001b[32m [repeated 36x across cluster]\u001b[0m\n",
      "\u001b[2K\u001b[1A\u001b[2K\u001b[1A\u001b[2K\u001b[37mEpoch 3/4 \u001b[0m \u001b[35m━━━━━━━━━━━━━━━━━━\u001b[0m \u001b[37m7/7\u001b[0m \u001b[37m0:00:39 • 0:00:00\u001b[0m \u001b[37m0.18it/s\u001b[0m \u001b[37mv_num: 0 val_loss: \u001b[0m\u001b[32m [repeated 9x across cluster]\u001b[0m\n",
      "\u001b[2K\u001b[1A\u001b[2K\u001b[1A\u001b[2K\u001b[1A\u001b[2K\u001b[37mEpoch 3/4 \u001b[0m \u001b[35m━━━━━━━━━━━━━━━━━━\u001b[0m \u001b[37m7/7 \u001b[0m \u001b[37m0:00:36 • 0:00:00\u001b[0m \u001b[37m0.18it/s\u001b[0m \u001b[37mv_num: 0 val_loss:\u001b[0m[0m                   \n",
      "\u001b[2m\u001b[36m(RayTrainWorker pid=143270)\u001b[0m                                                               \u001b[37m2.303 train_loss: \u001b[0m\u001b[32m [repeated 24x across cluster]\u001b[0m\n",
      "\u001b[2m\u001b[36m(RayTrainWorker pid=143270)\u001b[0m                                                               \u001b[37m2.304             \u001b[0m\u001b[32m [repeated 24x across cluster]\u001b[0m\n",
      "\u001b[2m\u001b[36m(RayTrainWorker pid=143270)\u001b[0m \u001b[37mValidation\u001b[0m \u001b[35m━━\u001b[0m\u001b[90m╺\u001b[0m\u001b[90m━━━━━━━━━━━━━━━\u001b[0m \u001b[37m2/15\u001b[0m \u001b[37m0:00:05 • 0:00:28\u001b[0m \u001b[37m0.48it/s\u001b[0m                   \u001b[32m [repeated 40x across cluster]\u001b[0m\n",
      "\u001b[2K\u001b[1A\u001b[2K\u001b[1A\u001b[2K\u001b[37mEpoch 3/4 \u001b[0m \u001b[35m━━━━━━━━━━━━━━━━━━\u001b[0m \u001b[37m7/7\u001b[0m \u001b[37m0:00:23 • 0:00:00\u001b[0m \u001b[37m0.36it/s\u001b[0m \u001b[37mv_num: 0 val_loss: \u001b[0m\u001b[32m [repeated 3x across cluster]\u001b[0m\n",
      "\u001b[2K\u001b[1A\u001b[2K\u001b[1A\u001b[2K\u001b[1A\u001b[2K\u001b[37mEpoch 3/4 \u001b[0m \u001b[35m━━━━━━━━━━━━━━━━━━\u001b[0m \u001b[37m7/7 \u001b[0m \u001b[37m0:00:26 • 0:00:00\u001b[0m \u001b[37m0.24it/s\u001b[0m \u001b[37mv_num: 0 val_loss:\u001b[0m\u001b[32m [repeated 2x across cluster]\u001b[0m\n",
      "\u001b[2m\u001b[36m(RayTrainWorker pid=143375)\u001b[0m                                                               \u001b[37m2.3 train_loss:   \u001b[0m\u001b[32m [repeated 25x across cluster]\u001b[0m\n",
      "\u001b[2m\u001b[36m(RayTrainWorker pid=143375)\u001b[0m                                                               \u001b[37m2.303             \u001b[0m\u001b[32m [repeated 26x across cluster]\u001b[0m\n",
      "\u001b[2m\u001b[36m(RayTrainWorker pid=143375)\u001b[0m \u001b[37mValidation\u001b[0m \u001b[35m━━━━━━━━━━\u001b[0m\u001b[35m╸\u001b[0m\u001b[90m━━━━━━━\u001b[0m \u001b[37m9/15\u001b[0m \u001b[37m0:00:23 • 0:00:15\u001b[0m \u001b[37m0.41it/s\u001b[0m                   \u001b[32m [repeated 46x across cluster]\u001b[0m\n"
     ]
    },
    {
     "name": "stderr",
     "output_type": "stream",
     "text": [
      "\u001b[2m\u001b[36m(RayTrainWorker pid=143229)\u001b[0m E0622 17:26:10.656665260  143595 fork_posix.cc:76]           Other threads are currently calling into gRPC, skipping fork() handlers\u001b[32m [repeated 2x across cluster]\u001b[0m\n"
     ]
    },
    {
     "name": "stdout",
     "output_type": "stream",
     "text": [
      "\u001b[2K\u001b[1A\u001b[2K\u001b[1A\u001b[2K\u001b[37mEpoch 3/4 \u001b[0m \u001b[35m━━━━━━━━━━━━━━━━━━\u001b[0m \u001b[37m7/7\u001b[0m \u001b[37m0:00:52 • 0:00:00\u001b[0m \u001b[37m0.15it/s\u001b[0m \u001b[37mv_num: 0 val_loss: \u001b[0m\u001b[32m [repeated 2x across cluster]\u001b[0m\n",
      "\u001b[2m\u001b[36m(RayTrainWorker pid=143264)\u001b[0m \u001b[37mValidation\u001b[0m \u001b[35m━━━━━━━━━━━━━━━━━\u001b[0m \u001b[37m15/15\u001b[0m \u001b[37m0:00:40 • 0:00:00\u001b[0m \u001b[37m0.37it/s\u001b[0m                   \n",
      "\u001b[2m\u001b[36m(RayTrainWorker pid=143375)\u001b[0m                                                               \u001b[37m2.3 train_loss:   \u001b[0m\u001b[32m [repeated 29x across cluster]\u001b[0m\n",
      "\u001b[2m\u001b[36m(RayTrainWorker pid=143375)\u001b[0m                                                               \u001b[37m2.303             \u001b[0m\u001b[32m [repeated 27x across cluster]\u001b[0m\n",
      "\u001b[2m\u001b[36m(RayTrainWorker pid=143375)\u001b[0m \u001b[37mValidation\u001b[0m \u001b[35m━━━━━━━━━━━━\u001b[0m\u001b[90m╺\u001b[0m\u001b[90m━━━━\u001b[0m \u001b[37m11/15\u001b[0m \u001b[37m0:00:28 • 0:00:10\u001b[0m \u001b[37m0.41it/s\u001b[0m                   \u001b[32m [repeated 48x across cluster]\u001b[0m\n",
      "\u001b[2K\u001b[37mEpoch 4/4 \u001b[0m \u001b[35m━━\u001b[0m\u001b[35m╸\u001b[0m\u001b[90m━━━━━━━━━━━━━━━\u001b[0m \u001b[37m1/7\u001b[0m \u001b[37m0:00:09 • -:--:--\u001b[0m \u001b[37m0.00it/s\u001b[0m \u001b[37mv_num: 0 val_loss: \u001b[0m\u001b[32m [repeated 5x across cluster]\u001b[0m\n",
      "\u001b[2m\u001b[36m(RayTrainWorker pid=143245)\u001b[0m                                                               \u001b[37m2.284 train_loss: \u001b[0m\u001b[32m [repeated 18x across cluster]\u001b[0m\n",
      "\u001b[2m\u001b[36m(RayTrainWorker pid=143245)\u001b[0m                                                               \u001b[37m2.291             \u001b[0m\u001b[32m [repeated 18x across cluster]\u001b[0m\n",
      "\u001b[2m\u001b[36m(RayTrainWorker pid=143245)\u001b[0m \u001b[37mValidation\u001b[0m \u001b[35m━━━━━━━━━\u001b[0m\u001b[35m╸\u001b[0m\u001b[90m━━━━━━━━\u001b[0m \u001b[37m8/15\u001b[0m \u001b[37m0:00:24 • 0:00:21\u001b[0m \u001b[37m0.35it/s\u001b[0m                   \u001b[32m [repeated 33x across cluster]\u001b[0m\n",
      "\u001b[2K\u001b[1A\u001b[2K\u001b[1A\u001b[2K\u001b[1A\u001b[2K\u001b[37mEpoch 3/4 \u001b[0m \u001b[35m━━━━━━━━━━━━━━━━━━\u001b[0m \u001b[37m7/7 \u001b[0m \u001b[37m0:00:52 • 0:00:00\u001b[0m \u001b[37m0.15it/s\u001b[0m \u001b[37mv_num: 0 val_loss:\u001b[0m[0m                   \n",
      "\u001b[2K\u001b[1A\u001b[2K\u001b[1A\u001b[2K\u001b[37mEpoch 4/4 \u001b[0m \u001b[35m━━━━━\u001b[0m\u001b[90m╺\u001b[0m\u001b[90m━━━━━━━━━━━━\u001b[0m \u001b[37m2/7\u001b[0m \u001b[37m0:00:15 • 0:00:31\u001b[0m \u001b[37m0.16it/s\u001b[0m \u001b[37mv_num: 0 val_loss: \u001b[0m\u001b[32m [repeated 2x across cluster]\u001b[0m\n",
      "\u001b[2m\u001b[36m(RayTrainWorker pid=143264)\u001b[0m                                                               \u001b[37m2.309 train_loss: \u001b[0m\u001b[32m [repeated 15x across cluster]\u001b[0m\n",
      "\u001b[2m\u001b[36m(RayTrainWorker pid=143264)\u001b[0m                                                               \u001b[37m2.309             \u001b[0m\u001b[32m [repeated 17x across cluster]\u001b[0m\n",
      "\u001b[2m\u001b[36m(RayTrainWorker pid=143264)\u001b[0m \u001b[37mValidation\u001b[0m \u001b[35m━━━━━━━━━━━━━━━\u001b[0m\u001b[35m╸\u001b[0m\u001b[90m━\u001b[0m \u001b[37m14/15\u001b[0m \u001b[37m0:00:40 • 0:00:03\u001b[0m \u001b[37m0.37it/s\u001b[0m                   \u001b[32m [repeated 20x across cluster]\u001b[0m\n"
     ]
    },
    {
     "name": "stderr",
     "output_type": "stream",
     "text": [
      "\u001b[2m\u001b[36m(RayTrainWorker pid=143131)\u001b[0m E0622 17:26:25.556189709  143582 fork_posix.cc:76]           Other threads are currently calling into gRPC, skipping fork() handlers\n"
     ]
    },
    {
     "name": "stdout",
     "output_type": "stream",
     "text": [
      "\u001b[2K\u001b[1A\u001b[2K\u001b[1A\u001b[2K\u001b[1A\u001b[2K\u001b[37mEpoch 3/4 \u001b[0m \u001b[35m━━━━━━━━━━━━━━━━━\u001b[0m \u001b[37m7/7  \u001b[0m \u001b[37m0:00:36 • 0:00:00\u001b[0m \u001b[37m0.18it/s\u001b[0m \u001b[37mv_num: 0 val_loss:\u001b[0m\u001b[32m [repeated 3x across cluster]\u001b[0m\n",
      "\u001b[2K\u001b[1A\u001b[2K\u001b[1A\u001b[2K\u001b[37mEpoch 4/4 \u001b[0m \u001b[35m━━━━━━━\u001b[0m\u001b[35m╸\u001b[0m\u001b[90m━━━━━━━━━━\u001b[0m \u001b[37m3/7\u001b[0m \u001b[37m0:00:20 • 0:00:23\u001b[0m \u001b[37m0.18it/s\u001b[0m \u001b[37mv_num: 0 val_loss: \u001b[0m\u001b[32m [repeated 3x across cluster]\u001b[0m\n",
      "\u001b[2m\u001b[36m(RayTrainWorker pid=143270)\u001b[0m                                                               \u001b[37m2.303 train_loss: \u001b[0m\u001b[32m [repeated 22x across cluster]\u001b[0m\n",
      "\u001b[2m\u001b[36m(RayTrainWorker pid=143270)\u001b[0m                                                               \u001b[37m2.304             \u001b[0m\u001b[32m [repeated 22x across cluster]\u001b[0m\n",
      "\u001b[2m\u001b[36m(RayTrainWorker pid=143270)\u001b[0m \u001b[37mValidation\u001b[0m \u001b[35m━━━━━━━━━━━\u001b[0m\u001b[90m╺\u001b[0m\u001b[90m━━━━━\u001b[0m \u001b[37m10/15\u001b[0m \u001b[37m0:00:31 • 0:00:16\u001b[0m \u001b[37m0.32it/s\u001b[0m                   \u001b[32m [repeated 34x across cluster]\u001b[0m\n",
      "\u001b[2K\u001b[1A\u001b[2K\u001b[1A\u001b[2K\u001b[37mEpoch 4/4 \u001b[0m \u001b[35m━━━━━━━━━━\u001b[0m\u001b[90m╺\u001b[0m\u001b[90m━━━━━━━\u001b[0m \u001b[37m4/7\u001b[0m \u001b[37m0:00:25 • 0:00:17\u001b[0m \u001b[37m0.18it/s\u001b[0m \u001b[37mv_num: 0 val_loss: \u001b[0m\u001b[32m [repeated 5x across cluster]\u001b[0m\n",
      "\u001b[2K\u001b[37mEpoch 4/4 \u001b[0m \u001b[35m━━\u001b[0m\u001b[35m╸\u001b[0m\u001b[90m━━━━━━━━━━━━━━━\u001b[0m \u001b[37m1/7\u001b[0m \u001b[37m0:00:08 • -:--:--\u001b[0m \u001b[37m0.00it/s\u001b[0m \u001b[37mv_num: 0 val_loss: \u001b[0m\n",
      "\u001b[2K\u001b[1A\u001b[2K\u001b[1A\u001b[2K\u001b[1A\u001b[2K\u001b[37mEpoch 3/4 \u001b[0m \u001b[35m━━━━━━━━━━━━━━━━━━\u001b[0m \u001b[37m7/7 \u001b[0m \u001b[37m0:00:52 • 0:00:00\u001b[0m \u001b[37m0.15it/s\u001b[0m \u001b[37mv_num: 0 val_loss:\u001b[0m[0m                   \n"
     ]
    },
    {
     "name": "stderr",
     "output_type": "stream",
     "text": [
      "\u001b[2m\u001b[36m(RayTrainWorker pid=143264)\u001b[0m E0622 17:26:33.014948879  143597 fork_posix.cc:76]           Other threads are currently calling into gRPC, skipping fork() handlers\n"
     ]
    },
    {
     "name": "stdout",
     "output_type": "stream",
     "text": [
      "\u001b[2m\u001b[36m(RayTrainWorker pid=143229)\u001b[0m                                                               \u001b[37m2.185 train_loss: \u001b[0m\u001b[32m [repeated 62x across cluster]\u001b[0m\n",
      "\u001b[2m\u001b[36m(RayTrainWorker pid=143229)\u001b[0m                                                               \u001b[37m2.238             \u001b[0m\u001b[32m [repeated 56x across cluster]\u001b[0m\n",
      "\u001b[2m\u001b[36m(RayTrainWorker pid=143229)\u001b[0m \u001b[37mValidation\u001b[0m \u001b[35m━━━━━━━━━━━━\u001b[0m\u001b[90m╺\u001b[0m\u001b[90m━━━━\u001b[0m \u001b[37m11/15\u001b[0m \u001b[37m0:00:21 • 0:00:07\u001b[0m \u001b[37m0.58it/s\u001b[0m                   \u001b[32m [repeated 54x across cluster]\u001b[0m\n",
      "\u001b[2K\u001b[1A\u001b[2K\u001b[1A\u001b[2K\u001b[37mEpoch 4/4 \u001b[0m \u001b[35m━━━━━\u001b[0m\u001b[90m╺\u001b[0m\u001b[90m━━━━━━━━━━━━\u001b[0m \u001b[37m2/7\u001b[0m \u001b[37m0:00:02 • 0:00:06\u001b[0m \u001b[37m0.86it/s\u001b[0m \u001b[37mv_num: 0 val_loss: \u001b[0m\u001b[32m [repeated 38x across cluster]\u001b[0m\n",
      "\u001b[2K\u001b[37mEpoch 4/4 \u001b[0m \u001b[35m━━\u001b[0m\u001b[35m╸\u001b[0m\u001b[90m━━━━━━━━━━━━━━━\u001b[0m \u001b[37m1/7\u001b[0m \u001b[37m0:00:01 • -:--:--\u001b[0m \u001b[37m0.00it/s\u001b[0m \u001b[37mv_num: 0 val_loss: \u001b[0m\u001b[32m [repeated 4x across cluster]\u001b[0m\n",
      "\u001b[2K\u001b[1A\u001b[2K\u001b[1A\u001b[2K\u001b[1A\u001b[2K\u001b[37mEpoch 3/4 \u001b[0m \u001b[35m━━━━━━━━━━━━━━━━━\u001b[0m \u001b[37m7/7  \u001b[0m \u001b[37m0:00:52 • 0:00:00\u001b[0m \u001b[37m0.15it/s\u001b[0m \u001b[37mv_num: 0 val_loss:\u001b[0m\u001b[32m [repeated 12x across cluster]\u001b[0m\n"
     ]
    },
    {
     "name": "stderr",
     "output_type": "stream",
     "text": [
      "\u001b[2m\u001b[36m(RayTrainWorker pid=143229)\u001b[0m E0622 17:26:38.893019335  143595 fork_posix.cc:76]           Other threads are currently calling into gRPC, skipping fork() handlers\u001b[32m [repeated 3x across cluster]\u001b[0m\n"
     ]
    },
    {
     "name": "stdout",
     "output_type": "stream",
     "text": [
      "\u001b[2m\u001b[36m(RayTrainWorker pid=143146)\u001b[0m                                                               \u001b[37m2.305 train_loss: \u001b[0m\u001b[32m [repeated 91x across cluster]\u001b[0m\n",
      "\u001b[2m\u001b[36m(RayTrainWorker pid=143146)\u001b[0m                                                               \u001b[37m2.31              \u001b[0m\u001b[32m [repeated 71x across cluster]\u001b[0m\n",
      "\u001b[2m\u001b[36m(RayTrainWorker pid=143146)\u001b[0m \u001b[37mValidation\u001b[0m \u001b[35m━━━━━━━━━━━\u001b[0m\u001b[90m╺\u001b[0m\u001b[90m━━━━━\u001b[0m \u001b[37m10/15\u001b[0m \u001b[37m0:00:05 • 0:00:03\u001b[0m \u001b[37m1.96it/s\u001b[0m                   \u001b[32m [repeated 46x across cluster]\u001b[0m\n",
      "\u001b[2K\u001b[1A\u001b[2K\u001b[1A\u001b[2K\u001b[37mEpoch 4/4 \u001b[0m \u001b[35m━━━━━━━━━━━━\u001b[0m\u001b[35m╸\u001b[0m\u001b[90m━━━━━\u001b[0m \u001b[37m5/7\u001b[0m \u001b[37m0:00:05 • 0:00:02\u001b[0m \u001b[37m1.11it/s\u001b[0m \u001b[37mv_num: 0 val_loss: \u001b[0m\u001b[32m [repeated 59x across cluster]\u001b[0m\n",
      "\u001b[2m\u001b[36m(RayTrainWorker pid=143270)\u001b[0m \u001b[37mValidation\u001b[0m \u001b[35m━━━\u001b[0m\u001b[35m╸\u001b[0m\u001b[90m━━━━━━━━━━━━━━\u001b[0m \u001b[37m3/15\u001b[0m \u001b[37m0:00:01 • 0:00:05\u001b[0m \u001b[37m2.45it/s\u001b[0m                   \n",
      "\u001b[2K\u001b[1A\u001b[2K\u001b[1A\u001b[2K\u001b[1A\u001b[2K\u001b[37mEpoch 4/4 \u001b[0m \u001b[35m━━━━━━━━━━━━━━━━━━\u001b[0m \u001b[37m7/7 \u001b[0m \u001b[37m0:00:07 • 0:00:00\u001b[0m \u001b[37m1.05it/s\u001b[0m \u001b[37mv_num: 0 val_loss:\u001b[0m\u001b[32m [repeated 27x across cluster]\u001b[0m\n"
     ]
    },
    {
     "name": "stderr",
     "output_type": "stream",
     "text": [
      "\u001b[2m\u001b[36m(RayTrainWorker pid=143146)\u001b[0m `Trainer.fit` stopped: `max_epochs=5` reached.\n"
     ]
    },
    {
     "name": "stdout",
     "output_type": "stream",
     "text": [
      "\u001b[2m\u001b[36m(RayTrainWorker pid=143264)\u001b[0m                                                               \u001b[37m2.312 train_loss: \u001b[0m\u001b[32m [repeated 146x across cluster]\u001b[0m\n",
      "\u001b[2m\u001b[36m(RayTrainWorker pid=143264)\u001b[0m                                                               \u001b[37m2.309             \u001b[0m\u001b[32m [repeated 136x across cluster]\u001b[0m\n",
      "\u001b[2m\u001b[36m(RayTrainWorker pid=143264)\u001b[0m \u001b[37mValidation\u001b[0m \u001b[35m━━━━━━━━━━━━\u001b[0m\u001b[90m╺\u001b[0m\u001b[90m━━━━\u001b[0m \u001b[37m11/15\u001b[0m \u001b[37m0:00:05 • 0:00:02\u001b[0m \u001b[37m2.17it/s\u001b[0m                   \u001b[32m [repeated 141x across cluster]\u001b[0m\n",
      "\u001b[2K\u001b[1A\u001b[2K\u001b[1A\u001b[2K\u001b[1A\u001b[2K\u001b[37mEpoch 4/4 \u001b[0m \u001b[35m━━━━━━━━━━━━━━━━━━\u001b[0m \u001b[37m7/7\u001b[0m \u001b[37m0:00:14 • 0:00:00\u001b[0m \u001b[37m0.97it/s\u001b[0m \u001b[37mv_num: 0 val_loss: \u001b[0m\u001b[32m [repeated 17x across cluster]\u001b[0m\n",
      "\u001b[2K\u001b[1A\u001b[2K\u001b[1A\u001b[2K\u001b[1A\u001b[2K\u001b[37mEpoch 4/4 \u001b[0m \u001b[35m━━━━━━━━━━━━━━━━━━\u001b[0m \u001b[37m7/7 \u001b[0m \u001b[37m0:00:06 • 0:00:00\u001b[0m \u001b[37m1.14it/s\u001b[0m \u001b[37mv_num: 0 val_loss:\u001b[0m\u001b[32m [repeated 23x across cluster]\u001b[0m\n",
      "\u001b[2m\u001b[36m(RayTrainWorker pid=143264)\u001b[0m                                                               \u001b[37m2.312 train_loss: \u001b[0m\u001b[32m [repeated 20x across cluster]\u001b[0m\n",
      "\u001b[2m\u001b[36m(RayTrainWorker pid=143264)\u001b[0m                                                               \u001b[37m2.309             \u001b[0m\u001b[32m [repeated 20x across cluster]\u001b[0m\n",
      "\u001b[2m\u001b[36m(RayTrainWorker pid=143264)\u001b[0m \u001b[37mValidation\u001b[0m \u001b[35m━━━━━━━━━━━━━━\u001b[0m\u001b[35m╸\u001b[0m\u001b[90m━━\u001b[0m \u001b[37m13/15\u001b[0m \u001b[37m0:00:09 • 0:00:02\u001b[0m \u001b[37m1.36it/s\u001b[0m                   \u001b[32m [repeated 38x across cluster]\u001b[0m\n"
     ]
    },
    {
     "name": "stderr",
     "output_type": "stream",
     "text": [
      "\u001b[2m\u001b[36m(RayTrainWorker pid=143229)\u001b[0m E0622 17:26:51.692156128  143595 fork_posix.cc:76]           Other threads are currently calling into gRPC, skipping fork() handlers\u001b[32m [repeated 4x across cluster]\u001b[0m\n"
     ]
    },
    {
     "name": "stdout",
     "output_type": "stream",
     "text": [
      "\u001b[2K\u001b[1A\u001b[2K\u001b[1A\u001b[2K\u001b[37mEpoch 4/4 \u001b[0m \u001b[35m━━━━━━━━━━━━━━━━━━\u001b[0m \u001b[37m7/7\u001b[0m \u001b[37m0:00:12 • 0:00:00\u001b[0m \u001b[37m0.58it/s\u001b[0m \u001b[37mv_num: 0 val_loss: \u001b[0m\u001b[32m [repeated 3x across cluster]\u001b[0m\n",
      "\u001b[2m\u001b[36m(RayTrainWorker pid=143375)\u001b[0m \u001b[37mValidation\u001b[0m \u001b[35m━━━\u001b[0m\u001b[35m╸\u001b[0m\u001b[90m━━━━━━━━━━━━━━\u001b[0m \u001b[37m3/15\u001b[0m \u001b[37m0:00:08 • 0:00:41\u001b[0m \u001b[37m0.30it/s\u001b[0m                   \n",
      "\u001b[2K\u001b[1A\u001b[2K\u001b[1A\u001b[2K\u001b[1A\u001b[2K\u001b[37mEpoch 4/4 \u001b[0m \u001b[35m━━━━━━━━━━━━━━━━━\u001b[0m \u001b[37m7/7  \u001b[0m \u001b[37m0:00:07 • 0:00:00\u001b[0m \u001b[37m1.05it/s\u001b[0m \u001b[37mv_num: 0 val_loss:\u001b[0m[0m                   \n"
     ]
    },
    {
     "name": "stderr",
     "output_type": "stream",
     "text": [
      "\u001b[2m\u001b[36m(RayTrainWorker pid=143170)\u001b[0m `Trainer.fit` stopped: `max_epochs=5` reached.\n"
     ]
    },
    {
     "name": "stdout",
     "output_type": "stream",
     "text": [
      "\u001b[2m\u001b[36m(RayTrainWorker pid=143270)\u001b[0m                                                               \u001b[37m2.302 train_loss: \u001b[0m\u001b[32m [repeated 27x across cluster]\u001b[0m\n",
      "\u001b[2m\u001b[36m(RayTrainWorker pid=143270)\u001b[0m                                                               \u001b[37m2.304             \u001b[0m\u001b[32m [repeated 28x across cluster]\u001b[0m\n",
      "\u001b[2m\u001b[36m(RayTrainWorker pid=143270)\u001b[0m \u001b[37mValidation\u001b[0m \u001b[35m━━━━━━\u001b[0m\u001b[90m╺\u001b[0m\u001b[90m━━━━━━━━━━━\u001b[0m \u001b[37m5/15\u001b[0m \u001b[37m0:00:11 • 0:00:25\u001b[0m \u001b[37m0.41it/s\u001b[0m                   \u001b[32m [repeated 36x across cluster]\u001b[0m\n",
      "\u001b[2K\u001b[1A\u001b[2K\u001b[1A\u001b[2K\u001b[1A\u001b[2K\u001b[37mEpoch 4/4 \u001b[0m \u001b[35m━━━━━━━━━━━━━━━━━━\u001b[0m \u001b[37m7/7\u001b[0m \u001b[37m0:00:06 • 0:00:00\u001b[0m \u001b[37m1.27it/s\u001b[0m \u001b[37mv_num: 0 val_loss: \u001b[0m\u001b[32m [repeated 4x across cluster]\u001b[0m\n",
      "\u001b[2m\u001b[36m(RayTrainWorker pid=143270)\u001b[0m \u001b[37mValidation\u001b[0m \u001b[35m━━━━━━━━━━━━━━\u001b[0m\u001b[35m╸\u001b[0m\u001b[90m━━\u001b[0m \u001b[37m13/15\u001b[0m \u001b[37m0:00:17 • 0:00:03\u001b[0m \u001b[37m0.72it/s\u001b[0m                   \n",
      "\u001b[2K\u001b[1A\u001b[2K\u001b[1A\u001b[2K\u001b[1A\u001b[2K\u001b[37mEpoch 4/4 \u001b[0m \u001b[35m━━━━━━━━━━━━━━━━━━\u001b[0m \u001b[37m7/7 \u001b[0m \u001b[37m0:00:07 • 0:00:00\u001b[0m \u001b[37m1.08it/s\u001b[0m \u001b[37mv_num: 0 val_loss:\u001b[0m[0m                   \n",
      "\u001b[2K\u001b[1A\u001b[2K\u001b[1A\u001b[2K\u001b[1A\u001b[2K\u001b[37mEpoch 4/4 \u001b[0m \u001b[35m━━━━━━━━━━━━━━━━━━\u001b[0m \u001b[37m7/7 \u001b[0m \u001b[37m0:00:07 • 0:00:00\u001b[0m \u001b[37m1.08it/s\u001b[0m \u001b[37mv_num: 0 val_loss:\u001b[0m[0m                   \n",
      "\u001b[2K\u001b[1A\u001b[2K\u001b[1A\u001b[2K\u001b[1A\u001b[2K\u001b[37mEpoch 4/4 \u001b[0m \u001b[35m━━━━━━━━━━━━━━━━━━\u001b[0m \u001b[37m7/7 \u001b[0m \u001b[37m0:00:07 • 0:00:00\u001b[0m \u001b[37m1.08it/s\u001b[0m \u001b[37mv_num: 0 val_loss:\u001b[0m[0m                   \n",
      "\u001b[2m\u001b[36m(RayTrainWorker pid=143245)\u001b[0m                                                              \u001b[37m2.271 train_loss:  \u001b[0m\u001b[32m [repeated 29x across cluster]\u001b[0m\n",
      "\u001b[2m\u001b[36m(RayTrainWorker pid=143245)\u001b[0m                                                              \u001b[37m2.282              \u001b[0m\u001b[32m [repeated 30x across cluster]\u001b[0m\n",
      "\u001b[2m\u001b[36m(RayTrainWorker pid=143245)\u001b[0m \u001b[37mValidation\u001b[0m \u001b[35m━━━━━━━━━━━━━━━━━\u001b[0m \u001b[37m15/15\u001b[0m \u001b[37m0:00:18 • 0:00:00\u001b[0m \u001b[37m0.77it/s\u001b[0m                   \u001b[32m [repeated 40x across cluster]\u001b[0m\n"
     ]
    },
    {
     "name": "stderr",
     "output_type": "stream",
     "text": [
      "\u001b[2m\u001b[36m(RayTrainWorker pid=143264)\u001b[0m `Trainer.fit` stopped: `max_epochs=5` reached.\u001b[32m [repeated 2x across cluster]\u001b[0m\n"
     ]
    },
    {
     "name": "stdout",
     "output_type": "stream",
     "text": [
      "\u001b[2K\u001b[1A\u001b[2K\u001b[1A\u001b[2K\u001b[37mEpoch 4/4 \u001b[0m \u001b[35m━━━━━━━━━━━━━━━━━━\u001b[0m \u001b[37m7/7\u001b[0m \u001b[37m0:00:06 • 0:00:00\u001b[0m \u001b[37m1.14it/s\u001b[0m \u001b[37mv_num: 0 val_loss: \u001b[0m\u001b[32m [repeated 6x across cluster]\u001b[0m\n",
      "\u001b[2K\u001b[1A\u001b[2K\u001b[1A\u001b[2K\u001b[1A\u001b[2K\u001b[37mEpoch 4/4 \u001b[0m \u001b[35m━━━━━━━━━━━━━━━━━\u001b[0m \u001b[37m7/7  \u001b[0m \u001b[37m0:00:12 • 0:00:00\u001b[0m \u001b[37m0.58it/s\u001b[0m \u001b[37mv_num: 0 val_loss:\u001b[0m\u001b[32m [repeated 13x across cluster]\u001b[0m\n",
      "\u001b[2K\u001b[1A\u001b[2K\u001b[1A\u001b[2K\u001b[1A\u001b[2K\u001b[37mEpoch 4/4 \u001b[0m \u001b[35m━━━━━━━━━━━━━━━━━━\u001b[0m \u001b[37m7/7\u001b[0m \u001b[37m0:00:12 • 0:00:00\u001b[0m \u001b[37m0.58it/s\u001b[0m \u001b[37mv_num: 0 val_loss: \u001b[0m    \n"
     ]
    },
    {
     "name": "stderr",
     "output_type": "stream",
     "text": [
      "\u001b[2m\u001b[36m(LightningTrainer pid=148327)\u001b[0m 2023-06-22 17:27:12,181\tINFO backend_executor.py:137 -- Starting distributed worker processes: ['148439 (192.168.2.113)']\n",
      "\u001b[2m\u001b[36m(RayTrainWorker pid=143229)\u001b[0m `Trainer.fit` stopped: `max_epochs=5` reached.\u001b[32m [repeated 4x across cluster]\u001b[0m\n",
      "\u001b[2m\u001b[36m(RayTrainWorker pid=148439)\u001b[0m 2023-06-22 17:27:13,527\tINFO config.py:86 -- Setting up process group for: env:// [rank=0, world_size=1]\n",
      "\u001b[2m\u001b[36m(RayTrainWorker pid=148439)\u001b[0m GPU available: False, used: False\n",
      "\u001b[2m\u001b[36m(RayTrainWorker pid=148439)\u001b[0m TPU available: False, using: 0 TPU cores\n",
      "\u001b[2m\u001b[36m(RayTrainWorker pid=148439)\u001b[0m IPU available: False, using: 0 IPUs\n",
      "\u001b[2m\u001b[36m(RayTrainWorker pid=148439)\u001b[0m HPU available: False, using: 0 HPUs\n"
     ]
    },
    {
     "name": "stdout",
     "output_type": "stream",
     "text": [
      "\u001b[2m\u001b[36m(RayTrainWorker pid=148439)\u001b[0m Files already downloaded and verified\n",
      "\u001b[2m\u001b[36m(RayTrainWorker pid=143229)\u001b[0m                                                              \u001b[37m2.082 train_loss:  \u001b[0m\u001b[32m [repeated 45x across cluster]\u001b[0m\n",
      "\u001b[2m\u001b[36m(RayTrainWorker pid=143229)\u001b[0m \u001b[?25h\u001b[32m [repeated 50x across cluster]\u001b[0m\n",
      "\u001b[2K\u001b[1A\u001b[2K\u001b[1A\u001b[2K\u001b[1A\u001b[2K\u001b[37mEpoch 4/4 \u001b[0m \u001b[35m━━━━━━━━━━━━━━━━━\u001b[0m \u001b[37m7/7  \u001b[0m \u001b[37m0:00:12 • 0:00:00\u001b[0m \u001b[37m0.58it/s\u001b[0m \u001b[37mv_num: 0 val_loss:\u001b[0m\u001b[32m [repeated 49x across cluster]\u001b[0m\n",
      "\u001b[2K\u001b[1A\u001b[2K\u001b[1A\u001b[2K\u001b[37mEpoch 4/4 \u001b[0m \u001b[35m━━━━━━━━━━━━━━━━━━\u001b[0m \u001b[37m7/7\u001b[0m \u001b[37m0:00:12 • 0:00:00\u001b[0m \u001b[37m0.58it/s\u001b[0m \u001b[37mv_num: 0 val_loss: \u001b[0m\u001b[32m [repeated 3x across cluster]\u001b[0m\n",
      "\u001b[2K\u001b[1A\u001b[2K\u001b[1A\u001b[2K\u001b[1A\u001b[2K\u001b[37mEpoch 4/4 \u001b[0m \u001b[35m━━━━━━━━━━━━━━━━━\u001b[0m \u001b[37m7/7  \u001b[0m \u001b[37m0:00:12 • 0:00:00\u001b[0m \u001b[37m0.58it/s\u001b[0m \u001b[37mv_num: 0 val_loss:\u001b[0m\u001b[32m [repeated 2x across cluster]\u001b[0m\n",
      "\u001b[2m\u001b[36m(RayTrainWorker pid=148439)\u001b[0m Files already downloaded and verified\n"
     ]
    },
    {
     "name": "stderr",
     "output_type": "stream",
     "text": [
      "\u001b[2m\u001b[36m(RayTrainWorker pid=148439)\u001b[0m Missing logger folder: /home/raffi/Projects/OPT4ML-project/tune_cifar10/LightningTrainer_1f9d2_00008_8_lr=0.0000,weight_decay=0.0000_2023-06-22_17-19-05/rank_0/lightning_logs\n"
     ]
    },
    {
     "name": "stdout",
     "output_type": "stream",
     "text": [
      "\u001b[2m\u001b[36m(RayTrainWorker pid=148439)\u001b[0m ┏━━━┳━━━━━━━┳━━━━━━━━━━━━━━━━━━┳━━━━━━━━┓\n",
      "\u001b[2m\u001b[36m(RayTrainWorker pid=148439)\u001b[0m ┡━━━╇━━━━━━━╇━━━━━━━━━━━━━━━━━━╇━━━━━━━━┩\n",
      "\u001b[2m\u001b[36m(RayTrainWorker pid=148439)\u001b[0m │\u001b[2m \u001b[0m\u001b[2m0\u001b[0m\u001b[2m \u001b[0m│ model │ SmallNet         │  530 K │\n",
      "\u001b[2m\u001b[36m(RayTrainWorker pid=148439)\u001b[0m │\u001b[2m \u001b[0m\u001b[2m1\u001b[0m\u001b[2m \u001b[0m│ loss  │ CrossEntropyLoss │      0 │\n",
      "\u001b[2m\u001b[36m(RayTrainWorker pid=148439)\u001b[0m └───┴───────┴──────────────────┴────────┘\n",
      "\u001b[2m\u001b[36m(RayTrainWorker pid=148439)\u001b[0m \u001b[1mTrainable params\u001b[0m: 530 K                                                         \n",
      "\u001b[2m\u001b[36m(RayTrainWorker pid=148439)\u001b[0m \u001b[1mTotal params\u001b[0m: 530 K                                                             \n",
      "\u001b[2m\u001b[36m(RayTrainWorker pid=148439)\u001b[0m \u001b[1mTotal estimated model params size (MB)\u001b[0m: 2                                       \n"
     ]
    },
    {
     "name": "stderr",
     "output_type": "stream",
     "text": [
      "\u001b[2m\u001b[36m(RayTrainWorker pid=148439)\u001b[0m E0622 17:27:16.645401073  148479 fork_posix.cc:76]           Other threads are currently calling into gRPC, skipping fork() handlers\n",
      "\u001b[2m\u001b[36m(RayTrainWorker pid=148439)\u001b[0m E0622 17:27:16.737593763  148479 fork_posix.cc:76]           Other threads are currently calling into gRPC, skipping fork() handlers\n"
     ]
    },
    {
     "name": "stdout",
     "output_type": "stream",
     "text": [
      "\u001b[2m\u001b[36m(RayTrainWorker pid=148439)\u001b[0m g/trainer/connectors/data_connector.py:480: PossibleUserWarning: Your \n",
      "\u001b[2m\u001b[36m(RayTrainWorker pid=148439)\u001b[0m `val_dataloader`'s sampler has shuffling enabled, it is strongly recommended \n",
      "\u001b[2m\u001b[36m(RayTrainWorker pid=148439)\u001b[0m that you turn shuffling off for val/test dataloaders.\n",
      "\u001b[2m\u001b[36m(RayTrainWorker pid=148439)\u001b[0m   rank_zero_warn(\n",
      "\u001b[2m\u001b[36m(RayTrainWorker pid=148439)\u001b[0m g/trainer/connectors/data_connector.py:432: PossibleUserWarning: The dataloader,\n",
      "\u001b[2m\u001b[36m(RayTrainWorker pid=148439)\u001b[0m val_dataloader, does not have many workers which may be a bottleneck. Consider \n",
      "\u001b[2m\u001b[36m(RayTrainWorker pid=148439)\u001b[0m increasing the value of the `num_workers` argument` (try 16 which is the number \n",
      "\u001b[2m\u001b[36m(RayTrainWorker pid=148439)\u001b[0m of cpus on this machine) in the `DataLoader` init to improve performance.\n",
      "\u001b[2m\u001b[36m(RayTrainWorker pid=148439)\u001b[0m   rank_zero_warn(\n"
     ]
    },
    {
     "name": "stderr",
     "output_type": "stream",
     "text": [
      "\u001b[2m\u001b[36m(RayTrainWorker pid=148439)\u001b[0m E0622 17:27:16.983672835  148479 fork_posix.cc:76]           Other threads are currently calling into gRPC, skipping fork() handlers\n",
      "\u001b[2m\u001b[36m(RayTrainWorker pid=148439)\u001b[0m E0622 17:27:17.070557671  148479 fork_posix.cc:76]           Other threads are currently calling into gRPC, skipping fork() handlers\n"
     ]
    },
    {
     "name": "stdout",
     "output_type": "stream",
     "text": [
      "\u001b[2m\u001b[36m(RayTrainWorker pid=148439)\u001b[0m g/trainer/connectors/data_connector.py:432: PossibleUserWarning: The dataloader,\n",
      "\u001b[2m\u001b[36m(RayTrainWorker pid=148439)\u001b[0m train_dataloader, does not have many workers which may be a bottleneck. Consider\n",
      "\u001b[2m\u001b[36m(RayTrainWorker pid=148439)\u001b[0m increasing the value of the `num_workers` argument` (try 16 which is the number \n",
      "\u001b[2m\u001b[36m(RayTrainWorker pid=148439)\u001b[0m of cpus on this machine) in the `DataLoader` init to improve performance.\n",
      "\u001b[2m\u001b[36m(RayTrainWorker pid=148439)\u001b[0m   rank_zero_warn(\n",
      "\u001b[2m\u001b[36m(RayTrainWorker pid=148439)\u001b[0m g/loops/fit_loop.py:280: PossibleUserWarning: The number of training batches (7)\n",
      "\u001b[2m\u001b[36m(RayTrainWorker pid=148439)\u001b[0m is smaller than the logging interval Trainer(log_every_n_steps=50). Set a lower \n",
      "\u001b[2m\u001b[36m(RayTrainWorker pid=148439)\u001b[0m value for log_every_n_steps if you want to see logs for the training epoch.\n",
      "\u001b[2m\u001b[36m(RayTrainWorker pid=148439)\u001b[0m   rank_zero_warn(\n",
      "\u001b[2K\u001b[37mEpoch 0/4 \u001b[0m \u001b[90m━━━━━━━━━━━━━━━━━━\u001b[0m \u001b[37m0/7\u001b[0m \u001b[37m0:00:00 • -:--:--\u001b[0m \u001b[37m0.00it/s\u001b[0m \u001b[37mv_num: 0 val_loss: \u001b[0m\n",
      "\u001b[2K\u001b[37mEpoch 0/4 \u001b[0m \u001b[35m━━━━━━━━━━━\u001b[0m\u001b[35m╸\u001b[0m\u001b[90m━━━━━━━━━━━━━━━\u001b[0m \u001b[37m3/7\u001b[0m \u001b[37m0:00:00 • 0:00:01\u001b[0m \u001b[37m11.31it/s\u001b[0m \u001b[37mv_num: 0 \u001b[0m\n"
     ]
    },
    {
     "name": "stderr",
     "output_type": "stream",
     "text": [
      "\u001b[2m\u001b[36m(RayTrainWorker pid=148439)\u001b[0m E0622 17:27:17.778575593  148479 fork_posix.cc:76]           Other threads are currently calling into gRPC, skipping fork() handlers\n",
      "\u001b[2m\u001b[36m(RayTrainWorker pid=148439)\u001b[0m E0622 17:27:18.754451568  148479 fork_posix.cc:76]           Other threads are currently calling into gRPC, skipping fork() handlers\n"
     ]
    },
    {
     "name": "stdout",
     "output_type": "stream",
     "text": [
      "\u001b[2K\u001b[37mEpoch 1/4 \u001b[0m \u001b[35m━━\u001b[0m\u001b[35m╸\u001b[0m\u001b[90m━━━━━━━━━━━━━━━\u001b[0m \u001b[37m1/7\u001b[0m \u001b[37m0:00:00 • -:--:--\u001b[0m \u001b[37m0.00it/s\u001b[0m \u001b[37mv_num: 0 val_loss: \u001b[0m\n"
     ]
    },
    {
     "name": "stderr",
     "output_type": "stream",
     "text": [
      "\u001b[2m\u001b[36m(RayTrainWorker pid=148439)\u001b[0m E0622 17:27:19.504719824  148479 fork_posix.cc:76]           Other threads are currently calling into gRPC, skipping fork() handlers\n"
     ]
    },
    {
     "name": "stdout",
     "output_type": "stream",
     "text": [
      "\u001b[2m\u001b[36m(RayTrainWorker pid=148439)\u001b[0m                                                               \u001b[37m2.307 train_loss: \u001b[0m\u001b[32m [repeated 14x across cluster]\u001b[0m\n",
      "\u001b[2m\u001b[36m(RayTrainWorker pid=148439)\u001b[0m                                                               \u001b[37m2.306             \u001b[0m\u001b[32m [repeated 15x across cluster]\u001b[0m\n",
      "\u001b[2K\u001b[1A\u001b[2K\u001b[1A\u001b[2K\u001b[37mEpoch 1/4 \u001b[0m \u001b[35m━━━━━━━━━━━━━━━━━━\u001b[0m \u001b[37m7/7\u001b[0m \u001b[37m0:00:00 • 0:00:00\u001b[0m \u001b[37m11.79it/s\u001b[0m \u001b[37mv_num: 0 val_loss:\u001b[0m\u001b[32m [repeated 29x across cluster]\u001b[0m\n",
      "\u001b[2m\u001b[36m(RayTrainWorker pid=148439)\u001b[0m                                                               \u001b[37m2.306             \u001b[0m\n",
      "\u001b[2K\u001b[37mEpoch 1/4 \u001b[0m \u001b[90m━━━━━━━━━━━━━━━━━━━━━━━━━━━━━━━━━━━━\u001b[0m \u001b[37m0/7\u001b[0m \u001b[37m0:00:00 • -:--:--\u001b[0m \u001b[37m0.00it/s\u001b[0m \u001b[32m [repeated 31x across cluster]\u001b[0m\n"
     ]
    },
    {
     "name": "stderr",
     "output_type": "stream",
     "text": [
      "\u001b[2m\u001b[36m(RayTrainWorker pid=148439)\u001b[0m E0622 17:27:20.409206363  148479 fork_posix.cc:76]           Other threads are currently calling into gRPC, skipping fork() handlers\n"
     ]
    },
    {
     "name": "stdout",
     "output_type": "stream",
     "text": [
      "\u001b[2K\u001b[37mEpoch 2/4 \u001b[0m \u001b[35m━━\u001b[0m\u001b[35m╸\u001b[0m\u001b[90m━━━━━━━━━━━━━━━\u001b[0m \u001b[37m1/7\u001b[0m \u001b[37m0:00:00 • -:--:--\u001b[0m \u001b[37m0.00it/s\u001b[0m \u001b[37mv_num: 0 val_loss: \u001b[0m\n"
     ]
    },
    {
     "name": "stderr",
     "output_type": "stream",
     "text": [
      "\u001b[2m\u001b[36m(RayTrainWorker pid=148439)\u001b[0m E0622 17:27:21.218399654  148479 fork_posix.cc:76]           Other threads are currently calling into gRPC, skipping fork() handlers\n",
      "\u001b[2m\u001b[36m(RayTrainWorker pid=148439)\u001b[0m E0622 17:27:22.153548408  148479 fork_posix.cc:76]           Other threads are currently calling into gRPC, skipping fork() handlers\n"
     ]
    },
    {
     "name": "stdout",
     "output_type": "stream",
     "text": [
      "\u001b[2K\u001b[37mEpoch 3/4 \u001b[0m \u001b[35m━━\u001b[0m\u001b[35m╸\u001b[0m\u001b[90m━━━━━━━━━━━━━━━\u001b[0m \u001b[37m1/7\u001b[0m \u001b[37m0:00:00 • -:--:--\u001b[0m \u001b[37m0.00it/s\u001b[0m \u001b[37mv_num: 0 val_loss: \u001b[0m\n"
     ]
    },
    {
     "name": "stderr",
     "output_type": "stream",
     "text": [
      "\u001b[2m\u001b[36m(RayTrainWorker pid=148439)\u001b[0m E0622 17:27:22.927071792  148479 fork_posix.cc:76]           Other threads are currently calling into gRPC, skipping fork() handlers\n",
      "\u001b[2m\u001b[36m(RayTrainWorker pid=148439)\u001b[0m E0622 17:27:23.929150627  148479 fork_posix.cc:76]           Other threads are currently calling into gRPC, skipping fork() handlers\n"
     ]
    },
    {
     "name": "stdout",
     "output_type": "stream",
     "text": [
      "\u001b[2K\u001b[37mEpoch 4/4 \u001b[0m \u001b[35m━━\u001b[0m\u001b[35m╸\u001b[0m\u001b[90m━━━━━━━━━━━━━━━\u001b[0m \u001b[37m1/7\u001b[0m \u001b[37m0:00:00 • -:--:--\u001b[0m \u001b[37m0.00it/s\u001b[0m \u001b[37mv_num: 0 val_loss: \u001b[0m\n",
      "\u001b[2m\u001b[36m(RayTrainWorker pid=148439)\u001b[0m                                                               \u001b[37m2.308 train_loss: \u001b[0m\u001b[32m [repeated 101x across cluster]\u001b[0m\n",
      "\u001b[2m\u001b[36m(RayTrainWorker pid=148439)\u001b[0m                                                               \u001b[37m2.303             \u001b[0m\u001b[32m [repeated 149x across cluster]\u001b[0m\n",
      "\u001b[2K\u001b[1A\u001b[2K\u001b[1A\u001b[2K\u001b[37mEpoch 4/4 \u001b[0m \u001b[35m━━━━━━━━━━━━\u001b[0m\u001b[35m╸\u001b[0m\u001b[90m━━━━━\u001b[0m \u001b[37m5/7\u001b[0m \u001b[37m0:00:00 • 0:00:01\u001b[0m \u001b[37m11.97it/s\u001b[0m \u001b[37mv_num: 0 val_loss:\u001b[0m\u001b[32m [repeated 82x across cluster]\u001b[0m\n",
      "\u001b[2K\u001b[37mEpoch 4/4 \u001b[0m \u001b[90m━━━━━━━━━━━━━━━━━━━━━━━━━━━━━━━━━━━━\u001b[0m \u001b[37m0/7\u001b[0m \u001b[37m0:00:00 • -:--:--\u001b[0m \u001b[37m0.00it/s\u001b[0m \u001b[32m [repeated 74x across cluster]\u001b[0m\n"
     ]
    },
    {
     "name": "stderr",
     "output_type": "stream",
     "text": [
      "\u001b[2m\u001b[36m(RayTrainWorker pid=148439)\u001b[0m E0622 17:27:24.663885131  148479 fork_posix.cc:76]           Other threads are currently calling into gRPC, skipping fork() handlers\n",
      "\u001b[2m\u001b[36m(RayTrainWorker pid=148439)\u001b[0m `Trainer.fit` stopped: `max_epochs=5` reached.\n",
      "2023-06-22 17:27:27,885\tINFO tune.py:1111 -- Total run time: 503.66 seconds (503.36 seconds for the tuning loop).\n"
     ]
    }
   ],
   "source": [
    "ray.init(ignore_reinit_error=True)\n",
    "\n",
    "\"\"\"\n",
    "The tune gridsearch will try all possible combinations of the parameters in the config dictionary.\n",
    "By using the np.logspace function we can define a range of values to try for each parameter.\n",
    "The argument \"num\" defines the number of values to try in the range.\n",
    "    \n",
    "\"\"\"\n",
    "\n",
    "config = {\n",
    "    \"optimizer\": torch.optim.SGD,\n",
    "    \"parameters\":{\n",
    "        \"lr\": tune.grid_search(np.logspace(-1, -6, num=3)),\n",
    "        \"weight_decay\": tune.grid_search(np.logspace(-1, -6, num=3)),\n",
    "    }\n",
    "}\n",
    "\n",
    "result_grid = train(config=config, epochs=5, num_workers=1, cwd=os.path.join(os.getcwd()), logger_name=\"SmallNet\", train_batches_per_epoch=0.01, val_batches_per_epoch=0.1)"
   ]
  },
  {
   "attachments": {},
   "cell_type": "markdown",
   "metadata": {},
   "source": [
    "## Analysis Examples"
   ]
  },
  {
   "attachments": {},
   "cell_type": "markdown",
   "metadata": {},
   "source": [
    "The Ray Tune documentation explains how to use a ResultGrid for data analysis"
   ]
  },
  {
   "cell_type": "code",
   "execution_count": 7,
   "metadata": {},
   "outputs": [
    {
     "data": {
      "text/html": [
       "<div>\n",
       "<style scoped>\n",
       "    .dataframe tbody tr th:only-of-type {\n",
       "        vertical-align: middle;\n",
       "    }\n",
       "\n",
       "    .dataframe tbody tr th {\n",
       "        vertical-align: top;\n",
       "    }\n",
       "\n",
       "    .dataframe thead th {\n",
       "        text-align: right;\n",
       "    }\n",
       "</style>\n",
       "<table border=\"1\" class=\"dataframe\">\n",
       "  <thead>\n",
       "    <tr style=\"text-align: right;\">\n",
       "      <th></th>\n",
       "      <th>_report_on</th>\n",
       "      <th>val_loss</th>\n",
       "      <th>train_loss</th>\n",
       "      <th>epoch</th>\n",
       "      <th>step</th>\n",
       "      <th>timestamp</th>\n",
       "      <th>time_this_iter_s</th>\n",
       "      <th>should_checkpoint</th>\n",
       "      <th>done</th>\n",
       "      <th>training_iteration</th>\n",
       "      <th>...</th>\n",
       "      <th>config/lightning_config/_trainer_init_config/accelerator</th>\n",
       "      <th>config/lightning_config/_trainer_init_config/callbacks</th>\n",
       "      <th>config/lightning_config/_trainer_init_config/limit_train_batches</th>\n",
       "      <th>config/lightning_config/_trainer_init_config/limit_val_batches</th>\n",
       "      <th>config/lightning_config/_trainer_init_config/logger</th>\n",
       "      <th>config/lightning_config/_trainer_init_config/max_epochs</th>\n",
       "      <th>config/lightning_config/_module_init_config/config/optimizer</th>\n",
       "      <th>config/lightning_config/_module_init_config/config/parameters/lr</th>\n",
       "      <th>config/lightning_config/_module_init_config/config/parameters/weight_decay</th>\n",
       "      <th>logdir</th>\n",
       "    </tr>\n",
       "  </thead>\n",
       "  <tbody>\n",
       "    <tr>\n",
       "      <th>0</th>\n",
       "      <td>train_epoch_end</td>\n",
       "      <td>2.257882</td>\n",
       "      <td>2.270078</td>\n",
       "      <td>4</td>\n",
       "      <td>35</td>\n",
       "      <td>1687447622</td>\n",
       "      <td>28.674237</td>\n",
       "      <td>True</td>\n",
       "      <td>False</td>\n",
       "      <td>5</td>\n",
       "      <td>...</td>\n",
       "      <td>cpu</td>\n",
       "      <td>[&lt;pytorch_lightning.callbacks.progress.rich_pr...</td>\n",
       "      <td>0.01</td>\n",
       "      <td>0.1</td>\n",
       "      <td>None</td>\n",
       "      <td>5</td>\n",
       "      <td>&lt;class 'torch.optim.sgd.SGD'&gt;</td>\n",
       "      <td>0.100000</td>\n",
       "      <td>0.100000</td>\n",
       "      <td>/home/raffi/Projects/OPT4ML-project/tune_cifar...</td>\n",
       "    </tr>\n",
       "    <tr>\n",
       "      <th>1</th>\n",
       "      <td>train_epoch_end</td>\n",
       "      <td>2.302101</td>\n",
       "      <td>2.299784</td>\n",
       "      <td>4</td>\n",
       "      <td>35</td>\n",
       "      <td>1687447622</td>\n",
       "      <td>30.371433</td>\n",
       "      <td>True</td>\n",
       "      <td>False</td>\n",
       "      <td>5</td>\n",
       "      <td>...</td>\n",
       "      <td>cpu</td>\n",
       "      <td>[&lt;pytorch_lightning.callbacks.progress.rich_pr...</td>\n",
       "      <td>0.01</td>\n",
       "      <td>0.1</td>\n",
       "      <td>None</td>\n",
       "      <td>5</td>\n",
       "      <td>&lt;class 'torch.optim.sgd.SGD'&gt;</td>\n",
       "      <td>0.000316</td>\n",
       "      <td>0.100000</td>\n",
       "      <td>/home/raffi/Projects/OPT4ML-project/tune_cifar...</td>\n",
       "    </tr>\n",
       "    <tr>\n",
       "      <th>2</th>\n",
       "      <td>train_epoch_end</td>\n",
       "      <td>2.304426</td>\n",
       "      <td>2.308110</td>\n",
       "      <td>4</td>\n",
       "      <td>35</td>\n",
       "      <td>1687447619</td>\n",
       "      <td>29.326876</td>\n",
       "      <td>True</td>\n",
       "      <td>False</td>\n",
       "      <td>5</td>\n",
       "      <td>...</td>\n",
       "      <td>cpu</td>\n",
       "      <td>[&lt;pytorch_lightning.callbacks.progress.rich_pr...</td>\n",
       "      <td>0.01</td>\n",
       "      <td>0.1</td>\n",
       "      <td>None</td>\n",
       "      <td>5</td>\n",
       "      <td>&lt;class 'torch.optim.sgd.SGD'&gt;</td>\n",
       "      <td>0.000001</td>\n",
       "      <td>0.100000</td>\n",
       "      <td>/home/raffi/Projects/OPT4ML-project/tune_cifar...</td>\n",
       "    </tr>\n",
       "    <tr>\n",
       "      <th>3</th>\n",
       "      <td>train_epoch_end</td>\n",
       "      <td>2.081753</td>\n",
       "      <td>2.136994</td>\n",
       "      <td>4</td>\n",
       "      <td>35</td>\n",
       "      <td>1687447625</td>\n",
       "      <td>27.525374</td>\n",
       "      <td>True</td>\n",
       "      <td>False</td>\n",
       "      <td>5</td>\n",
       "      <td>...</td>\n",
       "      <td>cpu</td>\n",
       "      <td>[&lt;pytorch_lightning.callbacks.progress.rich_pr...</td>\n",
       "      <td>0.01</td>\n",
       "      <td>0.1</td>\n",
       "      <td>None</td>\n",
       "      <td>5</td>\n",
       "      <td>&lt;class 'torch.optim.sgd.SGD'&gt;</td>\n",
       "      <td>0.100000</td>\n",
       "      <td>0.000316</td>\n",
       "      <td>/home/raffi/Projects/OPT4ML-project/tune_cifar...</td>\n",
       "    </tr>\n",
       "    <tr>\n",
       "      <th>4</th>\n",
       "      <td>train_epoch_end</td>\n",
       "      <td>2.307823</td>\n",
       "      <td>2.302437</td>\n",
       "      <td>4</td>\n",
       "      <td>35</td>\n",
       "      <td>1687447602</td>\n",
       "      <td>37.509392</td>\n",
       "      <td>True</td>\n",
       "      <td>False</td>\n",
       "      <td>5</td>\n",
       "      <td>...</td>\n",
       "      <td>cpu</td>\n",
       "      <td>[&lt;pytorch_lightning.callbacks.progress.rich_pr...</td>\n",
       "      <td>0.01</td>\n",
       "      <td>0.1</td>\n",
       "      <td>None</td>\n",
       "      <td>5</td>\n",
       "      <td>&lt;class 'torch.optim.sgd.SGD'&gt;</td>\n",
       "      <td>0.000316</td>\n",
       "      <td>0.000316</td>\n",
       "      <td>/home/raffi/Projects/OPT4ML-project/tune_cifar...</td>\n",
       "    </tr>\n",
       "    <tr>\n",
       "      <th>5</th>\n",
       "      <td>train_epoch_end</td>\n",
       "      <td>2.302643</td>\n",
       "      <td>2.306276</td>\n",
       "      <td>4</td>\n",
       "      <td>35</td>\n",
       "      <td>1687447624</td>\n",
       "      <td>28.981001</td>\n",
       "      <td>True</td>\n",
       "      <td>False</td>\n",
       "      <td>5</td>\n",
       "      <td>...</td>\n",
       "      <td>cpu</td>\n",
       "      <td>[&lt;pytorch_lightning.callbacks.progress.rich_pr...</td>\n",
       "      <td>0.01</td>\n",
       "      <td>0.1</td>\n",
       "      <td>None</td>\n",
       "      <td>5</td>\n",
       "      <td>&lt;class 'torch.optim.sgd.SGD'&gt;</td>\n",
       "      <td>0.000001</td>\n",
       "      <td>0.000316</td>\n",
       "      <td>/home/raffi/Projects/OPT4ML-project/tune_cifar...</td>\n",
       "    </tr>\n",
       "    <tr>\n",
       "      <th>6</th>\n",
       "      <td>train_epoch_end</td>\n",
       "      <td>2.133723</td>\n",
       "      <td>2.177963</td>\n",
       "      <td>4</td>\n",
       "      <td>35</td>\n",
       "      <td>1687447612</td>\n",
       "      <td>33.607904</td>\n",
       "      <td>True</td>\n",
       "      <td>False</td>\n",
       "      <td>5</td>\n",
       "      <td>...</td>\n",
       "      <td>cpu</td>\n",
       "      <td>[&lt;pytorch_lightning.callbacks.progress.rich_pr...</td>\n",
       "      <td>0.01</td>\n",
       "      <td>0.1</td>\n",
       "      <td>None</td>\n",
       "      <td>5</td>\n",
       "      <td>&lt;class 'torch.optim.sgd.SGD'&gt;</td>\n",
       "      <td>0.100000</td>\n",
       "      <td>0.000001</td>\n",
       "      <td>/home/raffi/Projects/OPT4ML-project/tune_cifar...</td>\n",
       "    </tr>\n",
       "    <tr>\n",
       "      <th>7</th>\n",
       "      <td>train_epoch_end</td>\n",
       "      <td>2.306571</td>\n",
       "      <td>2.310258</td>\n",
       "      <td>4</td>\n",
       "      <td>35</td>\n",
       "      <td>1687447607</td>\n",
       "      <td>30.866678</td>\n",
       "      <td>True</td>\n",
       "      <td>False</td>\n",
       "      <td>5</td>\n",
       "      <td>...</td>\n",
       "      <td>cpu</td>\n",
       "      <td>[&lt;pytorch_lightning.callbacks.progress.rich_pr...</td>\n",
       "      <td>0.01</td>\n",
       "      <td>0.1</td>\n",
       "      <td>None</td>\n",
       "      <td>5</td>\n",
       "      <td>&lt;class 'torch.optim.sgd.SGD'&gt;</td>\n",
       "      <td>0.000316</td>\n",
       "      <td>0.000001</td>\n",
       "      <td>/home/raffi/Projects/OPT4ML-project/tune_cifar...</td>\n",
       "    </tr>\n",
       "    <tr>\n",
       "      <th>8</th>\n",
       "      <td>train_epoch_end</td>\n",
       "      <td>2.304349</td>\n",
       "      <td>2.307060</td>\n",
       "      <td>4</td>\n",
       "      <td>35</td>\n",
       "      <td>1687447645</td>\n",
       "      <td>1.625153</td>\n",
       "      <td>True</td>\n",
       "      <td>False</td>\n",
       "      <td>5</td>\n",
       "      <td>...</td>\n",
       "      <td>cpu</td>\n",
       "      <td>[&lt;pytorch_lightning.callbacks.progress.rich_pr...</td>\n",
       "      <td>0.01</td>\n",
       "      <td>0.1</td>\n",
       "      <td>None</td>\n",
       "      <td>5</td>\n",
       "      <td>&lt;class 'torch.optim.sgd.SGD'&gt;</td>\n",
       "      <td>0.000001</td>\n",
       "      <td>0.000001</td>\n",
       "      <td>/home/raffi/Projects/OPT4ML-project/tune_cifar...</td>\n",
       "    </tr>\n",
       "  </tbody>\n",
       "</table>\n",
       "<p>9 rows × 30 columns</p>\n",
       "</div>"
      ],
      "text/plain": [
       "        _report_on  val_loss  train_loss  epoch  step   timestamp  \\\n",
       "0  train_epoch_end  2.257882    2.270078      4    35  1687447622   \n",
       "1  train_epoch_end  2.302101    2.299784      4    35  1687447622   \n",
       "2  train_epoch_end  2.304426    2.308110      4    35  1687447619   \n",
       "3  train_epoch_end  2.081753    2.136994      4    35  1687447625   \n",
       "4  train_epoch_end  2.307823    2.302437      4    35  1687447602   \n",
       "5  train_epoch_end  2.302643    2.306276      4    35  1687447624   \n",
       "6  train_epoch_end  2.133723    2.177963      4    35  1687447612   \n",
       "7  train_epoch_end  2.306571    2.310258      4    35  1687447607   \n",
       "8  train_epoch_end  2.304349    2.307060      4    35  1687447645   \n",
       "\n",
       "   time_this_iter_s  should_checkpoint   done  training_iteration  ...  \\\n",
       "0         28.674237               True  False                   5  ...   \n",
       "1         30.371433               True  False                   5  ...   \n",
       "2         29.326876               True  False                   5  ...   \n",
       "3         27.525374               True  False                   5  ...   \n",
       "4         37.509392               True  False                   5  ...   \n",
       "5         28.981001               True  False                   5  ...   \n",
       "6         33.607904               True  False                   5  ...   \n",
       "7         30.866678               True  False                   5  ...   \n",
       "8          1.625153               True  False                   5  ...   \n",
       "\n",
       "  config/lightning_config/_trainer_init_config/accelerator  \\\n",
       "0                                                cpu         \n",
       "1                                                cpu         \n",
       "2                                                cpu         \n",
       "3                                                cpu         \n",
       "4                                                cpu         \n",
       "5                                                cpu         \n",
       "6                                                cpu         \n",
       "7                                                cpu         \n",
       "8                                                cpu         \n",
       "\n",
       "  config/lightning_config/_trainer_init_config/callbacks  \\\n",
       "0  [<pytorch_lightning.callbacks.progress.rich_pr...       \n",
       "1  [<pytorch_lightning.callbacks.progress.rich_pr...       \n",
       "2  [<pytorch_lightning.callbacks.progress.rich_pr...       \n",
       "3  [<pytorch_lightning.callbacks.progress.rich_pr...       \n",
       "4  [<pytorch_lightning.callbacks.progress.rich_pr...       \n",
       "5  [<pytorch_lightning.callbacks.progress.rich_pr...       \n",
       "6  [<pytorch_lightning.callbacks.progress.rich_pr...       \n",
       "7  [<pytorch_lightning.callbacks.progress.rich_pr...       \n",
       "8  [<pytorch_lightning.callbacks.progress.rich_pr...       \n",
       "\n",
       "   config/lightning_config/_trainer_init_config/limit_train_batches  \\\n",
       "0                                               0.01                  \n",
       "1                                               0.01                  \n",
       "2                                               0.01                  \n",
       "3                                               0.01                  \n",
       "4                                               0.01                  \n",
       "5                                               0.01                  \n",
       "6                                               0.01                  \n",
       "7                                               0.01                  \n",
       "8                                               0.01                  \n",
       "\n",
       "   config/lightning_config/_trainer_init_config/limit_val_batches  \\\n",
       "0                                                0.1                \n",
       "1                                                0.1                \n",
       "2                                                0.1                \n",
       "3                                                0.1                \n",
       "4                                                0.1                \n",
       "5                                                0.1                \n",
       "6                                                0.1                \n",
       "7                                                0.1                \n",
       "8                                                0.1                \n",
       "\n",
       "  config/lightning_config/_trainer_init_config/logger  \\\n",
       "0                                               None    \n",
       "1                                               None    \n",
       "2                                               None    \n",
       "3                                               None    \n",
       "4                                               None    \n",
       "5                                               None    \n",
       "6                                               None    \n",
       "7                                               None    \n",
       "8                                               None    \n",
       "\n",
       "  config/lightning_config/_trainer_init_config/max_epochs  \\\n",
       "0                                                  5        \n",
       "1                                                  5        \n",
       "2                                                  5        \n",
       "3                                                  5        \n",
       "4                                                  5        \n",
       "5                                                  5        \n",
       "6                                                  5        \n",
       "7                                                  5        \n",
       "8                                                  5        \n",
       "\n",
       "   config/lightning_config/_module_init_config/config/optimizer  \\\n",
       "0                      <class 'torch.optim.sgd.SGD'>              \n",
       "1                      <class 'torch.optim.sgd.SGD'>              \n",
       "2                      <class 'torch.optim.sgd.SGD'>              \n",
       "3                      <class 'torch.optim.sgd.SGD'>              \n",
       "4                      <class 'torch.optim.sgd.SGD'>              \n",
       "5                      <class 'torch.optim.sgd.SGD'>              \n",
       "6                      <class 'torch.optim.sgd.SGD'>              \n",
       "7                      <class 'torch.optim.sgd.SGD'>              \n",
       "8                      <class 'torch.optim.sgd.SGD'>              \n",
       "\n",
       "   config/lightning_config/_module_init_config/config/parameters/lr  \\\n",
       "0                                           0.100000                  \n",
       "1                                           0.000316                  \n",
       "2                                           0.000001                  \n",
       "3                                           0.100000                  \n",
       "4                                           0.000316                  \n",
       "5                                           0.000001                  \n",
       "6                                           0.100000                  \n",
       "7                                           0.000316                  \n",
       "8                                           0.000001                  \n",
       "\n",
       "  config/lightning_config/_module_init_config/config/parameters/weight_decay  \\\n",
       "0                                           0.100000                           \n",
       "1                                           0.100000                           \n",
       "2                                           0.100000                           \n",
       "3                                           0.000316                           \n",
       "4                                           0.000316                           \n",
       "5                                           0.000316                           \n",
       "6                                           0.000001                           \n",
       "7                                           0.000001                           \n",
       "8                                           0.000001                           \n",
       "\n",
       "                                              logdir  \n",
       "0  /home/raffi/Projects/OPT4ML-project/tune_cifar...  \n",
       "1  /home/raffi/Projects/OPT4ML-project/tune_cifar...  \n",
       "2  /home/raffi/Projects/OPT4ML-project/tune_cifar...  \n",
       "3  /home/raffi/Projects/OPT4ML-project/tune_cifar...  \n",
       "4  /home/raffi/Projects/OPT4ML-project/tune_cifar...  \n",
       "5  /home/raffi/Projects/OPT4ML-project/tune_cifar...  \n",
       "6  /home/raffi/Projects/OPT4ML-project/tune_cifar...  \n",
       "7  /home/raffi/Projects/OPT4ML-project/tune_cifar...  \n",
       "8  /home/raffi/Projects/OPT4ML-project/tune_cifar...  \n",
       "\n",
       "[9 rows x 30 columns]"
      ]
     },
     "metadata": {},
     "output_type": "display_data"
    },
    {
     "data": {
      "text/html": [
       "<div>\n",
       "<style scoped>\n",
       "    .dataframe tbody tr th:only-of-type {\n",
       "        vertical-align: middle;\n",
       "    }\n",
       "\n",
       "    .dataframe tbody tr th {\n",
       "        vertical-align: top;\n",
       "    }\n",
       "\n",
       "    .dataframe thead th {\n",
       "        text-align: right;\n",
       "    }\n",
       "</style>\n",
       "<table border=\"1\" class=\"dataframe\">\n",
       "  <thead>\n",
       "    <tr style=\"text-align: right;\">\n",
       "      <th></th>\n",
       "      <th>_report_on</th>\n",
       "      <th>val_loss</th>\n",
       "      <th>train_loss</th>\n",
       "      <th>epoch</th>\n",
       "      <th>step</th>\n",
       "      <th>timestamp</th>\n",
       "      <th>time_this_iter_s</th>\n",
       "      <th>should_checkpoint</th>\n",
       "      <th>done</th>\n",
       "      <th>training_iteration</th>\n",
       "      <th>trial_id</th>\n",
       "      <th>date</th>\n",
       "      <th>time_total_s</th>\n",
       "      <th>pid</th>\n",
       "      <th>hostname</th>\n",
       "      <th>node_ip</th>\n",
       "      <th>time_since_restore</th>\n",
       "      <th>iterations_since_restore</th>\n",
       "    </tr>\n",
       "  </thead>\n",
       "  <tbody>\n",
       "    <tr>\n",
       "      <th>0</th>\n",
       "      <td>train_epoch_end</td>\n",
       "      <td>2.276614</td>\n",
       "      <td>2.296946</td>\n",
       "      <td>0</td>\n",
       "      <td>7</td>\n",
       "      <td>1687447383</td>\n",
       "      <td>198.210204</td>\n",
       "      <td>True</td>\n",
       "      <td>False</td>\n",
       "      <td>1</td>\n",
       "      <td>1f9d2_00003</td>\n",
       "      <td>2023-06-22_17-23-03</td>\n",
       "      <td>198.210204</td>\n",
       "      <td>142689</td>\n",
       "      <td>thinkpad-t14s</td>\n",
       "      <td>192.168.2.113</td>\n",
       "      <td>198.210204</td>\n",
       "      <td>1</td>\n",
       "    </tr>\n",
       "    <tr>\n",
       "      <th>1</th>\n",
       "      <td>train_epoch_end</td>\n",
       "      <td>2.231882</td>\n",
       "      <td>2.260250</td>\n",
       "      <td>1</td>\n",
       "      <td>14</td>\n",
       "      <td>1687447428</td>\n",
       "      <td>50.204640</td>\n",
       "      <td>True</td>\n",
       "      <td>False</td>\n",
       "      <td>2</td>\n",
       "      <td>1f9d2_00003</td>\n",
       "      <td>2023-06-22_17-23-53</td>\n",
       "      <td>248.414844</td>\n",
       "      <td>142689</td>\n",
       "      <td>thinkpad-t14s</td>\n",
       "      <td>192.168.2.113</td>\n",
       "      <td>248.414844</td>\n",
       "      <td>2</td>\n",
       "    </tr>\n",
       "    <tr>\n",
       "      <th>2</th>\n",
       "      <td>train_epoch_end</td>\n",
       "      <td>2.185483</td>\n",
       "      <td>2.237744</td>\n",
       "      <td>2</td>\n",
       "      <td>21</td>\n",
       "      <td>1687447515</td>\n",
       "      <td>83.641230</td>\n",
       "      <td>True</td>\n",
       "      <td>False</td>\n",
       "      <td>3</td>\n",
       "      <td>1f9d2_00003</td>\n",
       "      <td>2023-06-22_17-25-17</td>\n",
       "      <td>332.056074</td>\n",
       "      <td>142689</td>\n",
       "      <td>thinkpad-t14s</td>\n",
       "      <td>192.168.2.113</td>\n",
       "      <td>332.056074</td>\n",
       "      <td>3</td>\n",
       "    </tr>\n",
       "    <tr>\n",
       "      <th>3</th>\n",
       "      <td>train_epoch_end</td>\n",
       "      <td>2.096072</td>\n",
       "      <td>2.145077</td>\n",
       "      <td>3</td>\n",
       "      <td>28</td>\n",
       "      <td>1687447598</td>\n",
       "      <td>81.195885</td>\n",
       "      <td>True</td>\n",
       "      <td>False</td>\n",
       "      <td>4</td>\n",
       "      <td>1f9d2_00003</td>\n",
       "      <td>2023-06-22_17-26-38</td>\n",
       "      <td>413.251959</td>\n",
       "      <td>142689</td>\n",
       "      <td>thinkpad-t14s</td>\n",
       "      <td>192.168.2.113</td>\n",
       "      <td>413.251959</td>\n",
       "      <td>4</td>\n",
       "    </tr>\n",
       "    <tr>\n",
       "      <th>4</th>\n",
       "      <td>train_epoch_end</td>\n",
       "      <td>2.081753</td>\n",
       "      <td>2.136994</td>\n",
       "      <td>4</td>\n",
       "      <td>35</td>\n",
       "      <td>1687447625</td>\n",
       "      <td>27.525374</td>\n",
       "      <td>True</td>\n",
       "      <td>False</td>\n",
       "      <td>5</td>\n",
       "      <td>1f9d2_00003</td>\n",
       "      <td>2023-06-22_17-27-06</td>\n",
       "      <td>440.777333</td>\n",
       "      <td>142689</td>\n",
       "      <td>thinkpad-t14s</td>\n",
       "      <td>192.168.2.113</td>\n",
       "      <td>440.777333</td>\n",
       "      <td>5</td>\n",
       "    </tr>\n",
       "  </tbody>\n",
       "</table>\n",
       "</div>"
      ],
      "text/plain": [
       "        _report_on  val_loss  train_loss  epoch  step   timestamp  \\\n",
       "0  train_epoch_end  2.276614    2.296946      0     7  1687447383   \n",
       "1  train_epoch_end  2.231882    2.260250      1    14  1687447428   \n",
       "2  train_epoch_end  2.185483    2.237744      2    21  1687447515   \n",
       "3  train_epoch_end  2.096072    2.145077      3    28  1687447598   \n",
       "4  train_epoch_end  2.081753    2.136994      4    35  1687447625   \n",
       "\n",
       "   time_this_iter_s  should_checkpoint   done  training_iteration  \\\n",
       "0        198.210204               True  False                   1   \n",
       "1         50.204640               True  False                   2   \n",
       "2         83.641230               True  False                   3   \n",
       "3         81.195885               True  False                   4   \n",
       "4         27.525374               True  False                   5   \n",
       "\n",
       "      trial_id                 date  time_total_s     pid       hostname  \\\n",
       "0  1f9d2_00003  2023-06-22_17-23-03    198.210204  142689  thinkpad-t14s   \n",
       "1  1f9d2_00003  2023-06-22_17-23-53    248.414844  142689  thinkpad-t14s   \n",
       "2  1f9d2_00003  2023-06-22_17-25-17    332.056074  142689  thinkpad-t14s   \n",
       "3  1f9d2_00003  2023-06-22_17-26-38    413.251959  142689  thinkpad-t14s   \n",
       "4  1f9d2_00003  2023-06-22_17-27-06    440.777333  142689  thinkpad-t14s   \n",
       "\n",
       "         node_ip  time_since_restore  iterations_since_restore  \n",
       "0  192.168.2.113          198.210204                         1  \n",
       "1  192.168.2.113          248.414844                         2  \n",
       "2  192.168.2.113          332.056074                         3  \n",
       "3  192.168.2.113          413.251959                         4  \n",
       "4  192.168.2.113          440.777333                         5  "
      ]
     },
     "metadata": {},
     "output_type": "display_data"
    },
    {
     "data": {
      "text/plain": [
       "<Axes: xlabel='epoch'>"
      ]
     },
     "execution_count": 7,
     "metadata": {},
     "output_type": "execute_result"
    },
    {
     "data": {
      "image/png": "[encoded data removed]",
      "text/plain": [
       "<Figure size 640x480 with 1 Axes>"
      ]
     },
     "metadata": {},
     "output_type": "display_data"
    }
   ],
   "source": [
    "display(result_grid.get_dataframe())\n",
    "best_results = result_grid.get_best_result(\"val_loss\", \"min\")\n",
    "display(best_results.metrics_dataframe)\n",
    "best_results.metrics_dataframe.plot(\"epoch\", \"val_loss\")"
   ]
  },
  {
   "cell_type": "code",
   "execution_count": 8,
   "metadata": {},
   "outputs": [
    {
     "data": {
      "text/plain": [
       "Text(0, 0.5, 'Mean Validation Loss')"
      ]
     },
     "execution_count": 8,
     "metadata": {},
     "output_type": "execute_result"
    },
    {
     "data": {
      "image/png": "[encoded data removed]",
      "text/plain": [
       "<Figure size 640x480 with 1 Axes>"
      ]
     },
     "metadata": {},
     "output_type": "display_data"
    }
   ],
   "source": [
    "ax = None\n",
    "for result in result_grid:\n",
    "    parameters = result.config[\"lightning_config\"][\"_module_init_config\"][\"config\"][\"parameters\"]\n",
    "    label = f\"lr={parameters['lr']}, momentum={parameters['weight_decay']}\"\n",
    "    if ax is None:\n",
    "        ax = result.metrics_dataframe.plot(\"epoch\", \"val_loss\", label=label)\n",
    "    else:\n",
    "        result.metrics_dataframe.plot(\"epoch\", \"val_loss\", ax=ax, label=label)\n",
    "ax.set_title(\"Validation Loss vs. Epoch for All Trials\")\n",
    "ax.set_ylabel(\"Mean Validation Loss\")"
   ]
  }
 ],
 "metadata": {
  "kernelspec": {
   "display_name": "opt4ml",
   "language": "python",
   "name": "python3"
  },
  "language_info": {
   "codemirror_mode": {
    "name": "ipython",
    "version": 3
   },
   "file_extension": ".py",
   "mimetype": "text/x-python",
   "name": "python",
   "nbconvert_exporter": "python",
   "pygments_lexer": "ipython3",
   "version": "3.10.11"
  },
  "orig_nbformat": 4
 },
 "nbformat": 4,
 "nbformat_minor": 2
}
